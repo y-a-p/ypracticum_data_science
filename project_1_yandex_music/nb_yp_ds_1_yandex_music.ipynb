{
 "cells": [
  {
   "cell_type": "markdown",
   "metadata": {
    "toc": true
   },
   "source": [
    "<h1>Содержание<span class=\"tocSkip\"></span></h1>\n",
    "<div class=\"toc\"><ul class=\"toc-item\"><li><span><a href=\"#Обзор-данных\" data-toc-modified-id=\"Обзор-данных-1\"><span class=\"toc-item-num\">1&nbsp;&nbsp;</span>Обзор данных</a></span></li><li><span><a href=\"#Предобработка-данных\" data-toc-modified-id=\"Предобработка-данных-2\"><span class=\"toc-item-num\">2&nbsp;&nbsp;</span>Предобработка данных</a></span><ul class=\"toc-item\"><li><span><a href=\"#Стиль-заголовков\" data-toc-modified-id=\"Стиль-заголовков-2.1\"><span class=\"toc-item-num\">2.1&nbsp;&nbsp;</span>Стиль заголовков</a></span></li><li><span><a href=\"#Пропуски-значений\" data-toc-modified-id=\"Пропуски-значений-2.2\"><span class=\"toc-item-num\">2.2&nbsp;&nbsp;</span>Пропуски значений</a></span></li><li><span><a href=\"#Дубликаты\" data-toc-modified-id=\"Дубликаты-2.3\"><span class=\"toc-item-num\">2.3&nbsp;&nbsp;</span>Дубликаты</a></span></li></ul></li><li><span><a href=\"#Проверка-гипотез\" data-toc-modified-id=\"Проверка-гипотез-3\"><span class=\"toc-item-num\">3&nbsp;&nbsp;</span>Проверка гипотез</a></span><ul class=\"toc-item\"><li><span><a href=\"#Сравнение-поведения-пользователей-двух-столиц\" data-toc-modified-id=\"Сравнение-поведения-пользователей-двух-столиц-3.1\"><span class=\"toc-item-num\">3.1&nbsp;&nbsp;</span>Сравнение поведения пользователей двух столиц</a></span></li><li><span><a href=\"#Музыка-в-начале-и-в-конце-недели\" data-toc-modified-id=\"Музыка-в-начале-и-в-конце-недели-3.2\"><span class=\"toc-item-num\">3.2&nbsp;&nbsp;</span>Музыка в начале и в конце недели</a></span></li><li><span><a href=\"#Жанровые-предпочтения-в-Москве-и-Петербурге\" data-toc-modified-id=\"Жанровые-предпочтения-в-Москве-и-Петербурге-3.3\"><span class=\"toc-item-num\">3.3&nbsp;&nbsp;</span>Жанровые предпочтения в Москве и Петербурге</a></span></li></ul></li><li><span><a href=\"#Итоги-исследования\" data-toc-modified-id=\"Итоги-исследования-4\"><span class=\"toc-item-num\">4&nbsp;&nbsp;</span>Итоги исследования</a></span></li></ul></div>"
   ]
  },
  {
   "cell_type": "markdown",
   "metadata": {
    "id": "E0vqbgi9ay0H"
   },
   "source": [
    "# Яндекс.Музыка"
   ]
  },
  {
   "cell_type": "markdown",
   "metadata": {
    "id": "VUC88oWjTJw2"
   },
   "source": [
    "Сравнение Москвы и Петербурга окружено мифами. Например:\n",
    " * Москва — мегаполис, подчинённый жёсткому ритму рабочей недели;\n",
    " * Петербург — культурная столица, со своими вкусами.\n",
    "\n",
    "На данных Яндекс.Музыки нужно сравнить поведение пользователей двух столиц.\n",
    "\n",
    "**Цель исследования** — проверить три гипотезы:\n",
    "1. Активность пользователей зависит от дня недели. Причём в Москве и Петербурге это проявляется по-разному.\n",
    "2. В понедельник утром в Москве преобладают одни жанры, а в Петербурге — другие. Так же и вечером пятницы преобладают разные жанры — в зависимости от города. \n",
    "3. Москва и Петербург предпочитают разные жанры музыки. В Москве чаще слушают поп-музыку, в Петербурге — русский рэп.\n",
    "\n",
    "**Ход исследования**\n",
    "\n",
    "Данные о поведении пользователей находятся в файле `yandex_music_project.csv`. О качестве данных ничего не известно. Поэтому перед проверкой гипотез понадобится обзор данных. \n",
    "\n",
    "Будут проверены данные на ошибки и проведена оценка их влияние на исследование. Затем, на этапе предобработки самые критичные ошибки данных будут исправлены.\n",
    " \n",
    "Таким образом, исследование пройдёт в три этапа:\n",
    " 1. Обзор данных.\n",
    " 2. Предобработка данных.\n",
    " 3. Проверка гипотез."
   ]
  },
  {
   "cell_type": "markdown",
   "metadata": {
    "id": "Ml1hmfXC_Zcs"
   },
   "source": [
    "## Обзор данных\n",
    "\n",
    "Составим первое представление о данных Яндекс.Музыки."
   ]
  },
  {
   "cell_type": "markdown",
   "metadata": {
    "id": "57eAOGIz_Zcs"
   },
   "source": [
    "Основной инструмент аналитика — `pandas`. Импортируем эту библиотеку."
   ]
  },
  {
   "cell_type": "code",
   "execution_count": 8,
   "metadata": {
    "id": "AXN7PHPN_Zcs"
   },
   "outputs": [],
   "source": [
    "# импорт библиотеки pandas\n",
    "import pandas as pd"
   ]
  },
  {
   "cell_type": "markdown",
   "metadata": {
    "id": "SG23P8tt_Zcs"
   },
   "source": [
    "Прочитаем файл `yandex_music_project.csv` и сохраним его в переменной `df`:"
   ]
  },
  {
   "cell_type": "code",
   "execution_count": 9,
   "metadata": {
    "id": "fFVu7vqh_Zct"
   },
   "outputs": [],
   "source": [
    "# чтение файла с данными и сохранение в df\n",
    "df = pd.read_csv('/yandex_music_project.csv')"
   ]
  },
  {
   "cell_type": "markdown",
   "metadata": {
    "id": "rDoOMd3uTqnZ"
   },
   "source": [
    "Выведем на экран первые десять строк таблицы:"
   ]
  },
  {
   "cell_type": "code",
   "execution_count": 10,
   "metadata": {
    "id": "oWTVX3gW_Zct"
   },
   "outputs": [
    {
     "data": {
      "text/html": [
       "<div>\n",
       "<style scoped>\n",
       "    .dataframe tbody tr th:only-of-type {\n",
       "        vertical-align: middle;\n",
       "    }\n",
       "\n",
       "    .dataframe tbody tr th {\n",
       "        vertical-align: top;\n",
       "    }\n",
       "\n",
       "    .dataframe thead th {\n",
       "        text-align: right;\n",
       "    }\n",
       "</style>\n",
       "<table border=\"1\" class=\"dataframe\">\n",
       "  <thead>\n",
       "    <tr style=\"text-align: right;\">\n",
       "      <th></th>\n",
       "      <th>userID</th>\n",
       "      <th>Track</th>\n",
       "      <th>artist</th>\n",
       "      <th>genre</th>\n",
       "      <th>City</th>\n",
       "      <th>time</th>\n",
       "      <th>Day</th>\n",
       "    </tr>\n",
       "  </thead>\n",
       "  <tbody>\n",
       "    <tr>\n",
       "      <th>0</th>\n",
       "      <td>FFB692EC</td>\n",
       "      <td>Kamigata To Boots</td>\n",
       "      <td>The Mass Missile</td>\n",
       "      <td>rock</td>\n",
       "      <td>Saint-Petersburg</td>\n",
       "      <td>20:28:33</td>\n",
       "      <td>Wednesday</td>\n",
       "    </tr>\n",
       "    <tr>\n",
       "      <th>1</th>\n",
       "      <td>55204538</td>\n",
       "      <td>Delayed Because of Accident</td>\n",
       "      <td>Andreas Rönnberg</td>\n",
       "      <td>rock</td>\n",
       "      <td>Moscow</td>\n",
       "      <td>14:07:09</td>\n",
       "      <td>Friday</td>\n",
       "    </tr>\n",
       "    <tr>\n",
       "      <th>2</th>\n",
       "      <td>20EC38</td>\n",
       "      <td>Funiculì funiculà</td>\n",
       "      <td>Mario Lanza</td>\n",
       "      <td>pop</td>\n",
       "      <td>Saint-Petersburg</td>\n",
       "      <td>20:58:07</td>\n",
       "      <td>Wednesday</td>\n",
       "    </tr>\n",
       "    <tr>\n",
       "      <th>3</th>\n",
       "      <td>A3DD03C9</td>\n",
       "      <td>Dragons in the Sunset</td>\n",
       "      <td>Fire + Ice</td>\n",
       "      <td>folk</td>\n",
       "      <td>Saint-Petersburg</td>\n",
       "      <td>08:37:09</td>\n",
       "      <td>Monday</td>\n",
       "    </tr>\n",
       "    <tr>\n",
       "      <th>4</th>\n",
       "      <td>E2DC1FAE</td>\n",
       "      <td>Soul People</td>\n",
       "      <td>Space Echo</td>\n",
       "      <td>dance</td>\n",
       "      <td>Moscow</td>\n",
       "      <td>08:34:34</td>\n",
       "      <td>Monday</td>\n",
       "    </tr>\n",
       "    <tr>\n",
       "      <th>5</th>\n",
       "      <td>842029A1</td>\n",
       "      <td>Преданная</td>\n",
       "      <td>IMPERVTOR</td>\n",
       "      <td>rusrap</td>\n",
       "      <td>Saint-Petersburg</td>\n",
       "      <td>13:09:41</td>\n",
       "      <td>Friday</td>\n",
       "    </tr>\n",
       "    <tr>\n",
       "      <th>6</th>\n",
       "      <td>4CB90AA5</td>\n",
       "      <td>True</td>\n",
       "      <td>Roman Messer</td>\n",
       "      <td>dance</td>\n",
       "      <td>Moscow</td>\n",
       "      <td>13:00:07</td>\n",
       "      <td>Wednesday</td>\n",
       "    </tr>\n",
       "    <tr>\n",
       "      <th>7</th>\n",
       "      <td>F03E1C1F</td>\n",
       "      <td>Feeling This Way</td>\n",
       "      <td>Polina Griffith</td>\n",
       "      <td>dance</td>\n",
       "      <td>Moscow</td>\n",
       "      <td>20:47:49</td>\n",
       "      <td>Wednesday</td>\n",
       "    </tr>\n",
       "    <tr>\n",
       "      <th>8</th>\n",
       "      <td>8FA1D3BE</td>\n",
       "      <td>И вновь продолжается бой</td>\n",
       "      <td>NaN</td>\n",
       "      <td>ruspop</td>\n",
       "      <td>Moscow</td>\n",
       "      <td>09:17:40</td>\n",
       "      <td>Friday</td>\n",
       "    </tr>\n",
       "    <tr>\n",
       "      <th>9</th>\n",
       "      <td>E772D5C0</td>\n",
       "      <td>Pessimist</td>\n",
       "      <td>NaN</td>\n",
       "      <td>dance</td>\n",
       "      <td>Saint-Petersburg</td>\n",
       "      <td>21:20:49</td>\n",
       "      <td>Wednesday</td>\n",
       "    </tr>\n",
       "  </tbody>\n",
       "</table>\n",
       "</div>"
      ],
      "text/plain": [
       "     userID                        Track            artist   genre  \\\n",
       "0  FFB692EC            Kamigata To Boots  The Mass Missile    rock   \n",
       "1  55204538  Delayed Because of Accident  Andreas Rönnberg    rock   \n",
       "2    20EC38            Funiculì funiculà       Mario Lanza     pop   \n",
       "3  A3DD03C9        Dragons in the Sunset        Fire + Ice    folk   \n",
       "4  E2DC1FAE                  Soul People        Space Echo   dance   \n",
       "5  842029A1                    Преданная         IMPERVTOR  rusrap   \n",
       "6  4CB90AA5                         True      Roman Messer   dance   \n",
       "7  F03E1C1F             Feeling This Way   Polina Griffith   dance   \n",
       "8  8FA1D3BE     И вновь продолжается бой               NaN  ruspop   \n",
       "9  E772D5C0                    Pessimist               NaN   dance   \n",
       "\n",
       "             City        time        Day  \n",
       "0  Saint-Petersburg  20:28:33  Wednesday  \n",
       "1            Moscow  14:07:09     Friday  \n",
       "2  Saint-Petersburg  20:58:07  Wednesday  \n",
       "3  Saint-Petersburg  08:37:09     Monday  \n",
       "4            Moscow  08:34:34     Monday  \n",
       "5  Saint-Petersburg  13:09:41     Friday  \n",
       "6            Moscow  13:00:07  Wednesday  \n",
       "7            Moscow  20:47:49  Wednesday  \n",
       "8            Moscow  09:17:40     Friday  \n",
       "9  Saint-Petersburg  21:20:49  Wednesday  "
      ]
     },
     "execution_count": 10,
     "metadata": {},
     "output_type": "execute_result"
    }
   ],
   "source": [
    "# получение первых 10 строк таблицы df\n",
    "df.head(10)"
   ]
  },
  {
   "cell_type": "markdown",
   "metadata": {
    "id": "EO73Kwic_Zct"
   },
   "source": [
    "Одной командой получим общую информацию о таблице:"
   ]
  },
  {
   "cell_type": "code",
   "execution_count": 12,
   "metadata": {
    "id": "DSf2kIb-_Zct"
   },
   "outputs": [
    {
     "name": "stdout",
     "output_type": "stream",
     "text": [
      "<class 'pandas.core.frame.DataFrame'>\n",
      "RangeIndex: 65079 entries, 0 to 65078\n",
      "Data columns (total 7 columns):\n",
      " #   Column    Non-Null Count  Dtype \n",
      "---  ------    --------------  ----- \n",
      " 0     userID  65079 non-null  object\n",
      " 1   Track     63848 non-null  object\n",
      " 2   artist    57876 non-null  object\n",
      " 3   genre     63881 non-null  object\n",
      " 4     City    65079 non-null  object\n",
      " 5   time      65079 non-null  object\n",
      " 6   Day       65079 non-null  object\n",
      "dtypes: object(7)\n",
      "memory usage: 3.5+ MB\n"
     ]
    }
   ],
   "source": [
    "# получение общей информации о данных в таблице df\n",
    "df.info()"
   ]
  },
  {
   "cell_type": "markdown",
   "metadata": {
    "id": "TaQ2Iwbr_Zct"
   },
   "source": [
    "Итак, в таблице семь столбцов. Тип данных во всех столбцах — `object`.\n",
    "\n",
    "Согласно документации к данным:\n",
    "* `userID` — идентификатор пользователя;\n",
    "* `Track` — название трека;  \n",
    "* `artist` — имя исполнителя;\n",
    "* `genre` — название жанра;\n",
    "* `City` — город пользователя;\n",
    "* `time` — время начала прослушивания;\n",
    "* `Day` — день недели.\n",
    "\n",
    "В названиях колонок видны три нарушения стиля:\n",
    "1. Строчные буквы сочетаются с прописными.\n",
    "2. Встречаются пробелы.\n",
    "3. Несколько слов в названии столбца не разделены нижним подчеркиванием.\n",
    "\n",
    "Количество значений в столбцах различается. Значит, в данных есть пропущенные значения."
   ]
  },
  {
   "cell_type": "markdown",
   "metadata": {
    "id": "MCB6-dXG_Zct"
   },
   "source": [
    "**Выводы**\n",
    "\n",
    "В каждой строке таблицы — данные о прослушанном треке. Часть колонок описывает саму композицию: название, исполнителя и жанр. Остальные данные рассказывают о пользователе: из какого он города, когда он слушал музыку. \n",
    "\n",
    "Предварительно можно утверждать, что, данных достаточно для проверки гипотез. Но встречаются пропуски в данных, а в названиях колонок — расхождения с хорошим стилем.\n",
    "\n",
    "Чтобы двигаться дальше, нужно устранить проблемы в данных."
   ]
  },
  {
   "cell_type": "markdown",
   "metadata": {
    "id": "SjYF6Ub9_Zct"
   },
   "source": [
    "## Предобработка данных\n",
    "Исправим стиль в заголовках столбцов, исключим пропуски. Затем проверем данные на дубликаты."
   ]
  },
  {
   "cell_type": "markdown",
   "metadata": {
    "id": "dIaKXr29_Zct"
   },
   "source": [
    "### Стиль заголовков\n",
    "Выведем на экран названия столбцов:"
   ]
  },
  {
   "cell_type": "code",
   "execution_count": 13,
   "metadata": {
    "id": "oKOTdF_Q_Zct",
    "scrolled": true
   },
   "outputs": [
    {
     "data": {
      "text/plain": [
       "Index(['  userID', 'Track', 'artist', 'genre', '  City  ', 'time', 'Day'], dtype='object')"
      ]
     },
     "execution_count": 13,
     "metadata": {},
     "output_type": "execute_result"
    }
   ],
   "source": [
    "# перечень названий столбцов таблицы df\n",
    "df.columns"
   ]
  },
  {
   "cell_type": "markdown",
   "metadata": {
    "id": "zj5534cv_Zct"
   },
   "source": [
    "Приведем названия в соответствие с хорошим стилем:\n",
    "* несколько слов в названии запишем в «змеином_регистре»,\n",
    "* все символы сделем строчными,\n",
    "* устраним пробелы.\n",
    "\n",
    "Для этого переименуем колонки так:\n",
    "* `'  userID'` → `'user_id'`;\n",
    "* `'Track'` → `'track'`;\n",
    "* `'  City  '` → `'city'`;\n",
    "* `'Day'` → `'day'`."
   ]
  },
  {
   "cell_type": "code",
   "execution_count": 14,
   "metadata": {
    "id": "ISlFqs5y_Zct"
   },
   "outputs": [],
   "source": [
    "# переименование столбцов\n",
    "df = df.rename(columns={'  userID': 'user_id' , 'Track': 'track', '  City  ': 'city', 'Day': 'day'})"
   ]
  },
  {
   "cell_type": "markdown",
   "metadata": {
    "id": "1dqbh00J_Zct"
   },
   "source": [
    "Проверим результат. Для этого ещё раз выведем на экран названия столбцов:"
   ]
  },
  {
   "cell_type": "code",
   "execution_count": 15,
   "metadata": {
    "id": "d4NOAmTW_Zct"
   },
   "outputs": [
    {
     "data": {
      "text/plain": [
       "Index(['user_id', 'track', 'artist', 'genre', 'city', 'time', 'day'], dtype='object')"
      ]
     },
     "execution_count": 15,
     "metadata": {},
     "output_type": "execute_result"
    }
   ],
   "source": [
    "# проверка результатов - перечень названий столбцов\n",
    "df.columns"
   ]
  },
  {
   "cell_type": "markdown",
   "metadata": {
    "id": "5ISfbcfY_Zct"
   },
   "source": [
    "### Пропуски значений\n",
    "Сначала посчитаем, сколько в таблице пропущенных значений. Для этого достаточно двух методов `pandas`:"
   ]
  },
  {
   "cell_type": "code",
   "execution_count": 16,
   "metadata": {
    "id": "RskX29qr_Zct"
   },
   "outputs": [
    {
     "data": {
      "text/plain": [
       "user_id       0\n",
       "track      1231\n",
       "artist     7203\n",
       "genre      1198\n",
       "city          0\n",
       "time          0\n",
       "day           0\n",
       "dtype: int64"
      ]
     },
     "execution_count": 16,
     "metadata": {},
     "output_type": "execute_result"
    }
   ],
   "source": [
    "# подсчёт пропусков\n",
    "df.isna().sum()"
   ]
  },
  {
   "cell_type": "markdown",
   "metadata": {
    "id": "qubhgnlO_Zct"
   },
   "source": [
    "Не все пропущенные значения влияют на исследование. Так в `track` и `artist` пропуски не важны для нашей работы. Достаточно заменить их явными обозначениями.\n",
    "\n",
    "Но пропуски в `genre` могут помешать сравнению музыкальных вкусов в Москве и Санкт-Петербурге. На практике было бы правильно установить причину пропусков и восстановить данные. Такой возможности нет в учебном проекте. Придётся:\n",
    "* заполнить и эти пропуски явными обозначениями,\n",
    "* оценить, насколько они повредят расчётам. "
   ]
  },
  {
   "cell_type": "markdown",
   "metadata": {
    "id": "fSv2laPA_Zct"
   },
   "source": [
    "Заменим пропущенные значения в столбцах `track`, `artist` и `genre` на строку `'unknown'`. Для этого создадим список `columns_to_replace`, переберем его элементы циклом `for` и для каждого столбца выполним замену пропущенных значений:"
   ]
  },
  {
   "cell_type": "code",
   "execution_count": 17,
   "metadata": {
    "id": "KplB5qWs_Zct"
   },
   "outputs": [],
   "source": [
    "# перебор названий столбцов в цикле и замена пропущенных значений на 'unknown'\n",
    "columns_to_replace = ['track', 'artist', 'genre']\n",
    "for column in columns_to_replace:\n",
    "    df[column] = df[column].fillna('unknown')"
   ]
  },
  {
   "cell_type": "markdown",
   "metadata": {
    "id": "Ilsm-MZo_Zct"
   },
   "source": [
    "Убедимся, что в таблице не осталось пропусков. Для этого ещё раз посчитаем пропущенные значения."
   ]
  },
  {
   "cell_type": "code",
   "execution_count": 18,
   "metadata": {
    "id": "Tq4nYRX4_Zct"
   },
   "outputs": [
    {
     "data": {
      "text/plain": [
       "user_id    0\n",
       "track      0\n",
       "artist     0\n",
       "genre      0\n",
       "city       0\n",
       "time       0\n",
       "day        0\n",
       "dtype: int64"
      ]
     },
     "execution_count": 18,
     "metadata": {},
     "output_type": "execute_result"
    }
   ],
   "source": [
    "# подсчёт пропусков\n",
    "df.isna().sum()"
   ]
  },
  {
   "cell_type": "markdown",
   "metadata": {
    "id": "BWKRtBJ3_Zct"
   },
   "source": [
    "### Дубликаты\n",
    "Посчитаем явные дубликаты в таблице одной командой:"
   ]
  },
  {
   "cell_type": "code",
   "execution_count": 19,
   "metadata": {
    "id": "36eES_S0_Zct"
   },
   "outputs": [
    {
     "data": {
      "text/plain": [
       "3826"
      ]
     },
     "execution_count": 19,
     "metadata": {},
     "output_type": "execute_result"
    }
   ],
   "source": [
    "# подсчёт явных дубликатов\n",
    "df.duplicated().sum()"
   ]
  },
  {
   "cell_type": "markdown",
   "metadata": {
    "id": "Ot25h6XR_Zct"
   },
   "source": [
    "Вызовем специальный метод `pandas`, чтобы удалить явные дубликаты:"
   ]
  },
  {
   "cell_type": "code",
   "execution_count": 20,
   "metadata": {
    "id": "exFHq6tt_Zct"
   },
   "outputs": [],
   "source": [
    "# удаление явных дубликатов (с удалением старых индексов и формированием новых)\n",
    "df = df.drop_duplicates().reset_index(drop=True) "
   ]
  },
  {
   "cell_type": "markdown",
   "metadata": {
    "id": "Im2YwBEG_Zct"
   },
   "source": [
    "Ещё раз посчитаем явные дубликаты в таблице — убедимся, что полностью от них избавились:"
   ]
  },
  {
   "cell_type": "code",
   "execution_count": 21,
   "metadata": {
    "id": "-8PuNWQ0_Zct"
   },
   "outputs": [
    {
     "data": {
      "text/plain": [
       "0"
      ]
     },
     "execution_count": 21,
     "metadata": {},
     "output_type": "execute_result"
    }
   ],
   "source": [
    "# проверка на отсутствие дубликатов\n",
    "df.duplicated().sum()"
   ]
  },
  {
   "cell_type": "markdown",
   "metadata": {
    "id": "QlFBsxAr_Zct"
   },
   "source": [
    "Теперь избавимся от неявных дубликатов в колонке `genre`. Например, название одного и того же жанра может быть записано немного по-разному. Такие ошибки тоже повлияют на результат исследования."
   ]
  },
  {
   "cell_type": "markdown",
   "metadata": {
    "id": "eSjWwsOh_Zct"
   },
   "source": [
    "Выведем на экран список уникальных названий жанров, отсортированный в алфавитном порядке. Для этого:\n",
    "* извлечем нужный столбец датафрейма, \n",
    "* применем к нему метод сортировки,\n",
    "* для отсортированного столбца вызовем метод, который вернёт уникальные значения из столбца."
   ]
  },
  {
   "cell_type": "code",
   "execution_count": 22,
   "metadata": {
    "id": "JIUcqzZN_Zct"
   },
   "outputs": [
    {
     "data": {
      "text/plain": [
       "array(['acid', 'acoustic', 'action', 'adult', 'africa', 'afrikaans',\n",
       "       'alternative', 'alternativepunk', 'ambient', 'americana',\n",
       "       'animated', 'anime', 'arabesk', 'arabic', 'arena',\n",
       "       'argentinetango', 'art', 'audiobook', 'author', 'avantgarde',\n",
       "       'axé', 'baile', 'balkan', 'beats', 'bigroom', 'black', 'bluegrass',\n",
       "       'blues', 'bollywood', 'bossa', 'brazilian', 'breakbeat', 'breaks',\n",
       "       'broadway', 'cantautori', 'cantopop', 'canzone', 'caribbean',\n",
       "       'caucasian', 'celtic', 'chamber', 'chanson', 'children', 'chill',\n",
       "       'chinese', 'choral', 'christian', 'christmas', 'classical',\n",
       "       'classicmetal', 'club', 'colombian', 'comedy', 'conjazz',\n",
       "       'contemporary', 'country', 'cuban', 'dance', 'dancehall',\n",
       "       'dancepop', 'dark', 'death', 'deep', 'deutschrock', 'deutschspr',\n",
       "       'dirty', 'disco', 'dnb', 'documentary', 'downbeat', 'downtempo',\n",
       "       'drum', 'dub', 'dubstep', 'eastern', 'easy', 'electronic',\n",
       "       'electropop', 'emo', 'entehno', 'epicmetal', 'estrada', 'ethnic',\n",
       "       'eurofolk', 'european', 'experimental', 'extrememetal', 'fado',\n",
       "       'fairytail', 'film', 'fitness', 'flamenco', 'folk', 'folklore',\n",
       "       'folkmetal', 'folkrock', 'folktronica', 'forró', 'frankreich',\n",
       "       'französisch', 'french', 'funk', 'future', 'gangsta', 'garage',\n",
       "       'german', 'ghazal', 'gitarre', 'glitch', 'gospel', 'gothic',\n",
       "       'grime', 'grunge', 'gypsy', 'handsup', \"hard'n'heavy\", 'hardcore',\n",
       "       'hardstyle', 'hardtechno', 'hip', 'hip-hop', 'hiphop',\n",
       "       'historisch', 'holiday', 'hop', 'horror', 'house', 'hymn', 'idm',\n",
       "       'independent', 'indian', 'indie', 'indipop', 'industrial',\n",
       "       'inspirational', 'instrumental', 'international', 'irish', 'jam',\n",
       "       'japanese', 'jazz', 'jewish', 'jpop', 'jungle', 'k-pop',\n",
       "       'karadeniz', 'karaoke', 'kayokyoku', 'korean', 'laiko', 'latin',\n",
       "       'latino', 'leftfield', 'local', 'lounge', 'loungeelectronic',\n",
       "       'lovers', 'malaysian', 'mandopop', 'marschmusik', 'meditative',\n",
       "       'mediterranean', 'melodic', 'metal', 'metalcore', 'mexican',\n",
       "       'middle', 'minimal', 'miscellaneous', 'modern', 'mood', 'mpb',\n",
       "       'muslim', 'native', 'neoklassik', 'neue', 'new', 'newage',\n",
       "       'newwave', 'nu', 'nujazz', 'numetal', 'oceania', 'old', 'opera',\n",
       "       'orchestral', 'other', 'piano', 'podcasts', 'pop', 'popdance',\n",
       "       'popelectronic', 'popeurodance', 'poprussian', 'post',\n",
       "       'posthardcore', 'postrock', 'power', 'progmetal', 'progressive',\n",
       "       'psychedelic', 'punjabi', 'punk', 'quebecois', 'ragga', 'ram',\n",
       "       'rancheras', 'rap', 'rave', 'reggae', 'reggaeton', 'regional',\n",
       "       'relax', 'religious', 'retro', 'rhythm', 'rnb', 'rnr', 'rock',\n",
       "       'rockabilly', 'rockalternative', 'rockindie', 'rockother',\n",
       "       'romance', 'roots', 'ruspop', 'rusrap', 'rusrock', 'russian',\n",
       "       'salsa', 'samba', 'scenic', 'schlager', 'self', 'sertanejo',\n",
       "       'shanson', 'shoegazing', 'showtunes', 'singer', 'ska', 'skarock',\n",
       "       'slow', 'smooth', 'soft', 'soul', 'soulful', 'sound', 'soundtrack',\n",
       "       'southern', 'specialty', 'speech', 'spiritual', 'sport',\n",
       "       'stonerrock', 'surf', 'swing', 'synthpop', 'synthrock',\n",
       "       'sängerportrait', 'tango', 'tanzorchester', 'taraftar', 'tatar',\n",
       "       'tech', 'techno', 'teen', 'thrash', 'top', 'traditional',\n",
       "       'tradjazz', 'trance', 'tribal', 'trip', 'triphop', 'tropical',\n",
       "       'türk', 'türkçe', 'ukrrock', 'unknown', 'urban', 'uzbek',\n",
       "       'variété', 'vi', 'videogame', 'vocal', 'western', 'world',\n",
       "       'worldbeat', 'ïîï', 'электроника'], dtype=object)"
      ]
     },
     "execution_count": 22,
     "metadata": {},
     "output_type": "execute_result"
    }
   ],
   "source": [
    "# Просмотр уникальных названий жанров\n",
    "df['genre'].sort_values().unique()"
   ]
  },
  {
   "cell_type": "markdown",
   "metadata": {
    "id": "qej-Qmuo_Zct"
   },
   "source": [
    "Просмотрим список и найдем неявные дубликаты названия `hiphop`. Это могут быть названия с ошибками или альтернативные названия того же жанра.\n",
    "\n",
    "Увидем следующие неявные дубликаты:\n",
    "* *hip*,\n",
    "* *hop*,\n",
    "* *hip-hop*. \n",
    "\n",
    "Чтобы очистить от них таблицу, напишем функцию `replace_wrong_genres()` с двумя параметрами: \n",
    "* `wrong_genres` — список дубликатов,\n",
    "* `correct_genre` — строка с правильным значением.\n",
    "\n",
    "Функция должна исправить колонку `genre` в таблице `df`: заменить каждое значение из списка `wrong_genres` на значение из `correct_genre`."
   ]
  },
  {
   "cell_type": "code",
   "execution_count": 23,
   "metadata": {
    "id": "ErNDkmns_Zct"
   },
   "outputs": [],
   "source": [
    "# Функция для замены неявных дубликатов\n",
    "def replace_wrong_genres(wrong_genres, correct_genres): # на вход функции подаются список неправильных значений и строка с правильным значением\n",
    "    for wrong_genre in wrong_genres: # перебираем неправильные имена\n",
    "        df['genre'] = df['genre'].replace(wrong_genre, correct_genres) # и для каждого неправильного имени вызываем метод replace()"
   ]
  },
  {
   "cell_type": "markdown",
   "metadata": {
    "id": "aDoBJxbA_Zct"
   },
   "source": [
    "Вызовем `replace_wrong_genres()` и передадим ей такие аргументы, чтобы она устранила неявные дубликаты: вместо `hip`, `hop` и `hip-hop` в таблице должно быть значение `hiphop`:"
   ]
  },
  {
   "cell_type": "code",
   "execution_count": 24,
   "metadata": {
    "id": "YN5i2hpmSo09"
   },
   "outputs": [],
   "source": [
    "# Устранение неявных дубликатов\n",
    "duplicates = ['hip', 'hop', 'hip-hop'] # список неправильных имён\n",
    "genre = 'hiphop' # правильное имя\n",
    "replace_wrong_genres(duplicates, genre) # вызов функции, replace() внутри будет вызван 3 раза"
   ]
  },
  {
   "cell_type": "markdown",
   "metadata": {
    "id": "zQKF16_RG15m"
   },
   "source": [
    "Проверим, что заменили неправильные названия:\n",
    "\n",
    "*   hip\n",
    "*   hop\n",
    "*   hip-hop\n",
    "\n",
    "Выведем отсортированный список уникальных значений столбца `genre`:"
   ]
  },
  {
   "cell_type": "code",
   "execution_count": 25,
   "metadata": {
    "id": "wvixALnFG15m"
   },
   "outputs": [
    {
     "data": {
      "text/plain": [
       "array(['acid', 'acoustic', 'action', 'adult', 'africa', 'afrikaans',\n",
       "       'alternative', 'alternativepunk', 'ambient', 'americana',\n",
       "       'animated', 'anime', 'arabesk', 'arabic', 'arena',\n",
       "       'argentinetango', 'art', 'audiobook', 'author', 'avantgarde',\n",
       "       'axé', 'baile', 'balkan', 'beats', 'bigroom', 'black', 'bluegrass',\n",
       "       'blues', 'bollywood', 'bossa', 'brazilian', 'breakbeat', 'breaks',\n",
       "       'broadway', 'cantautori', 'cantopop', 'canzone', 'caribbean',\n",
       "       'caucasian', 'celtic', 'chamber', 'chanson', 'children', 'chill',\n",
       "       'chinese', 'choral', 'christian', 'christmas', 'classical',\n",
       "       'classicmetal', 'club', 'colombian', 'comedy', 'conjazz',\n",
       "       'contemporary', 'country', 'cuban', 'dance', 'dancehall',\n",
       "       'dancepop', 'dark', 'death', 'deep', 'deutschrock', 'deutschspr',\n",
       "       'dirty', 'disco', 'dnb', 'documentary', 'downbeat', 'downtempo',\n",
       "       'drum', 'dub', 'dubstep', 'eastern', 'easy', 'electronic',\n",
       "       'electropop', 'emo', 'entehno', 'epicmetal', 'estrada', 'ethnic',\n",
       "       'eurofolk', 'european', 'experimental', 'extrememetal', 'fado',\n",
       "       'fairytail', 'film', 'fitness', 'flamenco', 'folk', 'folklore',\n",
       "       'folkmetal', 'folkrock', 'folktronica', 'forró', 'frankreich',\n",
       "       'französisch', 'french', 'funk', 'future', 'gangsta', 'garage',\n",
       "       'german', 'ghazal', 'gitarre', 'glitch', 'gospel', 'gothic',\n",
       "       'grime', 'grunge', 'gypsy', 'handsup', \"hard'n'heavy\", 'hardcore',\n",
       "       'hardstyle', 'hardtechno', 'hiphop', 'historisch', 'holiday',\n",
       "       'horror', 'house', 'hymn', 'idm', 'independent', 'indian', 'indie',\n",
       "       'indipop', 'industrial', 'inspirational', 'instrumental',\n",
       "       'international', 'irish', 'jam', 'japanese', 'jazz', 'jewish',\n",
       "       'jpop', 'jungle', 'k-pop', 'karadeniz', 'karaoke', 'kayokyoku',\n",
       "       'korean', 'laiko', 'latin', 'latino', 'leftfield', 'local',\n",
       "       'lounge', 'loungeelectronic', 'lovers', 'malaysian', 'mandopop',\n",
       "       'marschmusik', 'meditative', 'mediterranean', 'melodic', 'metal',\n",
       "       'metalcore', 'mexican', 'middle', 'minimal', 'miscellaneous',\n",
       "       'modern', 'mood', 'mpb', 'muslim', 'native', 'neoklassik', 'neue',\n",
       "       'new', 'newage', 'newwave', 'nu', 'nujazz', 'numetal', 'oceania',\n",
       "       'old', 'opera', 'orchestral', 'other', 'piano', 'podcasts', 'pop',\n",
       "       'popdance', 'popelectronic', 'popeurodance', 'poprussian', 'post',\n",
       "       'posthardcore', 'postrock', 'power', 'progmetal', 'progressive',\n",
       "       'psychedelic', 'punjabi', 'punk', 'quebecois', 'ragga', 'ram',\n",
       "       'rancheras', 'rap', 'rave', 'reggae', 'reggaeton', 'regional',\n",
       "       'relax', 'religious', 'retro', 'rhythm', 'rnb', 'rnr', 'rock',\n",
       "       'rockabilly', 'rockalternative', 'rockindie', 'rockother',\n",
       "       'romance', 'roots', 'ruspop', 'rusrap', 'rusrock', 'russian',\n",
       "       'salsa', 'samba', 'scenic', 'schlager', 'self', 'sertanejo',\n",
       "       'shanson', 'shoegazing', 'showtunes', 'singer', 'ska', 'skarock',\n",
       "       'slow', 'smooth', 'soft', 'soul', 'soulful', 'sound', 'soundtrack',\n",
       "       'southern', 'specialty', 'speech', 'spiritual', 'sport',\n",
       "       'stonerrock', 'surf', 'swing', 'synthpop', 'synthrock',\n",
       "       'sängerportrait', 'tango', 'tanzorchester', 'taraftar', 'tatar',\n",
       "       'tech', 'techno', 'teen', 'thrash', 'top', 'traditional',\n",
       "       'tradjazz', 'trance', 'tribal', 'trip', 'triphop', 'tropical',\n",
       "       'türk', 'türkçe', 'ukrrock', 'unknown', 'urban', 'uzbek',\n",
       "       'variété', 'vi', 'videogame', 'vocal', 'western', 'world',\n",
       "       'worldbeat', 'ïîï', 'электроника'], dtype=object)"
      ]
     },
     "execution_count": 25,
     "metadata": {},
     "output_type": "execute_result"
    }
   ],
   "source": [
    "# Проверка на неявные дубликаты\n",
    "df['genre'].sort_values().unique()"
   ]
  },
  {
   "cell_type": "markdown",
   "metadata": {},
   "source": [
    "Неявные дубликаты жанра `hiphop` исправлены.\n",
    "\n",
    "Однако если поискать еще возможные варианты неявных дубликатов обнаружим кириллическое написание жанра `electronic`.\n",
    "\n",
    "Исправим жанр `электроника` на жанр `electronic` функцией `replace()`"
   ]
  },
  {
   "cell_type": "code",
   "execution_count": 26,
   "metadata": {},
   "outputs": [],
   "source": [
    "# Устранение неявных дупликатов\n",
    "df['genre'] = df['genre'].replace('электроника', 'elctronic')"
   ]
  },
  {
   "cell_type": "markdown",
   "metadata": {},
   "source": [
    "Проверим результ исправления."
   ]
  },
  {
   "cell_type": "code",
   "execution_count": 27,
   "metadata": {},
   "outputs": [
    {
     "data": {
      "text/plain": [
       "array(['acid', 'acoustic', 'action', 'adult', 'africa', 'afrikaans',\n",
       "       'alternative', 'alternativepunk', 'ambient', 'americana',\n",
       "       'animated', 'anime', 'arabesk', 'arabic', 'arena',\n",
       "       'argentinetango', 'art', 'audiobook', 'author', 'avantgarde',\n",
       "       'axé', 'baile', 'balkan', 'beats', 'bigroom', 'black', 'bluegrass',\n",
       "       'blues', 'bollywood', 'bossa', 'brazilian', 'breakbeat', 'breaks',\n",
       "       'broadway', 'cantautori', 'cantopop', 'canzone', 'caribbean',\n",
       "       'caucasian', 'celtic', 'chamber', 'chanson', 'children', 'chill',\n",
       "       'chinese', 'choral', 'christian', 'christmas', 'classical',\n",
       "       'classicmetal', 'club', 'colombian', 'comedy', 'conjazz',\n",
       "       'contemporary', 'country', 'cuban', 'dance', 'dancehall',\n",
       "       'dancepop', 'dark', 'death', 'deep', 'deutschrock', 'deutschspr',\n",
       "       'dirty', 'disco', 'dnb', 'documentary', 'downbeat', 'downtempo',\n",
       "       'drum', 'dub', 'dubstep', 'eastern', 'easy', 'elctronic',\n",
       "       'electronic', 'electropop', 'emo', 'entehno', 'epicmetal',\n",
       "       'estrada', 'ethnic', 'eurofolk', 'european', 'experimental',\n",
       "       'extrememetal', 'fado', 'fairytail', 'film', 'fitness', 'flamenco',\n",
       "       'folk', 'folklore', 'folkmetal', 'folkrock', 'folktronica',\n",
       "       'forró', 'frankreich', 'französisch', 'french', 'funk', 'future',\n",
       "       'gangsta', 'garage', 'german', 'ghazal', 'gitarre', 'glitch',\n",
       "       'gospel', 'gothic', 'grime', 'grunge', 'gypsy', 'handsup',\n",
       "       \"hard'n'heavy\", 'hardcore', 'hardstyle', 'hardtechno', 'hiphop',\n",
       "       'historisch', 'holiday', 'horror', 'house', 'hymn', 'idm',\n",
       "       'independent', 'indian', 'indie', 'indipop', 'industrial',\n",
       "       'inspirational', 'instrumental', 'international', 'irish', 'jam',\n",
       "       'japanese', 'jazz', 'jewish', 'jpop', 'jungle', 'k-pop',\n",
       "       'karadeniz', 'karaoke', 'kayokyoku', 'korean', 'laiko', 'latin',\n",
       "       'latino', 'leftfield', 'local', 'lounge', 'loungeelectronic',\n",
       "       'lovers', 'malaysian', 'mandopop', 'marschmusik', 'meditative',\n",
       "       'mediterranean', 'melodic', 'metal', 'metalcore', 'mexican',\n",
       "       'middle', 'minimal', 'miscellaneous', 'modern', 'mood', 'mpb',\n",
       "       'muslim', 'native', 'neoklassik', 'neue', 'new', 'newage',\n",
       "       'newwave', 'nu', 'nujazz', 'numetal', 'oceania', 'old', 'opera',\n",
       "       'orchestral', 'other', 'piano', 'podcasts', 'pop', 'popdance',\n",
       "       'popelectronic', 'popeurodance', 'poprussian', 'post',\n",
       "       'posthardcore', 'postrock', 'power', 'progmetal', 'progressive',\n",
       "       'psychedelic', 'punjabi', 'punk', 'quebecois', 'ragga', 'ram',\n",
       "       'rancheras', 'rap', 'rave', 'reggae', 'reggaeton', 'regional',\n",
       "       'relax', 'religious', 'retro', 'rhythm', 'rnb', 'rnr', 'rock',\n",
       "       'rockabilly', 'rockalternative', 'rockindie', 'rockother',\n",
       "       'romance', 'roots', 'ruspop', 'rusrap', 'rusrock', 'russian',\n",
       "       'salsa', 'samba', 'scenic', 'schlager', 'self', 'sertanejo',\n",
       "       'shanson', 'shoegazing', 'showtunes', 'singer', 'ska', 'skarock',\n",
       "       'slow', 'smooth', 'soft', 'soul', 'soulful', 'sound', 'soundtrack',\n",
       "       'southern', 'specialty', 'speech', 'spiritual', 'sport',\n",
       "       'stonerrock', 'surf', 'swing', 'synthpop', 'synthrock',\n",
       "       'sängerportrait', 'tango', 'tanzorchester', 'taraftar', 'tatar',\n",
       "       'tech', 'techno', 'teen', 'thrash', 'top', 'traditional',\n",
       "       'tradjazz', 'trance', 'tribal', 'trip', 'triphop', 'tropical',\n",
       "       'türk', 'türkçe', 'ukrrock', 'unknown', 'urban', 'uzbek',\n",
       "       'variété', 'vi', 'videogame', 'vocal', 'western', 'world',\n",
       "       'worldbeat', 'ïîï'], dtype=object)"
      ]
     },
     "execution_count": 27,
     "metadata": {},
     "output_type": "execute_result"
    }
   ],
   "source": [
    "# Проверка на неявные дубликаты\n",
    "df['genre'].sort_values().unique()"
   ]
  },
  {
   "cell_type": "markdown",
   "metadata": {
    "id": "jz6a9-7HQUDd"
   },
   "source": [
    "**Выводы**\n",
    "\n",
    "Предобработка обнаружила три проблемы в данных:\n",
    "\n",
    "- нарушения в стиле заголовков,\n",
    "- пропущенные значения,\n",
    "- дубликаты — явные и неявные.\n",
    "\n",
    "Исправили заголовки, чтобы упростить работу с таблицей. Без дубликатов исследование станет более точным.\n",
    "\n",
    "Пропущенные значения заменили на `'unknown'`. Ещё предстоит увидеть, не повредят ли исследованию пропуски в колонке `genre`.\n",
    "\n",
    "Теперь можно перейти к проверке гипотез. "
   ]
  },
  {
   "cell_type": "markdown",
   "metadata": {
    "id": "WttZHXH0SqKk"
   },
   "source": [
    "## Проверка гипотез"
   ]
  },
  {
   "cell_type": "markdown",
   "metadata": {
    "id": "Im936VVi_Zcu"
   },
   "source": [
    "### Сравнение поведения пользователей двух столиц"
   ]
  },
  {
   "cell_type": "markdown",
   "metadata": {
    "id": "nwt_MuaL_Zcu"
   },
   "source": [
    "Первая гипотеза утверждает, что пользователи по-разному слушают музыку в Москве и Санкт-Петербурге. Проверим это предположение по данным о трёх днях недели — понедельнике, среде и пятнице. Для этого:\n",
    "\n",
    "* Разделим пользователей Москвы и Санкт-Петербурга\n",
    "* Сравним, сколько треков послушала каждая группа пользователей в понедельник, среду и пятницу."
   ]
  },
  {
   "cell_type": "markdown",
   "metadata": {
    "id": "8Dw_YMmT_Zcu"
   },
   "source": [
    "Для тренировки сначала выполним каждый из расчётов по отдельности. \n",
    "\n",
    "Оценим активность пользователей в каждом городе. Сгруппируем данные по городу и посчитаем прослушивания в каждой группе."
   ]
  },
  {
   "cell_type": "code",
   "execution_count": 28,
   "metadata": {
    "id": "0_Qs96oh_Zcu"
   },
   "outputs": [
    {
     "data": {
      "text/plain": [
       "city\n",
       "Moscow              42741\n",
       "Saint-Petersburg    18512\n",
       "Name: user_id, dtype: int64"
      ]
     },
     "execution_count": 28,
     "metadata": {},
     "output_type": "execute_result"
    }
   ],
   "source": [
    "# Подсчёт прослушиваний в каждом городе\n",
    "df.groupby('city')['user_id'].count()"
   ]
  },
  {
   "cell_type": "markdown",
   "metadata": {
    "id": "dzli3w8o_Zcu"
   },
   "source": [
    "В Москве прослушиваний больше, чем в Петербурге. Из этого не следует, что московские пользователи чаще слушают музыку. Просто самих пользователей в Москве больше.\n",
    "\n",
    "Теперь сгруппируем данные по дню недели и подсчитаем прослушивания в понедельник, среду и пятницу. Учтем, что в данных есть информация о прослушиваниях только за эти дни."
   ]
  },
  {
   "cell_type": "code",
   "execution_count": 29,
   "metadata": {
    "id": "uZMKjiJz_Zcu"
   },
   "outputs": [
    {
     "data": {
      "text/plain": [
       "day\n",
       "Friday       21840\n",
       "Monday       21354\n",
       "Wednesday    18059\n",
       "Name: user_id, dtype: int64"
      ]
     },
     "execution_count": 29,
     "metadata": {},
     "output_type": "execute_result"
    }
   ],
   "source": [
    "# Подсчёт прослушиваний в каждый из трёх дней\n",
    "df.groupby('day')['user_id'].count()"
   ]
  },
  {
   "cell_type": "markdown",
   "metadata": {
    "id": "cC2tNrlL_Zcu"
   },
   "source": [
    "В среднем пользователи из двух городов менее активны по средам. Но картина может измениться, если рассмотреть каждый город в отдельности."
   ]
  },
  {
   "cell_type": "markdown",
   "metadata": {
    "id": "POzs8bGa_Zcu"
   },
   "source": [
    "Теперь напишем функцию, которая объединит два эти расчёта.\n",
    "\n",
    "Создадим функцию `number_tracks()`, которая посчитает прослушивания для заданного дня и города. Ей понадобятся два параметра:\n",
    "* день недели,\n",
    "* название города.\n",
    "\n",
    "В функции сохраним в переменную строки исходной таблицы, у которых значение:\n",
    "  * в колонке `day` равно параметру `day`,\n",
    "  * в колонке `city` равно параметру `city`.\n",
    "\n",
    "Для этого применим последовательную фильтрацию с логической индексацией.\n",
    "\n",
    "Затем посчитаем значения в столбце `user_id` получившейся таблицы. Результат сохраним в новую переменную. Вернем эту переменную из функции."
   ]
  },
  {
   "cell_type": "code",
   "execution_count": 30,
   "metadata": {
    "id": "Nz3GdQB1_Zcu"
   },
   "outputs": [],
   "source": [
    "# <создание функции number_tracks()>\n",
    "# Объявляется функция с двумя параметрами: day, city.\n",
    "def number_tracks(day, city):\n",
    "\n",
    "# В переменной track_list сохраняются те строки таблицы df, для которых \n",
    "# значение в столбце 'day' равно параметру day и одновременно значение\n",
    "# в столбце 'city' равно параметру city (используем последовательную фильтрацию\n",
    "# с помощью логической индексации).\n",
    "    track_list = df[df['day'] == day]\n",
    "    track_list = track_list[track_list['city'] == city]\n",
    "\n",
    "# В переменной track_list_count сохраняется число значений столбца 'user_id',\n",
    "# рассчитанное методом count() для таблицы track_list.\n",
    "    track_list_count = track_list['user_id'].count()\n",
    "\n",
    "# Функция возвращает число - значение track_list_count.\n",
    "    return track_list_count\n",
    "\n",
    "# Функция для подсчёта прослушиваний для конкретного города и дня.\n",
    "# С помощью последовательной фильтрации с логической индексацией она \n",
    "# сначала получит из исходной таблицы строки с нужным днём,\n",
    "# затем из результата отфильтрует строки с нужным городом,\n",
    "# методом count() посчитает количество значений в колонке user_id. \n",
    "# Это количество функция вернёт в качестве результата"
   ]
  },
  {
   "cell_type": "markdown",
   "metadata": {
    "id": "ytf7xFrFJQ2r"
   },
   "source": [
    "Вызовем `number_tracks()` шесть раз, меняя значение параметров — так, чтобы получить данные для каждого города в каждый из трёх дней."
   ]
  },
  {
   "cell_type": "code",
   "execution_count": 31,
   "metadata": {
    "id": "rJcRATNQ_Zcu"
   },
   "outputs": [
    {
     "data": {
      "text/plain": [
       "15740"
      ]
     },
     "execution_count": 31,
     "metadata": {},
     "output_type": "execute_result"
    }
   ],
   "source": [
    "# количество прослушиваний в Москве по понедельникам\n",
    "number_tracks('Monday', 'Moscow')"
   ]
  },
  {
   "cell_type": "code",
   "execution_count": 32,
   "metadata": {
    "id": "hq_ncZ5T_Zcu"
   },
   "outputs": [
    {
     "data": {
      "text/plain": [
       "5614"
      ]
     },
     "execution_count": 32,
     "metadata": {},
     "output_type": "execute_result"
    }
   ],
   "source": [
    "# количество прослушиваний в Санкт-Петербурге по понедельникам\n",
    "number_tracks('Monday', 'Saint-Petersburg')"
   ]
  },
  {
   "cell_type": "code",
   "execution_count": 33,
   "metadata": {
    "id": "_NTy2VPU_Zcu"
   },
   "outputs": [
    {
     "data": {
      "text/plain": [
       "11056"
      ]
     },
     "execution_count": 33,
     "metadata": {},
     "output_type": "execute_result"
    }
   ],
   "source": [
    "# количество прослушиваний в Москве по средам\n",
    "number_tracks('Wednesday', 'Moscow')"
   ]
  },
  {
   "cell_type": "code",
   "execution_count": 34,
   "metadata": {
    "id": "j2y3TAwo_Zcu"
   },
   "outputs": [
    {
     "data": {
      "text/plain": [
       "7003"
      ]
     },
     "execution_count": 34,
     "metadata": {},
     "output_type": "execute_result"
    }
   ],
   "source": [
    "# количество прослушиваний в Санкт-Петербурге по средам\n",
    "number_tracks('Wednesday', 'Saint-Petersburg')"
   ]
  },
  {
   "cell_type": "code",
   "execution_count": 35,
   "metadata": {
    "id": "vYDw5u_K_Zcu"
   },
   "outputs": [
    {
     "data": {
      "text/plain": [
       "15945"
      ]
     },
     "execution_count": 35,
     "metadata": {},
     "output_type": "execute_result"
    }
   ],
   "source": [
    "# количество прослушиваний в Москве по пятницам\n",
    "number_tracks('Friday', 'Moscow')"
   ]
  },
  {
   "cell_type": "code",
   "execution_count": 36,
   "metadata": {
    "id": "8_yzFtW3_Zcu"
   },
   "outputs": [
    {
     "data": {
      "text/plain": [
       "5895"
      ]
     },
     "execution_count": 36,
     "metadata": {},
     "output_type": "execute_result"
    }
   ],
   "source": [
    "# количество прослушиваний в Санкт-Петербурге по пятницам\n",
    "number_tracks('Friday', 'Saint-Petersburg')"
   ]
  },
  {
   "cell_type": "code",
   "execution_count": 51,
   "metadata": {},
   "outputs": [
    {
     "data": {
      "text/plain": [
       "[15740, 11056, 15945, 5614, 7003, 5895]"
      ]
     },
     "execution_count": 51,
     "metadata": {},
     "output_type": "execute_result"
    }
   ],
   "source": [
    "# количество прослушиваний в городах за дни недели с использованием списков\n",
    "\n",
    "tracks = []\n",
    "city_name = ['Moscow', 'Saint-Petersburg']\n",
    "day_week = ['Monday', 'Wednesday', 'Friday']\n",
    "for city in city_name:\n",
    "    for day in day_week:\n",
    "        tracks.append(number_tracks(day, city))\n",
    "tracks"
   ]
  },
  {
   "cell_type": "markdown",
   "metadata": {
    "id": "7QXffbO-_Zcu"
   },
   "source": [
    "Создадим c помощью конструктора `pd.DataFrame` таблицу, где\n",
    "* названия колонок — `['city', 'monday', 'wednesday', 'friday']`;\n",
    "* данные — результаты, которые получили с помощью `number_tracks`."
   ]
  },
  {
   "cell_type": "code",
   "execution_count": 52,
   "metadata": {
    "id": "APAcLpOr_Zcu"
   },
   "outputs": [
    {
     "data": {
      "text/html": [
       "<div>\n",
       "<style scoped>\n",
       "    .dataframe tbody tr th:only-of-type {\n",
       "        vertical-align: middle;\n",
       "    }\n",
       "\n",
       "    .dataframe tbody tr th {\n",
       "        vertical-align: top;\n",
       "    }\n",
       "\n",
       "    .dataframe thead th {\n",
       "        text-align: right;\n",
       "    }\n",
       "</style>\n",
       "<table border=\"1\" class=\"dataframe\">\n",
       "  <thead>\n",
       "    <tr style=\"text-align: right;\">\n",
       "      <th></th>\n",
       "      <th>city</th>\n",
       "      <th>monday</th>\n",
       "      <th>wednesday</th>\n",
       "      <th>friday</th>\n",
       "    </tr>\n",
       "  </thead>\n",
       "  <tbody>\n",
       "    <tr>\n",
       "      <th>0</th>\n",
       "      <td>Moscow</td>\n",
       "      <td>15740</td>\n",
       "      <td>11056</td>\n",
       "      <td>15945</td>\n",
       "    </tr>\n",
       "    <tr>\n",
       "      <th>1</th>\n",
       "      <td>Saint-Petersburg</td>\n",
       "      <td>5614</td>\n",
       "      <td>7003</td>\n",
       "      <td>5895</td>\n",
       "    </tr>\n",
       "  </tbody>\n",
       "</table>\n",
       "</div>"
      ],
      "text/plain": [
       "               city  monday  wednesday  friday\n",
       "0            Moscow   15740      11056   15945\n",
       "1  Saint-Petersburg    5614       7003    5895"
      ]
     },
     "execution_count": 52,
     "metadata": {},
     "output_type": "execute_result"
    }
   ],
   "source": [
    "# Таблица с результатами\n",
    "header_name = ['city', 'Monday', 'Wednesday', 'Friday']\n",
    "\n",
    "# С использованием вложенного цикла и header_name \n",
    "# составляем таблицу с количеством прослушиваний в разрезе городов и дней\n",
    "data = []\n",
    "string = []\n",
    "for city in df['city'].sort_values().unique():\n",
    "    string.append(city)\n",
    "    for day in header_name[1:]:\n",
    "        string.append(number_tracks(day, city))\n",
    "    data.append(string)\n",
    "    string = []\n",
    "\n",
    "# приводим название столбцов в финальной таблице к нижнему регистру,\n",
    "# как это требуется в задании\n",
    "for i in range(len(header_name)):\n",
    "    header_name[i] = header_name[i].lower()\n",
    "\n",
    "research_genres_result = pd.DataFrame(data=data, columns=header_name)\n",
    "research_genres_result"
   ]
  },
  {
   "cell_type": "markdown",
   "metadata": {
    "id": "-EgPIHYu_Zcu"
   },
   "source": [
    "**Выводы**\n",
    "\n",
    "Данные показывают разницу поведения пользователей:\n",
    "\n",
    "- В Москве пик прослушиваний приходится на понедельник и пятницу, а в среду заметен спад.\n",
    "- В Петербурге, наоборот, больше слушают музыку по средам. Активность в понедельник и пятницу здесь почти в равной мере уступает среде.\n",
    "\n",
    "Значит, данные говорят в пользу первой гипотезы."
   ]
  },
  {
   "cell_type": "markdown",
   "metadata": {
    "id": "atZAxtq4_Zcu"
   },
   "source": [
    "### Музыка в начале и в конце недели"
   ]
  },
  {
   "cell_type": "markdown",
   "metadata": {
    "id": "eXrQqXFH_Zcu"
   },
   "source": [
    "Согласно второй гипотезе, утром в понедельник в Москве преобладают одни жанры, а в Петербурге — другие. Так же и вечером пятницы преобладают разные жанры — в зависимости от города."
   ]
  },
  {
   "cell_type": "markdown",
   "metadata": {
    "id": "S8UcW6Hw_Zcu"
   },
   "source": [
    "Сохраним таблицы с данными в две переменные:\n",
    "* по Москве — в `moscow_general`;\n",
    "* по Санкт-Петербургу — в `spb_general`."
   ]
  },
  {
   "cell_type": "code",
   "execution_count": 53,
   "metadata": {
    "id": "qeaFfM_P_Zcu"
   },
   "outputs": [
    {
     "data": {
      "text/html": [
       "<div>\n",
       "<style scoped>\n",
       "    .dataframe tbody tr th:only-of-type {\n",
       "        vertical-align: middle;\n",
       "    }\n",
       "\n",
       "    .dataframe tbody tr th {\n",
       "        vertical-align: top;\n",
       "    }\n",
       "\n",
       "    .dataframe thead th {\n",
       "        text-align: right;\n",
       "    }\n",
       "</style>\n",
       "<table border=\"1\" class=\"dataframe\">\n",
       "  <thead>\n",
       "    <tr style=\"text-align: right;\">\n",
       "      <th></th>\n",
       "      <th>user_id</th>\n",
       "      <th>track</th>\n",
       "      <th>artist</th>\n",
       "      <th>genre</th>\n",
       "      <th>city</th>\n",
       "      <th>time</th>\n",
       "      <th>day</th>\n",
       "    </tr>\n",
       "  </thead>\n",
       "  <tbody>\n",
       "    <tr>\n",
       "      <th>1</th>\n",
       "      <td>55204538</td>\n",
       "      <td>Delayed Because of Accident</td>\n",
       "      <td>Andreas Rönnberg</td>\n",
       "      <td>rock</td>\n",
       "      <td>Moscow</td>\n",
       "      <td>14:07:09</td>\n",
       "      <td>Friday</td>\n",
       "    </tr>\n",
       "    <tr>\n",
       "      <th>4</th>\n",
       "      <td>E2DC1FAE</td>\n",
       "      <td>Soul People</td>\n",
       "      <td>Space Echo</td>\n",
       "      <td>dance</td>\n",
       "      <td>Moscow</td>\n",
       "      <td>08:34:34</td>\n",
       "      <td>Monday</td>\n",
       "    </tr>\n",
       "    <tr>\n",
       "      <th>6</th>\n",
       "      <td>4CB90AA5</td>\n",
       "      <td>True</td>\n",
       "      <td>Roman Messer</td>\n",
       "      <td>dance</td>\n",
       "      <td>Moscow</td>\n",
       "      <td>13:00:07</td>\n",
       "      <td>Wednesday</td>\n",
       "    </tr>\n",
       "    <tr>\n",
       "      <th>7</th>\n",
       "      <td>F03E1C1F</td>\n",
       "      <td>Feeling This Way</td>\n",
       "      <td>Polina Griffith</td>\n",
       "      <td>dance</td>\n",
       "      <td>Moscow</td>\n",
       "      <td>20:47:49</td>\n",
       "      <td>Wednesday</td>\n",
       "    </tr>\n",
       "    <tr>\n",
       "      <th>8</th>\n",
       "      <td>8FA1D3BE</td>\n",
       "      <td>И вновь продолжается бой</td>\n",
       "      <td>unknown</td>\n",
       "      <td>ruspop</td>\n",
       "      <td>Moscow</td>\n",
       "      <td>09:17:40</td>\n",
       "      <td>Friday</td>\n",
       "    </tr>\n",
       "    <tr>\n",
       "      <th>...</th>\n",
       "      <td>...</td>\n",
       "      <td>...</td>\n",
       "      <td>...</td>\n",
       "      <td>...</td>\n",
       "      <td>...</td>\n",
       "      <td>...</td>\n",
       "      <td>...</td>\n",
       "    </tr>\n",
       "    <tr>\n",
       "      <th>61247</th>\n",
       "      <td>83A474E7</td>\n",
       "      <td>I Worship Only What You Bleed</td>\n",
       "      <td>The Black Dahlia Murder</td>\n",
       "      <td>extrememetal</td>\n",
       "      <td>Moscow</td>\n",
       "      <td>21:07:12</td>\n",
       "      <td>Monday</td>\n",
       "    </tr>\n",
       "    <tr>\n",
       "      <th>61248</th>\n",
       "      <td>729CBB09</td>\n",
       "      <td>My Name</td>\n",
       "      <td>McLean</td>\n",
       "      <td>rnb</td>\n",
       "      <td>Moscow</td>\n",
       "      <td>13:32:28</td>\n",
       "      <td>Wednesday</td>\n",
       "    </tr>\n",
       "    <tr>\n",
       "      <th>61250</th>\n",
       "      <td>C5E3A0D5</td>\n",
       "      <td>Jalopiina</td>\n",
       "      <td>unknown</td>\n",
       "      <td>industrial</td>\n",
       "      <td>Moscow</td>\n",
       "      <td>20:09:26</td>\n",
       "      <td>Friday</td>\n",
       "    </tr>\n",
       "    <tr>\n",
       "      <th>61251</th>\n",
       "      <td>321D0506</td>\n",
       "      <td>Freight Train</td>\n",
       "      <td>Chas McDevitt</td>\n",
       "      <td>rock</td>\n",
       "      <td>Moscow</td>\n",
       "      <td>21:43:59</td>\n",
       "      <td>Friday</td>\n",
       "    </tr>\n",
       "    <tr>\n",
       "      <th>61252</th>\n",
       "      <td>3A64EF84</td>\n",
       "      <td>Tell Me Sweet Little Lies</td>\n",
       "      <td>Monica Lopez</td>\n",
       "      <td>country</td>\n",
       "      <td>Moscow</td>\n",
       "      <td>21:59:46</td>\n",
       "      <td>Friday</td>\n",
       "    </tr>\n",
       "  </tbody>\n",
       "</table>\n",
       "<p>42741 rows × 7 columns</p>\n",
       "</div>"
      ],
      "text/plain": [
       "        user_id                          track                   artist  \\\n",
       "1      55204538    Delayed Because of Accident         Andreas Rönnberg   \n",
       "4      E2DC1FAE                    Soul People               Space Echo   \n",
       "6      4CB90AA5                           True             Roman Messer   \n",
       "7      F03E1C1F               Feeling This Way          Polina Griffith   \n",
       "8      8FA1D3BE       И вновь продолжается бой                  unknown   \n",
       "...         ...                            ...                      ...   \n",
       "61247  83A474E7  I Worship Only What You Bleed  The Black Dahlia Murder   \n",
       "61248  729CBB09                        My Name                   McLean   \n",
       "61250  C5E3A0D5                      Jalopiina                  unknown   \n",
       "61251  321D0506                  Freight Train            Chas McDevitt   \n",
       "61252  3A64EF84      Tell Me Sweet Little Lies             Monica Lopez   \n",
       "\n",
       "              genre    city      time        day  \n",
       "1              rock  Moscow  14:07:09     Friday  \n",
       "4             dance  Moscow  08:34:34     Monday  \n",
       "6             dance  Moscow  13:00:07  Wednesday  \n",
       "7             dance  Moscow  20:47:49  Wednesday  \n",
       "8            ruspop  Moscow  09:17:40     Friday  \n",
       "...             ...     ...       ...        ...  \n",
       "61247  extrememetal  Moscow  21:07:12     Monday  \n",
       "61248           rnb  Moscow  13:32:28  Wednesday  \n",
       "61250    industrial  Moscow  20:09:26     Friday  \n",
       "61251          rock  Moscow  21:43:59     Friday  \n",
       "61252       country  Moscow  21:59:46     Friday  \n",
       "\n",
       "[42741 rows x 7 columns]"
      ]
     },
     "execution_count": 53,
     "metadata": {},
     "output_type": "execute_result"
    }
   ],
   "source": [
    "# получение таблицы moscow_general из тех строк таблицы df, \n",
    "# для которых значение в столбце 'city' равно 'Moscow'\n",
    "moscow_general = df[df['city'] == 'Moscow']\n",
    "moscow_general"
   ]
  },
  {
   "cell_type": "code",
   "execution_count": 54,
   "metadata": {
    "id": "ORaVRKto_Zcu"
   },
   "outputs": [
    {
     "data": {
      "text/html": [
       "<div>\n",
       "<style scoped>\n",
       "    .dataframe tbody tr th:only-of-type {\n",
       "        vertical-align: middle;\n",
       "    }\n",
       "\n",
       "    .dataframe tbody tr th {\n",
       "        vertical-align: top;\n",
       "    }\n",
       "\n",
       "    .dataframe thead th {\n",
       "        text-align: right;\n",
       "    }\n",
       "</style>\n",
       "<table border=\"1\" class=\"dataframe\">\n",
       "  <thead>\n",
       "    <tr style=\"text-align: right;\">\n",
       "      <th></th>\n",
       "      <th>user_id</th>\n",
       "      <th>track</th>\n",
       "      <th>artist</th>\n",
       "      <th>genre</th>\n",
       "      <th>city</th>\n",
       "      <th>time</th>\n",
       "      <th>day</th>\n",
       "    </tr>\n",
       "  </thead>\n",
       "  <tbody>\n",
       "    <tr>\n",
       "      <th>0</th>\n",
       "      <td>FFB692EC</td>\n",
       "      <td>Kamigata To Boots</td>\n",
       "      <td>The Mass Missile</td>\n",
       "      <td>rock</td>\n",
       "      <td>Saint-Petersburg</td>\n",
       "      <td>20:28:33</td>\n",
       "      <td>Wednesday</td>\n",
       "    </tr>\n",
       "    <tr>\n",
       "      <th>2</th>\n",
       "      <td>20EC38</td>\n",
       "      <td>Funiculì funiculà</td>\n",
       "      <td>Mario Lanza</td>\n",
       "      <td>pop</td>\n",
       "      <td>Saint-Petersburg</td>\n",
       "      <td>20:58:07</td>\n",
       "      <td>Wednesday</td>\n",
       "    </tr>\n",
       "    <tr>\n",
       "      <th>3</th>\n",
       "      <td>A3DD03C9</td>\n",
       "      <td>Dragons in the Sunset</td>\n",
       "      <td>Fire + Ice</td>\n",
       "      <td>folk</td>\n",
       "      <td>Saint-Petersburg</td>\n",
       "      <td>08:37:09</td>\n",
       "      <td>Monday</td>\n",
       "    </tr>\n",
       "    <tr>\n",
       "      <th>5</th>\n",
       "      <td>842029A1</td>\n",
       "      <td>Преданная</td>\n",
       "      <td>IMPERVTOR</td>\n",
       "      <td>rusrap</td>\n",
       "      <td>Saint-Petersburg</td>\n",
       "      <td>13:09:41</td>\n",
       "      <td>Friday</td>\n",
       "    </tr>\n",
       "    <tr>\n",
       "      <th>9</th>\n",
       "      <td>E772D5C0</td>\n",
       "      <td>Pessimist</td>\n",
       "      <td>unknown</td>\n",
       "      <td>dance</td>\n",
       "      <td>Saint-Petersburg</td>\n",
       "      <td>21:20:49</td>\n",
       "      <td>Wednesday</td>\n",
       "    </tr>\n",
       "    <tr>\n",
       "      <th>...</th>\n",
       "      <td>...</td>\n",
       "      <td>...</td>\n",
       "      <td>...</td>\n",
       "      <td>...</td>\n",
       "      <td>...</td>\n",
       "      <td>...</td>\n",
       "      <td>...</td>\n",
       "    </tr>\n",
       "    <tr>\n",
       "      <th>61239</th>\n",
       "      <td>D94F810B</td>\n",
       "      <td>Theme from the Walking Dead</td>\n",
       "      <td>Proyecto Halloween</td>\n",
       "      <td>film</td>\n",
       "      <td>Saint-Petersburg</td>\n",
       "      <td>21:14:40</td>\n",
       "      <td>Monday</td>\n",
       "    </tr>\n",
       "    <tr>\n",
       "      <th>61240</th>\n",
       "      <td>BC8EC5CF</td>\n",
       "      <td>Red Lips: Gta (Rover Rework)</td>\n",
       "      <td>Rover</td>\n",
       "      <td>electronic</td>\n",
       "      <td>Saint-Petersburg</td>\n",
       "      <td>21:06:50</td>\n",
       "      <td>Monday</td>\n",
       "    </tr>\n",
       "    <tr>\n",
       "      <th>61241</th>\n",
       "      <td>29E04611</td>\n",
       "      <td>Bre Petrunko</td>\n",
       "      <td>Perunika Trio</td>\n",
       "      <td>world</td>\n",
       "      <td>Saint-Petersburg</td>\n",
       "      <td>13:56:00</td>\n",
       "      <td>Monday</td>\n",
       "    </tr>\n",
       "    <tr>\n",
       "      <th>61242</th>\n",
       "      <td>1B91C621</td>\n",
       "      <td>(Hello) Cloud Mountain</td>\n",
       "      <td>sleepmakeswaves</td>\n",
       "      <td>postrock</td>\n",
       "      <td>Saint-Petersburg</td>\n",
       "      <td>09:22:13</td>\n",
       "      <td>Monday</td>\n",
       "    </tr>\n",
       "    <tr>\n",
       "      <th>61249</th>\n",
       "      <td>D08D4A55</td>\n",
       "      <td>Maybe One Day (feat. Black Spade)</td>\n",
       "      <td>Blu &amp; Exile</td>\n",
       "      <td>hiphop</td>\n",
       "      <td>Saint-Petersburg</td>\n",
       "      <td>10:00:00</td>\n",
       "      <td>Monday</td>\n",
       "    </tr>\n",
       "  </tbody>\n",
       "</table>\n",
       "<p>18512 rows × 7 columns</p>\n",
       "</div>"
      ],
      "text/plain": [
       "        user_id                              track              artist  \\\n",
       "0      FFB692EC                  Kamigata To Boots    The Mass Missile   \n",
       "2        20EC38                  Funiculì funiculà         Mario Lanza   \n",
       "3      A3DD03C9              Dragons in the Sunset          Fire + Ice   \n",
       "5      842029A1                          Преданная           IMPERVTOR   \n",
       "9      E772D5C0                          Pessimist             unknown   \n",
       "...         ...                                ...                 ...   \n",
       "61239  D94F810B        Theme from the Walking Dead  Proyecto Halloween   \n",
       "61240  BC8EC5CF       Red Lips: Gta (Rover Rework)               Rover   \n",
       "61241  29E04611                       Bre Petrunko       Perunika Trio   \n",
       "61242  1B91C621             (Hello) Cloud Mountain     sleepmakeswaves   \n",
       "61249  D08D4A55  Maybe One Day (feat. Black Spade)         Blu & Exile   \n",
       "\n",
       "            genre              city      time        day  \n",
       "0            rock  Saint-Petersburg  20:28:33  Wednesday  \n",
       "2             pop  Saint-Petersburg  20:58:07  Wednesday  \n",
       "3            folk  Saint-Petersburg  08:37:09     Monday  \n",
       "5          rusrap  Saint-Petersburg  13:09:41     Friday  \n",
       "9           dance  Saint-Petersburg  21:20:49  Wednesday  \n",
       "...           ...               ...       ...        ...  \n",
       "61239        film  Saint-Petersburg  21:14:40     Monday  \n",
       "61240  electronic  Saint-Petersburg  21:06:50     Monday  \n",
       "61241       world  Saint-Petersburg  13:56:00     Monday  \n",
       "61242    postrock  Saint-Petersburg  09:22:13     Monday  \n",
       "61249      hiphop  Saint-Petersburg  10:00:00     Monday  \n",
       "\n",
       "[18512 rows x 7 columns]"
      ]
     },
     "execution_count": 54,
     "metadata": {},
     "output_type": "execute_result"
    }
   ],
   "source": [
    "# получение таблицы spb_general из тех строк таблицы df,\n",
    "# для которых значение в столбце 'city' равно 'Saint-Petersburg'\n",
    "spb_general = df[df['city'] == 'Saint-Petersburg']\n",
    "spb_general"
   ]
  },
  {
   "cell_type": "markdown",
   "metadata": {
    "id": "MEJV-CX2_Zcu"
   },
   "source": [
    "Создадим функцию `genre_weekday()` с четырьмя параметрами:\n",
    "* таблица (датафрейм) с данными,\n",
    "* день недели,\n",
    "* начальная временная метка в формате 'hh:mm', \n",
    "* последняя временная метка в формате 'hh:mm'.\n",
    "\n",
    "Функция должна вернуть информацию о топ-10 жанров тех треков, которые прослушивали в указанный день, в промежутке между двумя отметками времени."
   ]
  },
  {
   "cell_type": "code",
   "execution_count": 65,
   "metadata": {
    "id": "laJT9BYl_Zcu"
   },
   "outputs": [],
   "source": [
    "# Объявление функции genre_weekday() с параметрами table, day, time1, time2,\n",
    "# которая возвращает информацию о самых популярных жанрах в указанный день в\n",
    "# заданное время:\n",
    "def genre_weekday(table, day, time1, time2):\n",
    "    \n",
    "# 1) в переменную genre_df сохраняются те строки переданного датафрейма table, для\n",
    "#    которых одновременно:\n",
    "#    - значение в столбце day равно значению аргумента day\n",
    "#    - значение в столбце time больше значения аргумента time1\n",
    "#    - значение в столбце time меньше значения аргумента time2\n",
    "#    Используем последовательную фильтрацию с помощью логической индексации.\n",
    "    genre_df = table\n",
    "    genre_df = genre_df[genre_df['day'] == day]\n",
    "    genre_df = genre_df[genre_df['time'] > time1]\n",
    "    genre_df = genre_df[genre_df['time'] < time2]\n",
    "    \n",
    "# 2) сгруппировать датафрейм genre_df по столбцу genre, взять один из его\n",
    "#    столбцов и посчитать методом count() количество записей для каждого из\n",
    "#    присутствующих жанров, получившийся Series записать в переменную\n",
    "#    genre_df_count\n",
    "    genre_df_count = genre_df.groupby('genre')['user_id'].count()\n",
    "    \n",
    "# 3) отсортировать genre_df_count по убыванию встречаемости и сохранить\n",
    "#    в переменную genre_df_sorted\n",
    "    genre_df_sorted = genre_df_count.sort_values(ascending=False)\n",
    "    \n",
    "# 4) вернуть Series из 10 первых значений genre_df_sorted, это будут топ-10\n",
    "#    популярных жанров (в указанный день, в заданное время)\n",
    "    return genre_df_sorted[:10]"
   ]
  },
  {
   "cell_type": "markdown",
   "metadata": {
    "id": "la2s2_PF_Zcu"
   },
   "source": [
    "Cравним результаты функции `genre_weekday()` для Москвы и Санкт-Петербурга в понедельник утром (с 7:00 до 11:00) и в пятницу вечером (с 17:00 до 23:00):"
   ]
  },
  {
   "cell_type": "code",
   "execution_count": 66,
   "metadata": {
    "id": "yz7itPUQ_Zcu"
   },
   "outputs": [
    {
     "data": {
      "text/plain": [
       "genre\n",
       "pop            781\n",
       "dance          549\n",
       "electronic     480\n",
       "rock           474\n",
       "hiphop         286\n",
       "ruspop         186\n",
       "world          181\n",
       "rusrap         175\n",
       "alternative    164\n",
       "unknown        161\n",
       "Name: user_id, dtype: int64"
      ]
     },
     "execution_count": 66,
     "metadata": {},
     "output_type": "execute_result"
    }
   ],
   "source": [
    "# вызов функции для утра понедельника в Москве (таблица moscow_general)\n",
    "# объекты, хранящие время, являются строками и сравниваются как строки\n",
    "genre_weekday(moscow_general, 'Monday', '07:00', '11:00')"
   ]
  },
  {
   "cell_type": "code",
   "execution_count": 67,
   "metadata": {
    "id": "kwUcHPdy_Zcu"
   },
   "outputs": [
    {
     "data": {
      "text/plain": [
       "genre\n",
       "pop            218\n",
       "dance          182\n",
       "rock           162\n",
       "electronic     147\n",
       "hiphop          80\n",
       "ruspop          64\n",
       "alternative     58\n",
       "rusrap          55\n",
       "jazz            44\n",
       "classical       40\n",
       "Name: user_id, dtype: int64"
      ]
     },
     "execution_count": 67,
     "metadata": {},
     "output_type": "execute_result"
    }
   ],
   "source": [
    "# вызов функции для утра понедельника в Петербурге (таблица spb_general)\n",
    "genre_weekday(spb_general, 'Monday', '07:00:00', '11:00:')"
   ]
  },
  {
   "cell_type": "code",
   "execution_count": 68,
   "metadata": {
    "id": "EzXVRE1o_Zcu"
   },
   "outputs": [
    {
     "data": {
      "text/plain": [
       "genre\n",
       "pop            713\n",
       "rock           517\n",
       "dance          495\n",
       "electronic     482\n",
       "hiphop         273\n",
       "world          208\n",
       "ruspop         170\n",
       "alternative    163\n",
       "classical      163\n",
       "rusrap         142\n",
       "Name: user_id, dtype: int64"
      ]
     },
     "execution_count": 68,
     "metadata": {},
     "output_type": "execute_result"
    }
   ],
   "source": [
    "# вызов функции для вечера пятницы в Москве\n",
    "genre_weekday(moscow_general, 'Friday', '17:00', '23:00')"
   ]
  },
  {
   "cell_type": "code",
   "execution_count": 69,
   "metadata": {
    "id": "JZaEKu5v_Zcu"
   },
   "outputs": [
    {
     "data": {
      "text/plain": [
       "genre\n",
       "pop            256\n",
       "electronic     216\n",
       "rock           216\n",
       "dance          210\n",
       "hiphop          97\n",
       "alternative     63\n",
       "jazz            61\n",
       "classical       60\n",
       "rusrap          59\n",
       "world           54\n",
       "Name: user_id, dtype: int64"
      ]
     },
     "execution_count": 69,
     "metadata": {},
     "output_type": "execute_result"
    }
   ],
   "source": [
    "# вызов функции для вечера пятницы в Петербурге\n",
    "genre_weekday(spb_general, 'Friday', '17:00', '23:00')"
   ]
  },
  {
   "cell_type": "markdown",
   "metadata": {
    "id": "wrCe4MNX_Zcu"
   },
   "source": [
    "**Выводы**\n",
    "\n",
    "Если сравнить топ-10 жанров в понедельник утром, можно сделать такие выводы:\n",
    "\n",
    "1. В Москве и Петербурге слушают похожую музыку. Единственное отличие — в московский рейтинг вошёл жанр “world”, а в петербургский — джаз и классика.\n",
    "\n",
    "2. В Москве пропущенных значений оказалось так много, что значение `'unknown'` заняло десятое место среди самых популярных жанров. Значит, пропущенные значения занимают существенную долю в данных и угрожают достоверности исследования.\n",
    "\n",
    "Вечер пятницы не меняет эту картину. Некоторые жанры поднимаются немного выше, другие спускаются, но в целом топ-10 остаётся тем же самым.\n",
    "\n",
    "Таким образом, вторая гипотеза подтвердилась лишь частично:\n",
    "* Пользователи слушают похожую музыку в начале недели и в конце.\n",
    "* Разница между Москвой и Петербургом не слишком выражена. В Москве чаще слушают русскую популярную музыку, в Петербурге — джаз.\n",
    "\n",
    "Однако пропуски в данных ставят под сомнение этот результат. В Москве их так много, что рейтинг топ-10 мог бы выглядеть иначе, если бы не утерянные  данные о жанрах."
   ]
  },
  {
   "cell_type": "markdown",
   "metadata": {
    "id": "JolODAqr_Zcu"
   },
   "source": [
    "### Жанровые предпочтения в Москве и Петербурге\n",
    "\n",
    "Гипотеза: Петербург — столица рэпа, музыку этого жанра там слушают чаще, чем в Москве.  А Москва — город контрастов, в котором, тем не менее, преобладает поп-музыка."
   ]
  },
  {
   "cell_type": "markdown",
   "metadata": {
    "id": "DlegSvaT_Zcu"
   },
   "source": [
    "Сгруппируем таблицу `moscow_general` по жанру и посчитаем прослушивания треков каждого жанра методом `count()`. Затем отсортируем результат в порядке убывания и сохраним его в таблице `moscow_genres`."
   ]
  },
  {
   "cell_type": "code",
   "execution_count": 72,
   "metadata": {
    "id": "r19lIPke_Zcu"
   },
   "outputs": [],
   "source": [
    "# одной строкой: группировка таблицы moscow_general по столбцу 'genre', \n",
    "# подсчёт числа значений 'genre' в этой группировке методом count(), \n",
    "# сортировка получившегося Series в порядке убывания и сохранение в moscow_genres\n",
    "moscow_genres = moscow_general.groupby('genre')['user_id'].count().sort_values(ascending=False)"
   ]
  },
  {
   "cell_type": "markdown",
   "metadata": {
    "id": "6kMuomxTiIr8"
   },
   "source": [
    "Выведем на экран первые десять строк `moscow_genres`:"
   ]
  },
  {
   "cell_type": "code",
   "execution_count": 73,
   "metadata": {
    "id": "WhCSooF8_Zcv"
   },
   "outputs": [
    {
     "data": {
      "text/plain": [
       "genre\n",
       "pop            5892\n",
       "dance          4435\n",
       "rock           3965\n",
       "electronic     3786\n",
       "hiphop         2096\n",
       "classical      1616\n",
       "world          1432\n",
       "alternative    1379\n",
       "ruspop         1372\n",
       "rusrap         1161\n",
       "Name: user_id, dtype: int64"
      ]
     },
     "execution_count": 73,
     "metadata": {},
     "output_type": "execute_result"
    }
   ],
   "source": [
    "# просмотр первых 10 строк moscow_genres\n",
    "moscow_genres.head(10)"
   ]
  },
  {
   "cell_type": "markdown",
   "metadata": {
    "id": "cnPG2vnN_Zcv"
   },
   "source": [
    "Теперь то же и для Петербурга.\n",
    "\n",
    "Сгруппируем таблицу `spb_general` по жанру. Посчитаем прослушивания треков каждого жанра. Результат отсортируем в порядке убывания и сохраним в таблице `spb_genres`:"
   ]
  },
  {
   "cell_type": "code",
   "execution_count": 75,
   "metadata": {
    "id": "gluLIpE7_Zcv"
   },
   "outputs": [],
   "source": [
    "# одной строкой: группировка таблицы spb_general по столбцу 'genre', \n",
    "# подсчёт числа значений 'genre' в этой группировке методом count(), \n",
    "# сортировка получившегося Series в порядке убывания и сохранение в spb_genres\n",
    "spb_genres = spb_general.groupby('genre')['user_id'].count().sort_values(ascending=False)"
   ]
  },
  {
   "cell_type": "markdown",
   "metadata": {
    "id": "5Doha_ODgyQ8"
   },
   "source": [
    "Выведем на экран первые десять строк `spb_genres`:"
   ]
  },
  {
   "cell_type": "code",
   "execution_count": 76,
   "metadata": {
    "id": "uaGJHjVU_Zcv"
   },
   "outputs": [
    {
     "data": {
      "text/plain": [
       "genre\n",
       "pop            2431\n",
       "dance          1932\n",
       "rock           1879\n",
       "electronic     1736\n",
       "hiphop          960\n",
       "alternative     649\n",
       "classical       646\n",
       "rusrap          564\n",
       "ruspop          538\n",
       "world           515\n",
       "Name: user_id, dtype: int64"
      ]
     },
     "execution_count": 76,
     "metadata": {},
     "output_type": "execute_result"
    }
   ],
   "source": [
    "# просмотр первых 10 строк spb_genres\n",
    "spb_genres.head(10)"
   ]
  },
  {
   "cell_type": "markdown",
   "metadata": {
    "id": "RY51YJYu_Zcv"
   },
   "source": [
    "**Выводы**"
   ]
  },
  {
   "cell_type": "markdown",
   "metadata": {
    "id": "nVhnJEm__Zcv"
   },
   "source": [
    "Гипотеза частично подтвердилась:\n",
    "* Поп-музыка — самый популярный жанр в Москве, как и предполагала гипотеза. Более того, в топ-10 жанров встречается близкий жанр — русская популярная музыка.\n",
    "* Вопреки ожиданиям, рэп одинаково популярен в Москве и Петербурге. "
   ]
  },
  {
   "cell_type": "markdown",
   "metadata": {
    "id": "ykKQ0N65_Zcv"
   },
   "source": [
    "## Итоги исследования"
   ]
  },
  {
   "cell_type": "markdown",
   "metadata": {
    "id": "tjUwbHb3_Zcv"
   },
   "source": [
    "Проверили три гипотезы и установили:\n",
    "\n",
    "1. День недели по-разному влияет на активность пользователей в Москве и Петербурге. \n",
    "\n",
    "Первая гипотеза полностью подтвердилась.\n",
    "\n",
    "2. Музыкальные предпочтения не сильно меняются в течение недели — будь то Москва или Петербург. Небольшие различия заметны в начале недели, по понедельникам:\n",
    "* в Москве слушают музыку жанра “world”,\n",
    "* в Петербурге — джаз и классику.\n",
    "\n",
    "Таким образом, вторая гипотеза подтвердилась лишь отчасти. Этот результат мог оказаться иным, если бы не пропуски в данных.\n",
    "\n",
    "3. Во вкусах пользователей Москвы и Петербурга больше общего чем различий. Вопреки ожиданиям, предпочтения жанров в Петербурге напоминают московские.\n",
    "\n",
    "Третья гипотеза не подтвердилась. Если различия в предпочтениях и существуют, на основной массе пользователей они незаметны."
   ]
  }
 ],
 "metadata": {
  "ExecuteTimeLog": [
   {
    "duration": 409,
    "start_time": "2022-04-21T14:26:14.838Z"
   },
   {
    "duration": 109,
    "start_time": "2022-04-21T14:27:25.391Z"
   },
   {
    "duration": 166,
    "start_time": "2022-04-21T14:27:48.268Z"
   },
   {
    "duration": 17,
    "start_time": "2022-04-21T14:28:05.139Z"
   },
   {
    "duration": 31,
    "start_time": "2022-04-21T14:29:13.622Z"
   },
   {
    "duration": 4,
    "start_time": "2022-04-21T14:40:40.933Z"
   },
   {
    "duration": 61,
    "start_time": "2022-04-21T14:41:46.791Z"
   },
   {
    "duration": 4,
    "start_time": "2022-04-21T14:42:32.838Z"
   },
   {
    "duration": 4,
    "start_time": "2022-04-21T14:43:35.577Z"
   },
   {
    "duration": 10,
    "start_time": "2022-04-21T14:46:36.081Z"
   },
   {
    "duration": 5,
    "start_time": "2022-04-21T14:46:58.791Z"
   },
   {
    "duration": 7,
    "start_time": "2022-04-21T14:49:26.664Z"
   },
   {
    "duration": 24,
    "start_time": "2022-04-21T14:49:35.327Z"
   },
   {
    "duration": 80,
    "start_time": "2022-04-21T14:55:51.447Z"
   },
   {
    "duration": 1545,
    "start_time": "2022-04-21T14:56:24.734Z"
   },
   {
    "duration": 1602,
    "start_time": "2022-04-21T14:56:39.157Z"
   },
   {
    "duration": 18,
    "start_time": "2022-04-21T14:56:54.480Z"
   },
   {
    "duration": 24,
    "start_time": "2022-04-21T14:57:08.330Z"
   },
   {
    "duration": 61,
    "start_time": "2022-04-21T14:57:50.856Z"
   },
   {
    "duration": 74,
    "start_time": "2022-04-21T14:59:13.307Z"
   },
   {
    "duration": 103,
    "start_time": "2022-04-21T14:59:28.959Z"
   },
   {
    "duration": 57,
    "start_time": "2022-04-21T15:05:20.744Z"
   },
   {
    "duration": 3,
    "start_time": "2022-04-21T15:29:01.727Z"
   },
   {
    "duration": 7,
    "start_time": "2022-04-21T15:29:05.093Z"
   },
   {
    "duration": 8,
    "start_time": "2022-04-21T15:29:37.778Z"
   },
   {
    "duration": 10,
    "start_time": "2022-04-21T15:29:54.218Z"
   },
   {
    "duration": 3,
    "start_time": "2022-04-21T15:30:34.755Z"
   },
   {
    "duration": 9,
    "start_time": "2022-04-21T15:30:38.495Z"
   },
   {
    "duration": 3,
    "start_time": "2022-04-21T15:31:38.758Z"
   },
   {
    "duration": 12,
    "start_time": "2022-04-21T15:31:42.560Z"
   },
   {
    "duration": 3,
    "start_time": "2022-04-21T15:33:23.219Z"
   },
   {
    "duration": 11,
    "start_time": "2022-04-21T15:33:25.909Z"
   },
   {
    "duration": 39,
    "start_time": "2022-04-21T15:33:34.736Z"
   },
   {
    "duration": 79,
    "start_time": "2022-04-21T15:42:35.943Z"
   },
   {
    "duration": 6,
    "start_time": "2022-04-21T15:55:49.433Z"
   },
   {
    "duration": 36,
    "start_time": "2022-04-21T15:57:06.383Z"
   },
   {
    "duration": 12,
    "start_time": "2022-04-21T16:03:41.894Z"
   },
   {
    "duration": 299,
    "start_time": "2022-04-21T16:03:59.002Z"
   },
   {
    "duration": 10,
    "start_time": "2022-04-21T16:04:19.552Z"
   },
   {
    "duration": 11,
    "start_time": "2022-04-21T16:04:29.165Z"
   },
   {
    "duration": 12,
    "start_time": "2022-04-21T16:05:16.553Z"
   },
   {
    "duration": 27,
    "start_time": "2022-04-21T16:26:59.673Z"
   },
   {
    "duration": 26,
    "start_time": "2022-04-21T16:27:09.048Z"
   },
   {
    "duration": 4,
    "start_time": "2022-04-21T16:27:21.994Z"
   },
   {
    "duration": 4,
    "start_time": "2022-04-21T16:27:33.590Z"
   },
   {
    "duration": 4,
    "start_time": "2022-04-21T16:27:43.321Z"
   },
   {
    "duration": 23,
    "start_time": "2022-04-21T16:28:04.536Z"
   },
   {
    "duration": 23,
    "start_time": "2022-04-21T16:28:09.412Z"
   },
   {
    "duration": 21,
    "start_time": "2022-04-21T16:28:15.338Z"
   },
   {
    "duration": 22,
    "start_time": "2022-04-21T16:28:57.448Z"
   },
   {
    "duration": 37,
    "start_time": "2022-04-21T16:29:15.074Z"
   },
   {
    "duration": 27,
    "start_time": "2022-04-21T16:29:57.555Z"
   },
   {
    "duration": 27,
    "start_time": "2022-04-21T16:30:00.662Z"
   },
   {
    "duration": 4,
    "start_time": "2022-04-21T16:30:22.454Z"
   },
   {
    "duration": 3,
    "start_time": "2022-04-21T16:30:26.055Z"
   },
   {
    "duration": 3,
    "start_time": "2022-04-21T16:30:48.960Z"
   },
   {
    "duration": 4,
    "start_time": "2022-04-21T16:30:51.112Z"
   },
   {
    "duration": 22,
    "start_time": "2022-04-21T16:31:01.812Z"
   },
   {
    "duration": 23,
    "start_time": "2022-04-21T16:31:04.663Z"
   },
   {
    "duration": 37,
    "start_time": "2022-04-21T16:31:30.606Z"
   },
   {
    "duration": 12,
    "start_time": "2022-04-21T16:31:52.329Z"
   },
   {
    "duration": 11,
    "start_time": "2022-04-21T16:31:54.438Z"
   },
   {
    "duration": 80,
    "start_time": "2022-04-21T16:35:09.295Z"
   },
   {
    "duration": 80,
    "start_time": "2022-04-21T16:36:14.651Z"
   },
   {
    "duration": 80,
    "start_time": "2022-04-21T16:36:43.106Z"
   },
   {
    "duration": 4,
    "start_time": "2022-04-21T16:37:24.425Z"
   },
   {
    "duration": 22,
    "start_time": "2022-04-21T16:42:44.471Z"
   },
   {
    "duration": 4,
    "start_time": "2022-04-21T16:44:15.703Z"
   },
   {
    "duration": 24,
    "start_time": "2022-04-21T16:44:20.540Z"
   },
   {
    "duration": 4,
    "start_time": "2022-04-21T16:44:30.045Z"
   },
   {
    "duration": 23,
    "start_time": "2022-04-21T16:44:32.877Z"
   },
   {
    "duration": 19,
    "start_time": "2022-04-21T16:45:18.430Z"
   },
   {
    "duration": 21,
    "start_time": "2022-04-21T16:45:57.927Z"
   },
   {
    "duration": 16,
    "start_time": "2022-04-21T16:47:25.216Z"
   },
   {
    "duration": 24,
    "start_time": "2022-04-21T16:47:29.901Z"
   },
   {
    "duration": 21,
    "start_time": "2022-04-21T16:47:32.597Z"
   },
   {
    "duration": 3,
    "start_time": "2022-04-21T16:48:55.600Z"
   },
   {
    "duration": 17,
    "start_time": "2022-04-21T16:49:00.024Z"
   },
   {
    "duration": 14,
    "start_time": "2022-04-21T16:49:03.145Z"
   },
   {
    "duration": 14,
    "start_time": "2022-04-21T16:49:05.477Z"
   },
   {
    "duration": 7,
    "start_time": "2022-04-21T16:49:06.715Z"
   },
   {
    "duration": 14,
    "start_time": "2022-04-21T16:49:15.480Z"
   },
   {
    "duration": 18,
    "start_time": "2022-04-21T16:49:18.137Z"
   },
   {
    "duration": 14,
    "start_time": "2022-04-21T16:49:19.726Z"
   },
   {
    "duration": 74,
    "start_time": "2022-04-22T11:51:06.597Z"
   },
   {
    "duration": 8,
    "start_time": "2022-04-22T11:51:20.635Z"
   },
   {
    "duration": 7,
    "start_time": "2022-04-22T11:51:58.788Z"
   },
   {
    "duration": 8,
    "start_time": "2022-04-22T11:52:34.964Z"
   },
   {
    "duration": 527,
    "start_time": "2022-04-22T11:52:50.576Z"
   },
   {
    "duration": 210,
    "start_time": "2022-04-22T11:52:51.105Z"
   },
   {
    "duration": 25,
    "start_time": "2022-04-22T11:52:51.318Z"
   },
   {
    "duration": 40,
    "start_time": "2022-04-22T11:52:51.347Z"
   },
   {
    "duration": 6,
    "start_time": "2022-04-22T11:52:51.389Z"
   },
   {
    "duration": 14,
    "start_time": "2022-04-22T11:52:51.424Z"
   },
   {
    "duration": 9,
    "start_time": "2022-04-22T11:52:51.441Z"
   },
   {
    "duration": 34,
    "start_time": "2022-04-22T11:52:51.453Z"
   },
   {
    "duration": 52,
    "start_time": "2022-04-22T11:52:51.490Z"
   },
   {
    "duration": 34,
    "start_time": "2022-04-22T11:52:51.546Z"
   },
   {
    "duration": 124,
    "start_time": "2022-04-22T11:52:51.582Z"
   },
   {
    "duration": 123,
    "start_time": "2022-04-22T11:52:51.709Z"
   },
   {
    "duration": 106,
    "start_time": "2022-04-22T11:52:51.835Z"
   },
   {
    "duration": 54,
    "start_time": "2022-04-22T11:52:51.943Z"
   },
   {
    "duration": 4,
    "start_time": "2022-04-22T11:52:51.999Z"
   },
   {
    "duration": 15,
    "start_time": "2022-04-22T11:52:52.025Z"
   },
   {
    "duration": 55,
    "start_time": "2022-04-22T11:52:52.042Z"
   },
   {
    "duration": 9,
    "start_time": "2022-04-22T11:52:52.124Z"
   },
   {
    "duration": 56,
    "start_time": "2022-04-22T11:52:52.136Z"
   },
   {
    "duration": 40,
    "start_time": "2022-04-22T11:52:52.194Z"
   },
   {
    "duration": 19,
    "start_time": "2022-04-22T11:52:52.237Z"
   },
   {
    "duration": 8,
    "start_time": "2022-04-22T11:52:52.258Z"
   },
   {
    "duration": 66,
    "start_time": "2022-04-22T11:52:52.268Z"
   },
   {
    "duration": 22,
    "start_time": "2022-04-22T11:52:52.337Z"
   },
   {
    "duration": 23,
    "start_time": "2022-04-22T11:52:52.362Z"
   },
   {
    "duration": 55,
    "start_time": "2022-04-22T11:52:52.387Z"
   },
   {
    "duration": 25,
    "start_time": "2022-04-22T11:52:52.444Z"
   },
   {
    "duration": 55,
    "start_time": "2022-04-22T11:52:52.476Z"
   },
   {
    "duration": 6,
    "start_time": "2022-04-22T11:52:52.533Z"
   },
   {
    "duration": 18,
    "start_time": "2022-04-22T11:52:52.541Z"
   },
   {
    "duration": 8,
    "start_time": "2022-04-22T11:52:52.561Z"
   },
   {
    "duration": 7,
    "start_time": "2022-04-22T11:52:52.571Z"
   },
   {
    "duration": 11,
    "start_time": "2022-04-22T11:52:52.580Z"
   },
   {
    "duration": 8,
    "start_time": "2022-04-22T11:52:52.593Z"
   },
   {
    "duration": 24,
    "start_time": "2022-04-22T11:52:52.603Z"
   },
   {
    "duration": 12,
    "start_time": "2022-04-22T11:52:52.630Z"
   },
   {
    "duration": 9,
    "start_time": "2022-04-22T11:52:52.644Z"
   },
   {
    "duration": 8,
    "start_time": "2022-04-22T11:52:52.655Z"
   },
   {
    "duration": 6,
    "start_time": "2022-04-22T11:52:52.665Z"
   },
   {
    "duration": 10,
    "start_time": "2022-04-22T11:52:52.673Z"
   },
   {
    "duration": 6,
    "start_time": "2022-04-22T11:53:14.189Z"
   },
   {
    "duration": 52,
    "start_time": "2022-04-22T11:53:26.225Z"
   },
   {
    "duration": 44,
    "start_time": "2022-04-22T11:53:44.126Z"
   },
   {
    "duration": 138,
    "start_time": "2022-04-22T11:53:55.476Z"
   },
   {
    "duration": 17,
    "start_time": "2022-04-22T11:54:04.238Z"
   },
   {
    "duration": 10,
    "start_time": "2022-04-22T11:57:03.913Z"
   },
   {
    "duration": 16,
    "start_time": "2022-04-22T11:57:38.014Z"
   },
   {
    "duration": 31,
    "start_time": "2022-04-22T12:04:10.696Z"
   },
   {
    "duration": 32,
    "start_time": "2022-04-22T12:06:13.391Z"
   },
   {
    "duration": 25,
    "start_time": "2022-04-22T12:07:27.464Z"
   },
   {
    "duration": 21,
    "start_time": "2022-04-22T12:07:53.450Z"
   },
   {
    "duration": 32,
    "start_time": "2022-04-22T12:08:14.031Z"
   },
   {
    "duration": 36,
    "start_time": "2022-04-22T12:08:19.576Z"
   },
   {
    "duration": 35,
    "start_time": "2022-04-22T12:08:26.897Z"
   },
   {
    "duration": 31,
    "start_time": "2022-04-22T12:08:36.286Z"
   },
   {
    "duration": 36,
    "start_time": "2022-04-22T12:10:34.426Z"
   },
   {
    "duration": 36,
    "start_time": "2022-04-22T12:12:24.684Z"
   },
   {
    "duration": 37,
    "start_time": "2022-04-22T12:13:38.113Z"
   },
   {
    "duration": 38,
    "start_time": "2022-04-22T12:14:02.749Z"
   },
   {
    "duration": 53,
    "start_time": "2022-04-22T12:14:12.729Z"
   },
   {
    "duration": 131,
    "start_time": "2022-04-22T12:17:11.465Z"
   },
   {
    "duration": 39,
    "start_time": "2022-04-22T12:17:21.455Z"
   },
   {
    "duration": 16,
    "start_time": "2022-04-22T12:19:02.689Z"
   },
   {
    "duration": 21,
    "start_time": "2022-04-22T12:19:52.360Z"
   },
   {
    "duration": 21,
    "start_time": "2022-04-22T12:20:56.833Z"
   },
   {
    "duration": 22,
    "start_time": "2022-04-22T12:21:30.861Z"
   },
   {
    "duration": 139,
    "start_time": "2022-04-22T12:25:46.736Z"
   },
   {
    "duration": 182,
    "start_time": "2022-04-22T12:26:19.475Z"
   },
   {
    "duration": 179,
    "start_time": "2022-04-22T12:26:25.716Z"
   },
   {
    "duration": 130,
    "start_time": "2022-04-22T12:31:13.622Z"
   },
   {
    "duration": 11,
    "start_time": "2022-04-22T12:31:24.461Z"
   },
   {
    "duration": 49,
    "start_time": "2022-04-22T12:33:27.642Z"
   },
   {
    "duration": 22,
    "start_time": "2022-04-22T12:34:22.140Z"
   },
   {
    "duration": 9,
    "start_time": "2022-04-22T12:34:51.512Z"
   },
   {
    "duration": 6,
    "start_time": "2022-04-22T12:34:57.407Z"
   },
   {
    "duration": 26,
    "start_time": "2022-04-22T12:35:02.367Z"
   },
   {
    "duration": 24,
    "start_time": "2022-04-22T12:35:07.523Z"
   },
   {
    "duration": 31,
    "start_time": "2022-04-22T12:35:08.522Z"
   },
   {
    "duration": 20,
    "start_time": "2022-04-22T12:35:09.232Z"
   },
   {
    "duration": 26,
    "start_time": "2022-04-22T12:35:10.138Z"
   },
   {
    "duration": 22,
    "start_time": "2022-04-22T12:35:11.770Z"
   },
   {
    "duration": 26,
    "start_time": "2022-04-22T12:35:18.666Z"
   },
   {
    "duration": 17,
    "start_time": "2022-04-22T12:35:49.656Z"
   },
   {
    "duration": 8,
    "start_time": "2022-04-22T12:36:03.187Z"
   },
   {
    "duration": 9,
    "start_time": "2022-04-22T12:36:14.256Z"
   },
   {
    "duration": 5,
    "start_time": "2022-04-22T12:36:19.737Z"
   },
   {
    "duration": 23,
    "start_time": "2022-04-22T12:36:25.489Z"
   },
   {
    "duration": 22,
    "start_time": "2022-04-22T12:36:26.199Z"
   },
   {
    "duration": 21,
    "start_time": "2022-04-22T12:36:26.814Z"
   },
   {
    "duration": 20,
    "start_time": "2022-04-22T12:36:30.344Z"
   },
   {
    "duration": 24,
    "start_time": "2022-04-22T12:36:31.238Z"
   },
   {
    "duration": 22,
    "start_time": "2022-04-22T12:36:32.485Z"
   },
   {
    "duration": 48,
    "start_time": "2022-04-22T12:36:37.697Z"
   },
   {
    "duration": 47,
    "start_time": "2022-04-22T12:36:47.493Z"
   },
   {
    "duration": 23,
    "start_time": "2022-04-22T12:36:55.348Z"
   },
   {
    "duration": 15,
    "start_time": "2022-04-22T12:37:15.757Z"
   },
   {
    "duration": 16,
    "start_time": "2022-04-22T12:37:56.949Z"
   },
   {
    "duration": 21,
    "start_time": "2022-04-22T12:39:40.254Z"
   },
   {
    "duration": 16,
    "start_time": "2022-04-22T12:40:30.038Z"
   },
   {
    "duration": 49,
    "start_time": "2022-04-22T12:41:11.512Z"
   },
   {
    "duration": 79,
    "start_time": "2022-04-22T12:42:32.444Z"
   },
   {
    "duration": 80,
    "start_time": "2022-04-22T12:42:44.147Z"
   },
   {
    "duration": 84,
    "start_time": "2022-04-22T12:43:19.691Z"
   },
   {
    "duration": 83,
    "start_time": "2022-04-22T12:46:16.742Z"
   },
   {
    "duration": 141,
    "start_time": "2022-04-22T12:47:16.046Z"
   },
   {
    "duration": 138,
    "start_time": "2022-04-22T12:47:41.443Z"
   },
   {
    "duration": 136,
    "start_time": "2022-04-22T12:50:58.474Z"
   },
   {
    "duration": 56,
    "start_time": "2022-04-22T12:51:46.620Z"
   },
   {
    "duration": 53,
    "start_time": "2022-04-22T12:52:12.322Z"
   },
   {
    "duration": 107,
    "start_time": "2022-04-22T12:54:41.037Z"
   },
   {
    "duration": 107,
    "start_time": "2022-04-22T12:55:07.439Z"
   },
   {
    "duration": 16,
    "start_time": "2022-04-22T12:58:58.226Z"
   },
   {
    "duration": 33,
    "start_time": "2022-04-22T12:59:40.944Z"
   },
   {
    "duration": 53,
    "start_time": "2022-04-22T13:00:18.882Z"
   },
   {
    "duration": 53,
    "start_time": "2022-04-22T13:00:42.025Z"
   },
   {
    "duration": 18,
    "start_time": "2022-04-22T13:00:56.704Z"
   },
   {
    "duration": 18,
    "start_time": "2022-04-22T13:01:33.611Z"
   },
   {
    "duration": 16,
    "start_time": "2022-04-22T13:01:41.552Z"
   },
   {
    "duration": 139,
    "start_time": "2022-04-22T13:02:08.408Z"
   },
   {
    "duration": 139,
    "start_time": "2022-04-22T13:02:35.806Z"
   },
   {
    "duration": 140,
    "start_time": "2022-04-22T13:05:07.768Z"
   },
   {
    "duration": 137,
    "start_time": "2022-04-22T13:05:53.159Z"
   },
   {
    "duration": 138,
    "start_time": "2022-04-22T13:06:18.313Z"
   },
   {
    "duration": 130,
    "start_time": "2022-04-22T13:06:24.654Z"
   },
   {
    "duration": 140,
    "start_time": "2022-04-22T13:06:51.796Z"
   },
   {
    "duration": 139,
    "start_time": "2022-04-22T13:07:12.076Z"
   },
   {
    "duration": 150,
    "start_time": "2022-04-22T13:10:03.476Z"
   },
   {
    "duration": 142,
    "start_time": "2022-04-22T13:10:18.708Z"
   },
   {
    "duration": 150,
    "start_time": "2022-04-22T13:12:03.216Z"
   },
   {
    "duration": 137,
    "start_time": "2022-04-22T13:15:47.562Z"
   },
   {
    "duration": 147,
    "start_time": "2022-04-22T13:16:01.374Z"
   },
   {
    "duration": 147,
    "start_time": "2022-04-22T13:18:20.517Z"
   },
   {
    "duration": 147,
    "start_time": "2022-04-22T13:19:08.516Z"
   },
   {
    "duration": 189,
    "start_time": "2022-04-22T13:20:07.006Z"
   },
   {
    "duration": 16,
    "start_time": "2022-04-22T13:29:40.330Z"
   },
   {
    "duration": 38,
    "start_time": "2022-04-22T13:30:00.003Z"
   },
   {
    "duration": 17,
    "start_time": "2022-04-22T13:30:42.404Z"
   },
   {
    "duration": 27,
    "start_time": "2022-04-22T13:30:50.560Z"
   },
   {
    "duration": 15,
    "start_time": "2022-04-22T13:31:01.396Z"
   },
   {
    "duration": 6,
    "start_time": "2022-04-22T13:39:36.061Z"
   },
   {
    "duration": 9,
    "start_time": "2022-04-22T13:40:14.802Z"
   },
   {
    "duration": 5,
    "start_time": "2022-04-22T13:40:31.451Z"
   },
   {
    "duration": 33,
    "start_time": "2022-04-22T13:40:35.938Z"
   },
   {
    "duration": 7,
    "start_time": "2022-04-22T13:40:54.675Z"
   },
   {
    "duration": 31,
    "start_time": "2022-04-22T13:40:57.954Z"
   },
   {
    "duration": 7,
    "start_time": "2022-04-22T13:41:09.282Z"
   },
   {
    "duration": 31,
    "start_time": "2022-04-22T13:41:13.770Z"
   },
   {
    "duration": 32,
    "start_time": "2022-04-22T13:42:20.870Z"
   },
   {
    "duration": 28,
    "start_time": "2022-04-22T13:43:22.915Z"
   },
   {
    "duration": 28,
    "start_time": "2022-04-22T13:43:44.266Z"
   },
   {
    "duration": 30,
    "start_time": "2022-04-22T13:44:47.676Z"
   },
   {
    "duration": 31,
    "start_time": "2022-04-22T13:44:50.828Z"
   },
   {
    "duration": 29,
    "start_time": "2022-04-22T13:44:56.298Z"
   },
   {
    "duration": 29,
    "start_time": "2022-04-22T13:45:00.675Z"
   },
   {
    "duration": 35,
    "start_time": "2022-04-22T13:52:21.733Z"
   },
   {
    "duration": 28,
    "start_time": "2022-04-22T13:52:25.385Z"
   },
   {
    "duration": 26,
    "start_time": "2022-04-22T13:56:07.160Z"
   },
   {
    "duration": 32,
    "start_time": "2022-04-22T13:56:13.614Z"
   },
   {
    "duration": 30,
    "start_time": "2022-04-22T13:56:19.365Z"
   },
   {
    "duration": 30,
    "start_time": "2022-04-22T13:56:28.657Z"
   },
   {
    "duration": 27,
    "start_time": "2022-04-22T13:59:21.932Z"
   },
   {
    "duration": 28,
    "start_time": "2022-04-22T13:59:28.380Z"
   },
   {
    "duration": 31,
    "start_time": "2022-04-22T13:59:32.927Z"
   },
   {
    "duration": 34,
    "start_time": "2022-04-22T14:01:28.574Z"
   },
   {
    "duration": 33,
    "start_time": "2022-04-22T14:04:22.274Z"
   },
   {
    "duration": 130,
    "start_time": "2022-04-22T14:04:27.538Z"
   },
   {
    "duration": 27,
    "start_time": "2022-04-22T14:05:02.559Z"
   },
   {
    "duration": 16,
    "start_time": "2022-04-22T14:06:41.346Z"
   },
   {
    "duration": 31,
    "start_time": "2022-04-22T14:13:29.314Z"
   },
   {
    "duration": 30,
    "start_time": "2022-04-22T14:14:19.892Z"
   },
   {
    "duration": 30,
    "start_time": "2022-04-22T14:35:01.773Z"
   },
   {
    "duration": 30,
    "start_time": "2022-04-22T14:36:54.386Z"
   },
   {
    "duration": 30,
    "start_time": "2022-04-22T14:37:15.182Z"
   },
   {
    "duration": 42,
    "start_time": "2022-04-22T14:37:58.955Z"
   },
   {
    "duration": 39,
    "start_time": "2022-04-22T14:38:23.215Z"
   },
   {
    "duration": 30,
    "start_time": "2022-04-22T14:38:52.473Z"
   },
   {
    "duration": 29,
    "start_time": "2022-04-22T14:39:38.884Z"
   },
   {
    "duration": 42,
    "start_time": "2022-04-22T14:40:38.340Z"
   },
   {
    "duration": 48,
    "start_time": "2022-04-22T14:40:45.405Z"
   },
   {
    "duration": 41,
    "start_time": "2022-04-22T14:40:56.750Z"
   },
   {
    "duration": 44,
    "start_time": "2022-04-22T14:41:16.502Z"
   },
   {
    "duration": 46,
    "start_time": "2022-04-22T14:41:35.623Z"
   },
   {
    "duration": 42,
    "start_time": "2022-04-22T14:42:26.256Z"
   },
   {
    "duration": 36,
    "start_time": "2022-04-22T14:42:44.561Z"
   },
   {
    "duration": 135,
    "start_time": "2022-04-22T14:42:53.976Z"
   },
   {
    "duration": 28,
    "start_time": "2022-04-22T14:43:03.966Z"
   },
   {
    "duration": 32,
    "start_time": "2022-04-22T14:44:03.096Z"
   },
   {
    "duration": 31,
    "start_time": "2022-04-22T14:45:13.510Z"
   },
   {
    "duration": 34,
    "start_time": "2022-04-22T14:46:20.030Z"
   },
   {
    "duration": 36,
    "start_time": "2022-04-22T14:47:12.194Z"
   },
   {
    "duration": 30,
    "start_time": "2022-04-22T14:47:19.095Z"
   },
   {
    "duration": 48,
    "start_time": "2022-04-22T14:48:31.782Z"
   },
   {
    "duration": 48,
    "start_time": "2022-04-22T14:48:32.962Z"
   },
   {
    "duration": 39,
    "start_time": "2022-04-22T14:48:42.247Z"
   },
   {
    "duration": 3,
    "start_time": "2022-04-22T14:49:28.805Z"
   },
   {
    "duration": 30,
    "start_time": "2022-04-22T14:49:33.755Z"
   },
   {
    "duration": 29,
    "start_time": "2022-04-22T14:50:09.084Z"
   },
   {
    "duration": 30,
    "start_time": "2022-04-22T14:50:13.847Z"
   },
   {
    "duration": 31,
    "start_time": "2022-04-22T14:50:36.044Z"
   },
   {
    "duration": 33,
    "start_time": "2022-04-22T14:50:38.344Z"
   },
   {
    "duration": 29,
    "start_time": "2022-04-22T14:51:40.348Z"
   },
   {
    "duration": 5,
    "start_time": "2022-04-22T14:52:18.836Z"
   },
   {
    "duration": 18,
    "start_time": "2022-04-22T14:52:24.916Z"
   },
   {
    "duration": 5,
    "start_time": "2022-04-22T14:52:59.116Z"
   },
   {
    "duration": 19,
    "start_time": "2022-04-22T14:53:06.525Z"
   },
   {
    "duration": 19,
    "start_time": "2022-04-22T14:53:15.290Z"
   },
   {
    "duration": 18,
    "start_time": "2022-04-22T14:53:17.596Z"
   },
   {
    "duration": 19,
    "start_time": "2022-04-22T14:53:31.417Z"
   },
   {
    "duration": 5,
    "start_time": "2022-04-22T14:53:43.251Z"
   },
   {
    "duration": 21,
    "start_time": "2022-04-22T14:53:47.854Z"
   },
   {
    "duration": 13,
    "start_time": "2022-04-22T14:54:43.345Z"
   },
   {
    "duration": 21,
    "start_time": "2022-04-22T14:55:07.203Z"
   },
   {
    "duration": 19,
    "start_time": "2022-04-22T14:55:32.136Z"
   },
   {
    "duration": 140,
    "start_time": "2022-04-22T14:55:48.830Z"
   },
   {
    "duration": 20,
    "start_time": "2022-04-22T14:56:03.764Z"
   },
   {
    "duration": 6,
    "start_time": "2022-04-22T14:56:11.838Z"
   },
   {
    "duration": 20,
    "start_time": "2022-04-22T14:56:23.391Z"
   },
   {
    "duration": 7,
    "start_time": "2022-04-22T14:58:15.573Z"
   },
   {
    "duration": 6,
    "start_time": "2022-04-22T14:58:22.244Z"
   },
   {
    "duration": 6,
    "start_time": "2022-04-22T14:58:40.738Z"
   },
   {
    "duration": 7,
    "start_time": "2022-04-22T14:59:56.768Z"
   },
   {
    "duration": 19,
    "start_time": "2022-04-22T15:00:14.582Z"
   },
   {
    "duration": 18,
    "start_time": "2022-04-22T15:00:25.581Z"
   },
   {
    "duration": 19,
    "start_time": "2022-04-22T15:01:51.702Z"
   },
   {
    "duration": 26,
    "start_time": "2022-04-22T15:01:57.333Z"
   },
   {
    "duration": 28,
    "start_time": "2022-04-22T15:02:04.385Z"
   },
   {
    "duration": 17,
    "start_time": "2022-04-22T15:02:26.677Z"
   },
   {
    "duration": 10,
    "start_time": "2022-04-22T15:04:32.759Z"
   },
   {
    "duration": 19,
    "start_time": "2022-04-22T15:04:40.090Z"
   },
   {
    "duration": 19,
    "start_time": "2022-04-22T15:05:22.398Z"
   },
   {
    "duration": 28,
    "start_time": "2022-04-22T15:06:37.176Z"
   },
   {
    "duration": 5,
    "start_time": "2022-04-22T15:08:23.544Z"
   },
   {
    "duration": 5,
    "start_time": "2022-04-22T15:08:43.970Z"
   },
   {
    "duration": 5,
    "start_time": "2022-04-22T15:09:10.655Z"
   },
   {
    "duration": 19,
    "start_time": "2022-04-22T15:09:13.114Z"
   },
   {
    "duration": 25,
    "start_time": "2022-04-22T15:09:35.762Z"
   },
   {
    "duration": 5,
    "start_time": "2022-04-22T15:09:45.748Z"
   },
   {
    "duration": 26,
    "start_time": "2022-04-22T15:09:50.596Z"
   },
   {
    "duration": 7,
    "start_time": "2022-04-22T15:10:05.285Z"
   },
   {
    "duration": 31,
    "start_time": "2022-04-22T15:10:10.149Z"
   },
   {
    "duration": 6,
    "start_time": "2022-04-22T15:11:51.134Z"
   },
   {
    "duration": 5,
    "start_time": "2022-04-22T15:12:03.388Z"
   },
   {
    "duration": 29,
    "start_time": "2022-04-22T15:12:09.158Z"
   },
   {
    "duration": 5,
    "start_time": "2022-04-22T15:12:40.900Z"
   },
   {
    "duration": 26,
    "start_time": "2022-04-22T15:12:46.079Z"
   },
   {
    "duration": 7,
    "start_time": "2022-04-22T15:13:12.920Z"
   },
   {
    "duration": 29,
    "start_time": "2022-04-22T15:13:17.237Z"
   },
   {
    "duration": 6,
    "start_time": "2022-04-22T15:13:30.032Z"
   },
   {
    "duration": 5,
    "start_time": "2022-04-22T15:14:48.174Z"
   },
   {
    "duration": 49,
    "start_time": "2022-04-22T15:14:52.248Z"
   },
   {
    "duration": 6,
    "start_time": "2022-04-22T15:18:47.663Z"
   },
   {
    "duration": 53,
    "start_time": "2022-04-22T15:18:54.614Z"
   },
   {
    "duration": 5,
    "start_time": "2022-04-22T15:19:27.389Z"
   },
   {
    "duration": 54,
    "start_time": "2022-04-22T15:19:40.924Z"
   },
   {
    "duration": 6,
    "start_time": "2022-04-22T15:20:01.150Z"
   },
   {
    "duration": 50,
    "start_time": "2022-04-22T15:20:06.345Z"
   },
   {
    "duration": 31,
    "start_time": "2022-04-22T15:20:30.938Z"
   },
   {
    "duration": 12,
    "start_time": "2022-04-22T15:21:27.060Z"
   },
   {
    "duration": 31,
    "start_time": "2022-04-22T15:21:41.152Z"
   },
   {
    "duration": 5,
    "start_time": "2022-04-22T15:22:17.870Z"
   },
   {
    "duration": 28,
    "start_time": "2022-04-22T15:22:22.538Z"
   },
   {
    "duration": 7,
    "start_time": "2022-04-22T15:22:36.652Z"
   },
   {
    "duration": 28,
    "start_time": "2022-04-22T15:22:40.459Z"
   },
   {
    "duration": 6,
    "start_time": "2022-04-22T15:23:27.612Z"
   },
   {
    "duration": 28,
    "start_time": "2022-04-22T15:23:33.250Z"
   },
   {
    "duration": 5,
    "start_time": "2022-04-22T15:24:20.016Z"
   },
   {
    "duration": 17,
    "start_time": "2022-04-22T15:24:24.056Z"
   },
   {
    "duration": 14,
    "start_time": "2022-04-22T15:25:11.125Z"
   },
   {
    "duration": 20,
    "start_time": "2022-04-22T15:25:21.114Z"
   },
   {
    "duration": 25,
    "start_time": "2022-04-22T15:25:34.701Z"
   },
   {
    "duration": 27,
    "start_time": "2022-04-22T15:26:26.260Z"
   },
   {
    "duration": 18,
    "start_time": "2022-04-22T15:26:40.034Z"
   },
   {
    "duration": 20,
    "start_time": "2022-04-22T15:26:51.081Z"
   },
   {
    "duration": 24,
    "start_time": "2022-04-22T15:27:05.677Z"
   },
   {
    "duration": 17,
    "start_time": "2022-04-22T15:27:30.868Z"
   },
   {
    "duration": 24,
    "start_time": "2022-04-22T15:27:45.218Z"
   },
   {
    "duration": 25,
    "start_time": "2022-04-22T15:27:55.284Z"
   },
   {
    "duration": 17,
    "start_time": "2022-04-22T15:28:05.744Z"
   },
   {
    "duration": 20,
    "start_time": "2022-04-22T15:28:17.342Z"
   },
   {
    "duration": 9,
    "start_time": "2022-04-22T15:37:23.685Z"
   },
   {
    "duration": 18,
    "start_time": "2022-04-22T15:37:44.725Z"
   },
   {
    "duration": 12,
    "start_time": "2022-04-22T15:38:08.518Z"
   },
   {
    "duration": 14,
    "start_time": "2022-04-22T15:38:21.681Z"
   },
   {
    "duration": 21,
    "start_time": "2022-04-22T15:38:59.861Z"
   },
   {
    "duration": 13,
    "start_time": "2022-04-22T15:39:17.543Z"
   },
   {
    "duration": 16,
    "start_time": "2022-04-22T15:39:31.005Z"
   },
   {
    "duration": 5,
    "start_time": "2022-04-22T15:39:50.556Z"
   },
   {
    "duration": 20,
    "start_time": "2022-04-22T15:39:55.490Z"
   },
   {
    "duration": 11,
    "start_time": "2022-04-22T15:40:49.375Z"
   },
   {
    "duration": 7,
    "start_time": "2022-04-22T15:41:05.913Z"
   },
   {
    "duration": 3,
    "start_time": "2022-04-22T15:42:03.593Z"
   },
   {
    "duration": 263,
    "start_time": "2022-04-22T15:42:03.604Z"
   },
   {
    "duration": 16,
    "start_time": "2022-04-22T15:42:03.870Z"
   },
   {
    "duration": 68,
    "start_time": "2022-04-22T15:42:03.889Z"
   },
   {
    "duration": 11,
    "start_time": "2022-04-22T15:42:03.961Z"
   },
   {
    "duration": 36,
    "start_time": "2022-04-22T15:42:03.974Z"
   },
   {
    "duration": 11,
    "start_time": "2022-04-22T15:42:04.013Z"
   },
   {
    "duration": 43,
    "start_time": "2022-04-22T15:42:04.027Z"
   },
   {
    "duration": 51,
    "start_time": "2022-04-22T15:42:04.073Z"
   },
   {
    "duration": 55,
    "start_time": "2022-04-22T15:42:04.127Z"
   },
   {
    "duration": 111,
    "start_time": "2022-04-22T15:42:04.186Z"
   },
   {
    "duration": 135,
    "start_time": "2022-04-22T15:42:04.299Z"
   },
   {
    "duration": 116,
    "start_time": "2022-04-22T15:42:04.436Z"
   },
   {
    "duration": 72,
    "start_time": "2022-04-22T15:42:04.554Z"
   },
   {
    "duration": 5,
    "start_time": "2022-04-22T15:42:04.633Z"
   },
   {
    "duration": 32,
    "start_time": "2022-04-22T15:42:04.642Z"
   },
   {
    "duration": 81,
    "start_time": "2022-04-22T15:42:04.677Z"
   },
   {
    "duration": 8,
    "start_time": "2022-04-22T15:42:04.760Z"
   },
   {
    "duration": 96,
    "start_time": "2022-04-22T15:42:04.771Z"
   },
   {
    "duration": 19,
    "start_time": "2022-04-22T15:42:04.870Z"
   },
   {
    "duration": 306,
    "start_time": "2022-04-22T15:42:04.892Z"
   },
   {
    "duration": 20,
    "start_time": "2022-04-22T15:42:05.200Z"
   },
   {
    "duration": 55,
    "start_time": "2022-04-22T15:42:05.224Z"
   },
   {
    "duration": 22,
    "start_time": "2022-04-22T15:42:05.282Z"
   },
   {
    "duration": 78,
    "start_time": "2022-04-22T15:42:05.307Z"
   },
   {
    "duration": 29,
    "start_time": "2022-04-22T15:42:05.387Z"
   },
   {
    "duration": 57,
    "start_time": "2022-04-22T15:42:05.418Z"
   },
   {
    "duration": 37,
    "start_time": "2022-04-22T15:42:05.478Z"
   },
   {
    "duration": 164,
    "start_time": "2022-04-22T15:42:05.521Z"
   },
   {
    "duration": 16,
    "start_time": "2022-04-22T15:42:05.688Z"
   },
   {
    "duration": 53,
    "start_time": "2022-04-22T15:42:05.706Z"
   },
   {
    "duration": 51,
    "start_time": "2022-04-22T15:42:05.761Z"
   },
   {
    "duration": 79,
    "start_time": "2022-04-22T15:42:05.815Z"
   },
   {
    "duration": 42,
    "start_time": "2022-04-22T15:42:05.896Z"
   },
   {
    "duration": 62,
    "start_time": "2022-04-22T15:42:05.940Z"
   },
   {
    "duration": 34,
    "start_time": "2022-04-22T15:42:06.004Z"
   },
   {
    "duration": 24,
    "start_time": "2022-04-22T15:42:06.041Z"
   },
   {
    "duration": 29,
    "start_time": "2022-04-22T15:42:06.068Z"
   },
   {
    "duration": 32,
    "start_time": "2022-04-22T15:42:06.099Z"
   },
   {
    "duration": 42,
    "start_time": "2022-04-22T15:42:06.134Z"
   },
   {
    "duration": 46,
    "start_time": "2022-04-29T18:59:39.585Z"
   },
   {
    "duration": 406,
    "start_time": "2022-04-29T18:59:46.183Z"
   },
   {
    "duration": 140,
    "start_time": "2022-04-29T18:59:46.591Z"
   },
   {
    "duration": 16,
    "start_time": "2022-04-29T18:59:46.733Z"
   },
   {
    "duration": 9,
    "start_time": "2022-04-29T18:59:46.751Z"
   },
   {
    "duration": 31,
    "start_time": "2022-04-29T18:59:46.761Z"
   },
   {
    "duration": 4,
    "start_time": "2022-04-29T18:59:46.793Z"
   },
   {
    "duration": 28,
    "start_time": "2022-04-29T18:59:46.799Z"
   },
   {
    "duration": 6,
    "start_time": "2022-04-29T18:59:46.828Z"
   },
   {
    "duration": 25,
    "start_time": "2022-04-29T18:59:46.836Z"
   },
   {
    "duration": 18,
    "start_time": "2022-04-29T18:59:46.863Z"
   },
   {
    "duration": 44,
    "start_time": "2022-04-29T18:59:46.883Z"
   },
   {
    "duration": 62,
    "start_time": "2022-04-29T18:59:46.928Z"
   },
   {
    "duration": 91,
    "start_time": "2022-04-29T18:59:46.991Z"
   },
   {
    "duration": 60,
    "start_time": "2022-04-29T18:59:47.084Z"
   },
   {
    "duration": 34,
    "start_time": "2022-04-29T18:59:47.145Z"
   },
   {
    "duration": 3,
    "start_time": "2022-04-29T18:59:47.181Z"
   },
   {
    "duration": 11,
    "start_time": "2022-04-29T18:59:47.185Z"
   },
   {
    "duration": 50,
    "start_time": "2022-04-29T18:59:47.198Z"
   },
   {
    "duration": 4,
    "start_time": "2022-04-29T18:59:47.250Z"
   },
   {
    "duration": 35,
    "start_time": "2022-04-29T18:59:47.256Z"
   },
   {
    "duration": 30,
    "start_time": "2022-04-29T18:59:47.293Z"
   },
   {
    "duration": 11,
    "start_time": "2022-04-29T18:59:47.325Z"
   },
   {
    "duration": 3,
    "start_time": "2022-04-29T18:59:47.337Z"
   },
   {
    "duration": 20,
    "start_time": "2022-04-29T18:59:47.342Z"
   },
   {
    "duration": 12,
    "start_time": "2022-04-29T18:59:47.364Z"
   },
   {
    "duration": 12,
    "start_time": "2022-04-29T18:59:47.378Z"
   },
   {
    "duration": 41,
    "start_time": "2022-04-29T18:59:47.391Z"
   },
   {
    "duration": 15,
    "start_time": "2022-04-29T18:59:47.435Z"
   },
   {
    "duration": 14,
    "start_time": "2022-04-29T18:59:47.451Z"
   },
   {
    "duration": 108,
    "start_time": "2022-04-29T18:59:47.466Z"
   },
   {
    "duration": 10,
    "start_time": "2022-04-29T18:59:47.576Z"
   },
   {
    "duration": 8,
    "start_time": "2022-04-29T18:59:47.587Z"
   },
   {
    "duration": 4,
    "start_time": "2022-04-29T18:59:47.597Z"
   },
   {
    "duration": 34,
    "start_time": "2022-04-29T18:59:47.603Z"
   },
   {
    "duration": 11,
    "start_time": "2022-04-29T18:59:47.639Z"
   },
   {
    "duration": 15,
    "start_time": "2022-04-29T18:59:47.652Z"
   },
   {
    "duration": 12,
    "start_time": "2022-04-29T18:59:47.668Z"
   },
   {
    "duration": 46,
    "start_time": "2022-04-29T18:59:47.681Z"
   },
   {
    "duration": 3,
    "start_time": "2022-04-29T18:59:47.729Z"
   },
   {
    "duration": 9,
    "start_time": "2022-04-29T18:59:47.733Z"
   },
   {
    "duration": 4,
    "start_time": "2022-04-29T18:59:47.744Z"
   },
   {
    "duration": 155,
    "start_time": "2022-05-11T06:38:14.735Z"
   },
   {
    "duration": 71,
    "start_time": "2022-05-11T06:46:42.491Z"
   },
   {
    "duration": 489,
    "start_time": "2022-05-11T06:46:48.772Z"
   },
   {
    "duration": 236,
    "start_time": "2022-05-11T06:46:51.592Z"
   },
   {
    "duration": 26,
    "start_time": "2022-05-11T06:46:53.851Z"
   },
   {
    "duration": 113,
    "start_time": "2022-05-11T06:49:38.725Z"
   },
   {
    "duration": 42,
    "start_time": "2022-05-11T07:03:53.860Z"
   },
   {
    "duration": 4,
    "start_time": "2022-05-11T07:04:08.761Z"
   },
   {
    "duration": 335,
    "start_time": "2022-05-11T07:04:08.769Z"
   },
   {
    "duration": 24,
    "start_time": "2022-05-11T07:04:09.107Z"
   },
   {
    "duration": 26,
    "start_time": "2022-05-11T07:04:09.135Z"
   },
   {
    "duration": 69,
    "start_time": "2022-05-11T07:04:09.163Z"
   },
   {
    "duration": 6,
    "start_time": "2022-05-11T07:04:09.240Z"
   },
   {
    "duration": 16,
    "start_time": "2022-05-11T07:04:09.249Z"
   },
   {
    "duration": 9,
    "start_time": "2022-05-11T07:04:09.267Z"
   },
   {
    "duration": 86,
    "start_time": "2022-05-11T07:04:09.280Z"
   },
   {
    "duration": 41,
    "start_time": "2022-05-11T07:04:09.369Z"
   },
   {
    "duration": 42,
    "start_time": "2022-05-11T07:04:09.432Z"
   },
   {
    "duration": 173,
    "start_time": "2022-05-11T07:04:09.477Z"
   },
   {
    "duration": 146,
    "start_time": "2022-05-11T07:04:09.653Z"
   },
   {
    "duration": 115,
    "start_time": "2022-05-11T07:04:09.801Z"
   },
   {
    "duration": 61,
    "start_time": "2022-05-11T07:04:09.925Z"
   },
   {
    "duration": 4,
    "start_time": "2022-05-11T07:04:09.989Z"
   },
   {
    "duration": 53,
    "start_time": "2022-05-11T07:04:09.995Z"
   },
   {
    "duration": 55,
    "start_time": "2022-05-11T07:04:10.051Z"
   },
   {
    "duration": 32,
    "start_time": "2022-05-11T07:04:10.109Z"
   },
   {
    "duration": 64,
    "start_time": "2022-05-11T07:04:10.145Z"
   },
   {
    "duration": 30,
    "start_time": "2022-05-11T07:04:10.211Z"
   },
   {
    "duration": 20,
    "start_time": "2022-05-11T07:04:10.245Z"
   },
   {
    "duration": 6,
    "start_time": "2022-05-11T07:04:10.267Z"
   },
   {
    "duration": 64,
    "start_time": "2022-05-11T07:04:10.278Z"
   },
   {
    "duration": 21,
    "start_time": "2022-05-11T07:04:10.345Z"
   },
   {
    "duration": 22,
    "start_time": "2022-05-11T07:04:10.369Z"
   },
   {
    "duration": 55,
    "start_time": "2022-05-11T07:04:10.394Z"
   },
   {
    "duration": 25,
    "start_time": "2022-05-11T07:04:10.452Z"
   },
   {
    "duration": 59,
    "start_time": "2022-05-11T07:04:10.480Z"
   },
   {
    "duration": 29,
    "start_time": "2022-05-11T07:04:10.541Z"
   },
   {
    "duration": 0,
    "start_time": "2022-05-11T07:04:10.573Z"
   },
   {
    "duration": 0,
    "start_time": "2022-05-11T07:04:10.574Z"
   },
   {
    "duration": 0,
    "start_time": "2022-05-11T07:04:10.576Z"
   },
   {
    "duration": 0,
    "start_time": "2022-05-11T07:04:10.578Z"
   },
   {
    "duration": 0,
    "start_time": "2022-05-11T07:04:10.579Z"
   },
   {
    "duration": 0,
    "start_time": "2022-05-11T07:04:10.582Z"
   },
   {
    "duration": 0,
    "start_time": "2022-05-11T07:04:10.583Z"
   },
   {
    "duration": 0,
    "start_time": "2022-05-11T07:04:10.585Z"
   },
   {
    "duration": 0,
    "start_time": "2022-05-11T07:04:10.586Z"
   },
   {
    "duration": 0,
    "start_time": "2022-05-11T07:04:10.588Z"
   },
   {
    "duration": 0,
    "start_time": "2022-05-11T07:04:10.627Z"
   },
   {
    "duration": 0,
    "start_time": "2022-05-11T07:04:10.630Z"
   },
   {
    "duration": 151,
    "start_time": "2022-05-11T07:05:28.919Z"
   },
   {
    "duration": 104,
    "start_time": "2022-05-11T07:05:40.645Z"
   },
   {
    "duration": 107,
    "start_time": "2022-05-11T07:06:02.570Z"
   },
   {
    "duration": 102,
    "start_time": "2022-05-11T07:08:31.173Z"
   },
   {
    "duration": 86,
    "start_time": "2022-05-11T07:09:39.035Z"
   },
   {
    "duration": 159,
    "start_time": "2022-05-11T07:12:40.213Z"
   },
   {
    "duration": 104,
    "start_time": "2022-05-11T07:13:53.008Z"
   },
   {
    "duration": 105,
    "start_time": "2022-05-11T07:14:52.167Z"
   },
   {
    "duration": 71,
    "start_time": "2022-05-11T07:15:05.504Z"
   },
   {
    "duration": 27,
    "start_time": "2022-05-11T07:16:59.920Z"
   },
   {
    "duration": 133,
    "start_time": "2022-05-11T07:17:33.188Z"
   },
   {
    "duration": 111,
    "start_time": "2022-05-11T07:18:14.673Z"
   },
   {
    "duration": 112,
    "start_time": "2022-05-11T07:19:04.891Z"
   },
   {
    "duration": 124,
    "start_time": "2022-05-11T07:19:58.717Z"
   },
   {
    "duration": 156,
    "start_time": "2022-05-11T07:22:39.092Z"
   },
   {
    "duration": 31,
    "start_time": "2022-05-11T07:27:00.251Z"
   },
   {
    "duration": 28,
    "start_time": "2022-05-11T07:27:14.495Z"
   },
   {
    "duration": 6,
    "start_time": "2022-05-11T07:28:44.939Z"
   },
   {
    "duration": 28,
    "start_time": "2022-05-11T07:31:37.153Z"
   },
   {
    "duration": 27,
    "start_time": "2022-05-11T07:32:11.835Z"
   },
   {
    "duration": 129,
    "start_time": "2022-05-11T07:32:21.401Z"
   },
   {
    "duration": 6,
    "start_time": "2022-05-11T07:32:30.988Z"
   },
   {
    "duration": 6,
    "start_time": "2022-05-11T07:32:33.565Z"
   },
   {
    "duration": 25,
    "start_time": "2022-05-11T07:32:35.970Z"
   },
   {
    "duration": 6,
    "start_time": "2022-05-11T07:32:42.217Z"
   },
   {
    "duration": 6,
    "start_time": "2022-05-11T07:32:45.796Z"
   },
   {
    "duration": 28,
    "start_time": "2022-05-11T07:32:48.002Z"
   },
   {
    "duration": 7,
    "start_time": "2022-05-11T07:33:11.748Z"
   },
   {
    "duration": 25,
    "start_time": "2022-05-11T07:33:13.488Z"
   },
   {
    "duration": 17,
    "start_time": "2022-05-11T07:33:23.769Z"
   },
   {
    "duration": 24,
    "start_time": "2022-05-11T07:33:26.397Z"
   },
   {
    "duration": 17,
    "start_time": "2022-05-11T07:33:29.296Z"
   },
   {
    "duration": 9,
    "start_time": "2022-05-11T07:35:54.287Z"
   },
   {
    "duration": 15,
    "start_time": "2022-05-11T07:36:10.726Z"
   },
   {
    "duration": 14,
    "start_time": "2022-05-11T07:36:16.677Z"
   },
   {
    "duration": 9,
    "start_time": "2022-05-11T07:36:18.738Z"
   },
   {
    "duration": 10,
    "start_time": "2022-05-11T07:36:27.810Z"
   },
   {
    "duration": 10,
    "start_time": "2022-05-11T07:36:31.435Z"
   },
   {
    "duration": 10,
    "start_time": "2022-05-11T07:36:33.021Z"
   }
  ],
  "colab": {
   "collapsed_sections": [
    "E0vqbgi9ay0H",
    "VUC88oWjTJw2"
   ],
   "name": "yandex_music_project.ipynb",
   "provenance": []
  },
  "kernelspec": {
   "display_name": "Python 3 (ipykernel)",
   "language": "python",
   "name": "python3"
  },
  "language_info": {
   "codemirror_mode": {
    "name": "ipython",
    "version": 3
   },
   "file_extension": ".py",
   "mimetype": "text/x-python",
   "name": "python",
   "nbconvert_exporter": "python",
   "pygments_lexer": "ipython3",
   "version": "3.9.16"
  },
  "toc": {
   "base_numbering": 1,
   "nav_menu": {},
   "number_sections": true,
   "sideBar": true,
   "skip_h1_title": true,
   "title_cell": "Содержание",
   "title_sidebar": "Contents",
   "toc_cell": true,
   "toc_position": {
    "height": "calc(100% - 180px)",
    "left": "10px",
    "top": "150px",
    "width": "173.677px"
   },
   "toc_section_display": true,
   "toc_window_display": true
  }
 },
 "nbformat": 4,
 "nbformat_minor": 1
}
