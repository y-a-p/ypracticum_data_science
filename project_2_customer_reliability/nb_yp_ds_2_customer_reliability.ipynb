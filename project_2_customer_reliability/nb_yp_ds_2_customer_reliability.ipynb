{
 "cells": [
  {
   "cell_type": "markdown",
   "id": "800f07f0",
   "metadata": {
    "toc": true
   },
   "source": [
    "<h1>Содержание<span class=\"tocSkip\"></span></h1>\n",
    "<div class=\"toc\"><ul class=\"toc-item\"><li><span><a href=\"#Шаг-1.-Обзор-данных\" data-toc-modified-id=\"Шаг-1.-Обзор-данных-1\"><span class=\"toc-item-num\">1&nbsp;&nbsp;</span>Шаг 1. Обзор данных</a></span><ul class=\"toc-item\"><li><span><a href=\"#Составим-представление-о-входных-данных.\" data-toc-modified-id=\"Составим-представление-о-входных-данных.-1.1\"><span class=\"toc-item-num\">1.1&nbsp;&nbsp;</span>Составим представление о входных данных.</a></span></li><li><span><a href=\"#Проверим-в-таблице-наличие-пропусков.\" data-toc-modified-id=\"Проверим-в-таблице-наличие-пропусков.-1.2\"><span class=\"toc-item-num\">1.2&nbsp;&nbsp;</span>Проверим в таблице наличие пропусков.</a></span></li><li><span><a href=\"#Проверим-в-таблице-наличие-дубликатов\" data-toc-modified-id=\"Проверим-в-таблице-наличие-дубликатов-1.3\"><span class=\"toc-item-num\">1.3&nbsp;&nbsp;</span>Проверим в таблице наличие дубликатов</a></span></li><li><span><a href=\"#Проверим-качество-данных-в-каждом-столбце\" data-toc-modified-id=\"Проверим-качество-данных-в-каждом-столбце-1.4\"><span class=\"toc-item-num\">1.4&nbsp;&nbsp;</span>Проверим качество данных в каждом столбце</a></span><ul class=\"toc-item\"><li><span><a href=\"#children\" data-toc-modified-id=\"children-1.4.1\"><span class=\"toc-item-num\">1.4.1&nbsp;&nbsp;</span><code>children</code></a></span></li><li><span><a href=\"#days_employed\" data-toc-modified-id=\"days_employed-1.4.2\"><span class=\"toc-item-num\">1.4.2&nbsp;&nbsp;</span><code>days_employed</code></a></span></li><li><span><a href=\"#dob_years\" data-toc-modified-id=\"dob_years-1.4.3\"><span class=\"toc-item-num\">1.4.3&nbsp;&nbsp;</span><code>dob_years</code></a></span></li><li><span><a href=\"#education\" data-toc-modified-id=\"education-1.4.4\"><span class=\"toc-item-num\">1.4.4&nbsp;&nbsp;</span><code>education</code></a></span></li><li><span><a href=\"#education_id\" data-toc-modified-id=\"education_id-1.4.5\"><span class=\"toc-item-num\">1.4.5&nbsp;&nbsp;</span><code>education_id</code></a></span></li><li><span><a href=\"#family_status\" data-toc-modified-id=\"family_status-1.4.6\"><span class=\"toc-item-num\">1.4.6&nbsp;&nbsp;</span><code>family_status</code></a></span></li><li><span><a href=\"#family_status_id\" data-toc-modified-id=\"family_status_id-1.4.7\"><span class=\"toc-item-num\">1.4.7&nbsp;&nbsp;</span><code>family_status_id</code></a></span></li><li><span><a href=\"#gender\" data-toc-modified-id=\"gender-1.4.8\"><span class=\"toc-item-num\">1.4.8&nbsp;&nbsp;</span><code>gender</code></a></span></li><li><span><a href=\"#income_type\" data-toc-modified-id=\"income_type-1.4.9\"><span class=\"toc-item-num\">1.4.9&nbsp;&nbsp;</span><code>income_type</code></a></span></li><li><span><a href=\"#debt\" data-toc-modified-id=\"debt-1.4.10\"><span class=\"toc-item-num\">1.4.10&nbsp;&nbsp;</span><code>debt</code></a></span></li><li><span><a href=\"#total_income\" data-toc-modified-id=\"total_income-1.4.11\"><span class=\"toc-item-num\">1.4.11&nbsp;&nbsp;</span><code>total_income</code></a></span></li><li><span><a href=\"#purpose\" data-toc-modified-id=\"purpose-1.4.12\"><span class=\"toc-item-num\">1.4.12&nbsp;&nbsp;</span><code>purpose</code></a></span></li></ul></li><li><span><a href=\"#Вывод\" data-toc-modified-id=\"Вывод-1.5\"><span class=\"toc-item-num\">1.5&nbsp;&nbsp;</span>Вывод</a></span></li></ul></li><li><span><a href=\"#Предобработка-данных\" data-toc-modified-id=\"Предобработка-данных-2\"><span class=\"toc-item-num\">2&nbsp;&nbsp;</span>Предобработка данных</a></span><ul class=\"toc-item\"><li><span><a href=\"#Шаг-2.1-Заполнение-пропусков\" data-toc-modified-id=\"Шаг-2.1-Заполнение-пропусков-2.1\"><span class=\"toc-item-num\">2.1&nbsp;&nbsp;</span>Шаг 2.1 Заполнение пропусков</a></span></li><li><span><a href=\"#Шаг-2.2-Проверка-данных-на-аномалии-и-исправления.\" data-toc-modified-id=\"Шаг-2.2-Проверка-данных-на-аномалии-и-исправления.-2.2\"><span class=\"toc-item-num\">2.2&nbsp;&nbsp;</span>Шаг 2.2 Проверка данных на аномалии и исправления.</a></span><ul class=\"toc-item\"><li><span><a href=\"#gender\" data-toc-modified-id=\"gender-2.2.1\"><span class=\"toc-item-num\">2.2.1&nbsp;&nbsp;</span><code>gender</code></a></span></li><li><span><a href=\"#education\" data-toc-modified-id=\"education-2.2.2\"><span class=\"toc-item-num\">2.2.2&nbsp;&nbsp;</span><code>education</code></a></span></li><li><span><a href=\"#dob_years\" data-toc-modified-id=\"dob_years-2.2.3\"><span class=\"toc-item-num\">2.2.3&nbsp;&nbsp;</span><code>dob_years</code></a></span></li><li><span><a href=\"#children\" data-toc-modified-id=\"children-2.2.4\"><span class=\"toc-item-num\">2.2.4&nbsp;&nbsp;</span><code>children</code></a></span></li><li><span><a href=\"#days_employed\" data-toc-modified-id=\"days_employed-2.2.5\"><span class=\"toc-item-num\">2.2.5&nbsp;&nbsp;</span><code>days_employed</code></a></span></li></ul></li><li><span><a href=\"#Шаг-2.3.-Изменение-типов-данных.\" data-toc-modified-id=\"Шаг-2.3.-Изменение-типов-данных.-2.3\"><span class=\"toc-item-num\">2.3&nbsp;&nbsp;</span>Шаг 2.3. Изменение типов данных.</a></span></li><li><span><a href=\"#Шаг-2.4.-Удаление-дубликатов.\" data-toc-modified-id=\"Шаг-2.4.-Удаление-дубликатов.-2.4\"><span class=\"toc-item-num\">2.4&nbsp;&nbsp;</span>Шаг 2.4. Удаление дубликатов.</a></span></li><li><span><a href=\"#Шаг-2.5.-Формирование-дополнительных-датафреймов-словарей,-декомпозиция-исходного-датафрейма.\" data-toc-modified-id=\"Шаг-2.5.-Формирование-дополнительных-датафреймов-словарей,-декомпозиция-исходного-датафрейма.-2.5\"><span class=\"toc-item-num\">2.5&nbsp;&nbsp;</span>Шаг 2.5. Формирование дополнительных датафреймов словарей, декомпозиция исходного датафрейма.</a></span></li><li><span><a href=\"#Шаг-2.6.-Категоризация-дохода.\" data-toc-modified-id=\"Шаг-2.6.-Категоризация-дохода.-2.6\"><span class=\"toc-item-num\">2.6&nbsp;&nbsp;</span>Шаг 2.6. Категоризация дохода.</a></span></li><li><span><a href=\"#Шаг-2.7.-Категоризация-целей-кредита.\" data-toc-modified-id=\"Шаг-2.7.-Категоризация-целей-кредита.-2.7\"><span class=\"toc-item-num\">2.7&nbsp;&nbsp;</span>Шаг 2.7. Категоризация целей кредита.</a></span></li><li><span><a href=\"#Ответы-на-вопросы.\" data-toc-modified-id=\"Ответы-на-вопросы.-2.8\"><span class=\"toc-item-num\">2.8&nbsp;&nbsp;</span>Ответы на вопросы.</a></span><ul class=\"toc-item\"><li><ul class=\"toc-item\"><li><span><a href=\"#Вопрос-1:\" data-toc-modified-id=\"Вопрос-1:-2.8.0.1\"><span class=\"toc-item-num\">2.8.0.1&nbsp;&nbsp;</span>Вопрос 1:</a></span></li><li><span><a href=\"#Вывод-1:\" data-toc-modified-id=\"Вывод-1:-2.8.0.2\"><span class=\"toc-item-num\">2.8.0.2&nbsp;&nbsp;</span>Вывод 1:</a></span></li><li><span><a href=\"#Вопрос-2:\" data-toc-modified-id=\"Вопрос-2:-2.8.0.3\"><span class=\"toc-item-num\">2.8.0.3&nbsp;&nbsp;</span>Вопрос 2:</a></span></li><li><span><a href=\"#Вывод-2:\" data-toc-modified-id=\"Вывод-2:-2.8.0.4\"><span class=\"toc-item-num\">2.8.0.4&nbsp;&nbsp;</span>Вывод 2:</a></span></li><li><span><a href=\"#Вопрос-3:\" data-toc-modified-id=\"Вопрос-3:-2.8.0.5\"><span class=\"toc-item-num\">2.8.0.5&nbsp;&nbsp;</span>Вопрос 3:</a></span></li><li><span><a href=\"#Вывод-3:\" data-toc-modified-id=\"Вывод-3:-2.8.0.6\"><span class=\"toc-item-num\">2.8.0.6&nbsp;&nbsp;</span>Вывод 3:</a></span></li><li><span><a href=\"#Вопрос-4:\" data-toc-modified-id=\"Вопрос-4:-2.8.0.7\"><span class=\"toc-item-num\">2.8.0.7&nbsp;&nbsp;</span>Вопрос 4:</a></span></li><li><span><a href=\"#Вывод-4:\" data-toc-modified-id=\"Вывод-4:-2.8.0.8\"><span class=\"toc-item-num\">2.8.0.8&nbsp;&nbsp;</span>Вывод 4:</a></span></li></ul></li></ul></li></ul></li><li><span><a href=\"#Общий-вывод:\" data-toc-modified-id=\"Общий-вывод:-3\"><span class=\"toc-item-num\">3&nbsp;&nbsp;</span>Общий вывод:</a></span></li></ul></div>"
   ]
  },
  {
   "cell_type": "markdown",
   "id": "e67170e8",
   "metadata": {},
   "source": [
    "# Исследование надежности заемщиков."
   ]
  },
  {
   "cell_type": "markdown",
   "id": "501b9cb1",
   "metadata": {},
   "source": [
    "Платежная дисциплина клиентов зависит от можества факторов:\n",
    " * доход клиента\n",
    " * возраст\n",
    " * место работы\n",
    " * регион проживания\n",
    " * наличие иных обязательств\n",
    "\n",
    "**Цель исследования**    \n",
    "\n",
    "Проверить, влияет ли семейное положение и количество детей клиента на факт погашения кредита в срок.\n",
    "\n",
    "**Ход исследования**\n",
    "\n",
    "Входные данные от банка — статистика о платёжеспособности клиентов.<br>\n",
    "Путь к файлу:  `data.csv`\n",
    "\n",
    "О качестве данных ничего не известно. Поэтому перед проверкой гипотез будет произведен обзор данных и исправление ошибок (при необходимости).\n",
    "\n",
    "Результаты исследования будут учтены при построении модели кредитного скоринга — специальной системы, которая оценивает способность потенциального заёмщика вернуть кредит банку."
   ]
  },
  {
   "cell_type": "markdown",
   "id": "c3c69a4b",
   "metadata": {},
   "source": [
    "## Шаг 1. Обзор данных"
   ]
  },
  {
   "cell_type": "markdown",
   "id": "a9737fa8",
   "metadata": {},
   "source": [
    "### Составим представление о входных данных."
   ]
  },
  {
   "cell_type": "markdown",
   "id": "0a4f29ea",
   "metadata": {},
   "source": [
    "Импортируем библиотеку `pandas` и прочитаем файл `data.csv`"
   ]
  },
  {
   "cell_type": "code",
   "execution_count": 6,
   "id": "8484cf94",
   "metadata": {},
   "outputs": [],
   "source": [
    "# импортируем библиотеку pandas \n",
    "import pandas as pd"
   ]
  },
  {
   "cell_type": "code",
   "execution_count": 7,
   "id": "895d4cda",
   "metadata": {},
   "outputs": [],
   "source": [
    "# записываем данные в переменную df\n",
    "df = pd.read_csv('data.csv')"
   ]
  },
  {
   "cell_type": "markdown",
   "id": "a221f30f",
   "metadata": {},
   "source": [
    "Выведем на экран первые и последние 5 строк таблицы:"
   ]
  },
  {
   "cell_type": "code",
   "execution_count": 8,
   "id": "f6ec0d84",
   "metadata": {
    "scrolled": true
   },
   "outputs": [
    {
     "data": {
      "text/html": [
       "<div>\n",
       "<style scoped>\n",
       "    .dataframe tbody tr th:only-of-type {\n",
       "        vertical-align: middle;\n",
       "    }\n",
       "\n",
       "    .dataframe tbody tr th {\n",
       "        vertical-align: top;\n",
       "    }\n",
       "\n",
       "    .dataframe thead th {\n",
       "        text-align: right;\n",
       "    }\n",
       "</style>\n",
       "<table border=\"1\" class=\"dataframe\">\n",
       "  <thead>\n",
       "    <tr style=\"text-align: right;\">\n",
       "      <th></th>\n",
       "      <th>children</th>\n",
       "      <th>days_employed</th>\n",
       "      <th>dob_years</th>\n",
       "      <th>education</th>\n",
       "      <th>education_id</th>\n",
       "      <th>family_status</th>\n",
       "      <th>family_status_id</th>\n",
       "      <th>gender</th>\n",
       "      <th>income_type</th>\n",
       "      <th>debt</th>\n",
       "      <th>total_income</th>\n",
       "      <th>purpose</th>\n",
       "    </tr>\n",
       "  </thead>\n",
       "  <tbody>\n",
       "    <tr>\n",
       "      <th>0</th>\n",
       "      <td>1</td>\n",
       "      <td>-8437.673028</td>\n",
       "      <td>42</td>\n",
       "      <td>высшее</td>\n",
       "      <td>0</td>\n",
       "      <td>женат / замужем</td>\n",
       "      <td>0</td>\n",
       "      <td>F</td>\n",
       "      <td>сотрудник</td>\n",
       "      <td>0</td>\n",
       "      <td>253875.639453</td>\n",
       "      <td>покупка жилья</td>\n",
       "    </tr>\n",
       "    <tr>\n",
       "      <th>1</th>\n",
       "      <td>1</td>\n",
       "      <td>-4024.803754</td>\n",
       "      <td>36</td>\n",
       "      <td>среднее</td>\n",
       "      <td>1</td>\n",
       "      <td>женат / замужем</td>\n",
       "      <td>0</td>\n",
       "      <td>F</td>\n",
       "      <td>сотрудник</td>\n",
       "      <td>0</td>\n",
       "      <td>112080.014102</td>\n",
       "      <td>приобретение автомобиля</td>\n",
       "    </tr>\n",
       "    <tr>\n",
       "      <th>2</th>\n",
       "      <td>0</td>\n",
       "      <td>-5623.422610</td>\n",
       "      <td>33</td>\n",
       "      <td>Среднее</td>\n",
       "      <td>1</td>\n",
       "      <td>женат / замужем</td>\n",
       "      <td>0</td>\n",
       "      <td>M</td>\n",
       "      <td>сотрудник</td>\n",
       "      <td>0</td>\n",
       "      <td>145885.952297</td>\n",
       "      <td>покупка жилья</td>\n",
       "    </tr>\n",
       "    <tr>\n",
       "      <th>3</th>\n",
       "      <td>3</td>\n",
       "      <td>-4124.747207</td>\n",
       "      <td>32</td>\n",
       "      <td>среднее</td>\n",
       "      <td>1</td>\n",
       "      <td>женат / замужем</td>\n",
       "      <td>0</td>\n",
       "      <td>M</td>\n",
       "      <td>сотрудник</td>\n",
       "      <td>0</td>\n",
       "      <td>267628.550329</td>\n",
       "      <td>дополнительное образование</td>\n",
       "    </tr>\n",
       "    <tr>\n",
       "      <th>4</th>\n",
       "      <td>0</td>\n",
       "      <td>340266.072047</td>\n",
       "      <td>53</td>\n",
       "      <td>среднее</td>\n",
       "      <td>1</td>\n",
       "      <td>гражданский брак</td>\n",
       "      <td>1</td>\n",
       "      <td>F</td>\n",
       "      <td>пенсионер</td>\n",
       "      <td>0</td>\n",
       "      <td>158616.077870</td>\n",
       "      <td>сыграть свадьбу</td>\n",
       "    </tr>\n",
       "  </tbody>\n",
       "</table>\n",
       "</div>"
      ],
      "text/plain": [
       "   children  days_employed  dob_years education  education_id  \\\n",
       "0         1   -8437.673028         42    высшее             0   \n",
       "1         1   -4024.803754         36   среднее             1   \n",
       "2         0   -5623.422610         33   Среднее             1   \n",
       "3         3   -4124.747207         32   среднее             1   \n",
       "4         0  340266.072047         53   среднее             1   \n",
       "\n",
       "      family_status  family_status_id gender income_type  debt   total_income  \\\n",
       "0   женат / замужем                 0      F   сотрудник     0  253875.639453   \n",
       "1   женат / замужем                 0      F   сотрудник     0  112080.014102   \n",
       "2   женат / замужем                 0      M   сотрудник     0  145885.952297   \n",
       "3   женат / замужем                 0      M   сотрудник     0  267628.550329   \n",
       "4  гражданский брак                 1      F   пенсионер     0  158616.077870   \n",
       "\n",
       "                      purpose  \n",
       "0               покупка жилья  \n",
       "1     приобретение автомобиля  \n",
       "2               покупка жилья  \n",
       "3  дополнительное образование  \n",
       "4             сыграть свадьбу  "
      ]
     },
     "execution_count": 8,
     "metadata": {},
     "output_type": "execute_result"
    }
   ],
   "source": [
    "# получение первых 5 строк таблицы df\n",
    "df.head()"
   ]
  },
  {
   "cell_type": "code",
   "execution_count": 9,
   "id": "a5c67bd1",
   "metadata": {},
   "outputs": [
    {
     "data": {
      "text/html": [
       "<div>\n",
       "<style scoped>\n",
       "    .dataframe tbody tr th:only-of-type {\n",
       "        vertical-align: middle;\n",
       "    }\n",
       "\n",
       "    .dataframe tbody tr th {\n",
       "        vertical-align: top;\n",
       "    }\n",
       "\n",
       "    .dataframe thead th {\n",
       "        text-align: right;\n",
       "    }\n",
       "</style>\n",
       "<table border=\"1\" class=\"dataframe\">\n",
       "  <thead>\n",
       "    <tr style=\"text-align: right;\">\n",
       "      <th></th>\n",
       "      <th>children</th>\n",
       "      <th>days_employed</th>\n",
       "      <th>dob_years</th>\n",
       "      <th>education</th>\n",
       "      <th>education_id</th>\n",
       "      <th>family_status</th>\n",
       "      <th>family_status_id</th>\n",
       "      <th>gender</th>\n",
       "      <th>income_type</th>\n",
       "      <th>debt</th>\n",
       "      <th>total_income</th>\n",
       "      <th>purpose</th>\n",
       "    </tr>\n",
       "  </thead>\n",
       "  <tbody>\n",
       "    <tr>\n",
       "      <th>21520</th>\n",
       "      <td>1</td>\n",
       "      <td>-4529.316663</td>\n",
       "      <td>43</td>\n",
       "      <td>среднее</td>\n",
       "      <td>1</td>\n",
       "      <td>гражданский брак</td>\n",
       "      <td>1</td>\n",
       "      <td>F</td>\n",
       "      <td>компаньон</td>\n",
       "      <td>0</td>\n",
       "      <td>224791.862382</td>\n",
       "      <td>операции с жильем</td>\n",
       "    </tr>\n",
       "    <tr>\n",
       "      <th>21521</th>\n",
       "      <td>0</td>\n",
       "      <td>343937.404131</td>\n",
       "      <td>67</td>\n",
       "      <td>среднее</td>\n",
       "      <td>1</td>\n",
       "      <td>женат / замужем</td>\n",
       "      <td>0</td>\n",
       "      <td>F</td>\n",
       "      <td>пенсионер</td>\n",
       "      <td>0</td>\n",
       "      <td>155999.806512</td>\n",
       "      <td>сделка с автомобилем</td>\n",
       "    </tr>\n",
       "    <tr>\n",
       "      <th>21522</th>\n",
       "      <td>1</td>\n",
       "      <td>-2113.346888</td>\n",
       "      <td>38</td>\n",
       "      <td>среднее</td>\n",
       "      <td>1</td>\n",
       "      <td>гражданский брак</td>\n",
       "      <td>1</td>\n",
       "      <td>M</td>\n",
       "      <td>сотрудник</td>\n",
       "      <td>1</td>\n",
       "      <td>89672.561153</td>\n",
       "      <td>недвижимость</td>\n",
       "    </tr>\n",
       "    <tr>\n",
       "      <th>21523</th>\n",
       "      <td>3</td>\n",
       "      <td>-3112.481705</td>\n",
       "      <td>38</td>\n",
       "      <td>среднее</td>\n",
       "      <td>1</td>\n",
       "      <td>женат / замужем</td>\n",
       "      <td>0</td>\n",
       "      <td>M</td>\n",
       "      <td>сотрудник</td>\n",
       "      <td>1</td>\n",
       "      <td>244093.050500</td>\n",
       "      <td>на покупку своего автомобиля</td>\n",
       "    </tr>\n",
       "    <tr>\n",
       "      <th>21524</th>\n",
       "      <td>2</td>\n",
       "      <td>-1984.507589</td>\n",
       "      <td>40</td>\n",
       "      <td>среднее</td>\n",
       "      <td>1</td>\n",
       "      <td>женат / замужем</td>\n",
       "      <td>0</td>\n",
       "      <td>F</td>\n",
       "      <td>сотрудник</td>\n",
       "      <td>0</td>\n",
       "      <td>82047.418899</td>\n",
       "      <td>на покупку автомобиля</td>\n",
       "    </tr>\n",
       "  </tbody>\n",
       "</table>\n",
       "</div>"
      ],
      "text/plain": [
       "       children  days_employed  dob_years education  education_id  \\\n",
       "21520         1   -4529.316663         43   среднее             1   \n",
       "21521         0  343937.404131         67   среднее             1   \n",
       "21522         1   -2113.346888         38   среднее             1   \n",
       "21523         3   -3112.481705         38   среднее             1   \n",
       "21524         2   -1984.507589         40   среднее             1   \n",
       "\n",
       "          family_status  family_status_id gender income_type  debt  \\\n",
       "21520  гражданский брак                 1      F   компаньон     0   \n",
       "21521   женат / замужем                 0      F   пенсионер     0   \n",
       "21522  гражданский брак                 1      M   сотрудник     1   \n",
       "21523   женат / замужем                 0      M   сотрудник     1   \n",
       "21524   женат / замужем                 0      F   сотрудник     0   \n",
       "\n",
       "        total_income                       purpose  \n",
       "21520  224791.862382             операции с жильем  \n",
       "21521  155999.806512          сделка с автомобилем  \n",
       "21522   89672.561153                  недвижимость  \n",
       "21523  244093.050500  на покупку своего автомобиля  \n",
       "21524   82047.418899         на покупку автомобиля  "
      ]
     },
     "execution_count": 9,
     "metadata": {},
     "output_type": "execute_result"
    }
   ],
   "source": [
    "# получение последних 5 строк таблицы df\n",
    "df.tail()"
   ]
  },
  {
   "cell_type": "markdown",
   "id": "61ac4f00",
   "metadata": {},
   "source": [
    "**Описание данных**\n",
    "\n",
    "**`children`** — количество детей в семье<br>\n",
    "**`days_employed`** — общий трудовой стаж в днях<br>\n",
    "**`dob_years`** — возраст клиента в годах<br>\n",
    "**`education`** — уровень образования клиента<br>\n",
    "**`education_id`** — идентификатор уровня образования<br>\n",
    "**`family_status`** — семейное положение<br>\n",
    "**`family_status_id`** — идентификатор семейного положения<br>\n",
    "**`gender`** — пол клиента<br>\n",
    "**`income_type`** — тип занятости<br>\n",
    "**`debt`** — имел ли задолженность по возврату кредитов<br>\n",
    "**`total_income`** — ежемесячный доход<br>\n",
    "**`purpose`** — цель получения кредита<br>"
   ]
  },
  {
   "cell_type": "markdown",
   "id": "bc01897d",
   "metadata": {},
   "source": [
    "**Вывод:** <br>\n",
    "Наименование столбцов корректное. <br>\n",
    "Сразу бросается в глаза то, что в столбце `days_employed` содержаться отрицательные значения."
   ]
  },
  {
   "cell_type": "markdown",
   "id": "d1a91d00",
   "metadata": {},
   "source": [
    "Получим общую информацию о таблице."
   ]
  },
  {
   "cell_type": "code",
   "execution_count": 10,
   "id": "2f1f95d5",
   "metadata": {
    "scrolled": true
   },
   "outputs": [
    {
     "name": "stdout",
     "output_type": "stream",
     "text": [
      "<class 'pandas.core.frame.DataFrame'>\n",
      "RangeIndex: 21525 entries, 0 to 21524\n",
      "Data columns (total 12 columns):\n",
      " #   Column            Non-Null Count  Dtype  \n",
      "---  ------            --------------  -----  \n",
      " 0   children          21525 non-null  int64  \n",
      " 1   days_employed     19351 non-null  float64\n",
      " 2   dob_years         21525 non-null  int64  \n",
      " 3   education         21525 non-null  object \n",
      " 4   education_id      21525 non-null  int64  \n",
      " 5   family_status     21525 non-null  object \n",
      " 6   family_status_id  21525 non-null  int64  \n",
      " 7   gender            21525 non-null  object \n",
      " 8   income_type       21525 non-null  object \n",
      " 9   debt              21525 non-null  int64  \n",
      " 10  total_income      19351 non-null  float64\n",
      " 11  purpose           21525 non-null  object \n",
      "dtypes: float64(2), int64(5), object(5)\n",
      "memory usage: 2.0+ MB\n"
     ]
    }
   ],
   "source": [
    "df.info()"
   ]
  },
  {
   "cell_type": "markdown",
   "id": "b7ab1110",
   "metadata": {},
   "source": [
    "**Вывод:**<br>\n",
    "В двух столбцах `days_employed` и `total_income`содержаться пропуски.<br>\n",
    "Это мы еще раз в явном виде проверим на следующем шаге.<br>\n",
    "После исправления ошибок в этих столбцах приведем их к целочисленному формату `int`.<br>"
   ]
  },
  {
   "cell_type": "markdown",
   "id": "d65609c5",
   "metadata": {},
   "source": [
    "### Проверим в таблице наличие пропусков."
   ]
  },
  {
   "cell_type": "code",
   "execution_count": 11,
   "id": "38c9d57e",
   "metadata": {
    "scrolled": true
   },
   "outputs": [
    {
     "data": {
      "text/plain": [
       "children               0\n",
       "days_employed       2174\n",
       "dob_years              0\n",
       "education              0\n",
       "education_id           0\n",
       "family_status          0\n",
       "family_status_id       0\n",
       "gender                 0\n",
       "income_type            0\n",
       "debt                   0\n",
       "total_income        2174\n",
       "purpose                0\n",
       "dtype: int64"
      ]
     },
     "execution_count": 11,
     "metadata": {},
     "output_type": "execute_result"
    }
   ],
   "source": [
    "df.isna().sum()"
   ]
  },
  {
   "cell_type": "markdown",
   "id": "fca484e1",
   "metadata": {},
   "source": [
    "### Проверим в таблице наличие дубликатов"
   ]
  },
  {
   "cell_type": "code",
   "execution_count": 12,
   "id": "420fad45",
   "metadata": {},
   "outputs": [
    {
     "data": {
      "text/plain": [
       "54"
      ]
     },
     "execution_count": 12,
     "metadata": {},
     "output_type": "execute_result"
    }
   ],
   "source": [
    "df.duplicated().sum()"
   ]
  },
  {
   "cell_type": "markdown",
   "id": "9a0dcafe",
   "metadata": {},
   "source": [
    "**Вывод:**<br>\n",
    "В таблице задублированно 54 строки."
   ]
  },
  {
   "cell_type": "markdown",
   "id": "fd6b9da4",
   "metadata": {},
   "source": [
    "### Проверим качество данных в каждом столбце"
   ]
  },
  {
   "cell_type": "markdown",
   "id": "a8aa092f",
   "metadata": {},
   "source": [
    "#### `children`"
   ]
  },
  {
   "cell_type": "code",
   "execution_count": 13,
   "id": "e4a818dc",
   "metadata": {},
   "outputs": [
    {
     "data": {
      "text/plain": [
       " 0     14149\n",
       " 1      4818\n",
       " 2      2055\n",
       " 3       330\n",
       " 20       76\n",
       "-1        47\n",
       " 4        41\n",
       " 5         9\n",
       "Name: children, dtype: int64"
      ]
     },
     "execution_count": 13,
     "metadata": {},
     "output_type": "execute_result"
    }
   ],
   "source": [
    "df['children'].value_counts()"
   ]
  },
  {
   "cell_type": "markdown",
   "id": "7823e709",
   "metadata": {},
   "source": [
    "**Вывод:**<br>\n",
    "В столбце `children` содержаться аномальные значения 20 и -1"
   ]
  },
  {
   "cell_type": "markdown",
   "id": "5ac91245",
   "metadata": {},
   "source": [
    "#### `days_employed`"
   ]
  },
  {
   "cell_type": "markdown",
   "id": "aff28bf3",
   "metadata": {},
   "source": [
    "Отсортируем столбец по возрастанию и выведем первые и последние 10 строк"
   ]
  },
  {
   "cell_type": "code",
   "execution_count": 14,
   "id": "bad5e1e5",
   "metadata": {},
   "outputs": [
    {
     "data": {
      "text/plain": [
       "16335   -18388.949901\n",
       "4299    -17615.563266\n",
       "7329    -16593.472817\n",
       "17838   -16264.699501\n",
       "16825   -16119.687737\n",
       "3974    -15835.725775\n",
       "1539    -15785.678893\n",
       "4321    -15773.061335\n",
       "7731    -15618.063786\n",
       "15675   -15410.040779\n",
       "Name: days_employed, dtype: float64"
      ]
     },
     "execution_count": 14,
     "metadata": {},
     "output_type": "execute_result"
    }
   ],
   "source": [
    "df['days_employed'].sort_values()[:10]"
   ]
  },
  {
   "cell_type": "code",
   "execution_count": 16,
   "id": "9fbd3192",
   "metadata": {
    "scrolled": false
   },
   "outputs": [
    {
     "data": {
      "text/plain": [
       "8369     401590.452231\n",
       "10991    401591.828457\n",
       "17823    401614.475622\n",
       "13420    401619.633298\n",
       "4697     401635.032697\n",
       "7794     401663.850046\n",
       "2156     401674.466633\n",
       "7664     401675.093434\n",
       "10006    401715.811749\n",
       "6954     401755.400475\n",
       "Name: days_employed, dtype: float64"
      ]
     },
     "execution_count": 16,
     "metadata": {},
     "output_type": "execute_result"
    }
   ],
   "source": [
    "df.loc[df['days_employed'] > 0,'days_employed'].sort_values()[-10:]"
   ]
  },
  {
   "cell_type": "markdown",
   "id": "517f66d7",
   "metadata": {},
   "source": [
    "**Вывод:** <br>\n",
    "* в столбце содержатся отрицательные значения\n",
    "* в столбце содержатся аномальные значения: 401755 дня это 1100 лет\n",
    "* в столбце содержатся пропуски"
   ]
  },
  {
   "cell_type": "markdown",
   "id": "29a9b3f1",
   "metadata": {},
   "source": [
    "#### `dob_years`"
   ]
  },
  {
   "cell_type": "code",
   "execution_count": 17,
   "id": "adc0c1ef",
   "metadata": {},
   "outputs": [
    {
     "data": {
      "text/plain": [
       "35    617\n",
       "40    609\n",
       "41    607\n",
       "34    603\n",
       "38    598\n",
       "42    597\n",
       "33    581\n",
       "39    573\n",
       "31    560\n",
       "36    555\n",
       "44    547\n",
       "29    545\n",
       "30    540\n",
       "48    538\n",
       "37    537\n",
       "50    514\n",
       "43    513\n",
       "32    510\n",
       "49    508\n",
       "28    503\n",
       "45    497\n",
       "27    493\n",
       "56    487\n",
       "52    484\n",
       "47    480\n",
       "54    479\n",
       "46    475\n",
       "58    461\n",
       "57    460\n",
       "53    459\n",
       "51    448\n",
       "59    444\n",
       "55    443\n",
       "26    408\n",
       "60    377\n",
       "25    357\n",
       "61    355\n",
       "62    352\n",
       "63    269\n",
       "64    265\n",
       "24    264\n",
       "23    254\n",
       "65    194\n",
       "66    183\n",
       "22    183\n",
       "67    167\n",
       "21    111\n",
       "0     101\n",
       "68     99\n",
       "69     85\n",
       "70     65\n",
       "71     58\n",
       "20     51\n",
       "72     33\n",
       "19     14\n",
       "73      8\n",
       "74      6\n",
       "75      1\n",
       "Name: dob_years, dtype: int64"
      ]
     },
     "execution_count": 17,
     "metadata": {},
     "output_type": "execute_result"
    }
   ],
   "source": [
    "df['dob_years'].value_counts()"
   ]
  },
  {
   "cell_type": "markdown",
   "id": "8f195603",
   "metadata": {},
   "source": [
    "**Вывод:** <br>\n",
    "В столбце содержится значение 0"
   ]
  },
  {
   "cell_type": "markdown",
   "id": "a5ac341a",
   "metadata": {},
   "source": [
    "#### `education`"
   ]
  },
  {
   "cell_type": "code",
   "execution_count": 18,
   "id": "c241b015",
   "metadata": {},
   "outputs": [
    {
     "data": {
      "text/plain": [
       "среднее                13750\n",
       "высшее                  4718\n",
       "СРЕДНЕЕ                  772\n",
       "Среднее                  711\n",
       "неоконченное высшее      668\n",
       "ВЫСШЕЕ                   274\n",
       "Высшее                   268\n",
       "начальное                250\n",
       "Неоконченное высшее       47\n",
       "НЕОКОНЧЕННОЕ ВЫСШЕЕ       29\n",
       "НАЧАЛЬНОЕ                 17\n",
       "Начальное                 15\n",
       "ученая степень             4\n",
       "Ученая степень             1\n",
       "УЧЕНАЯ СТЕПЕНЬ             1\n",
       "Name: education, dtype: int64"
      ]
     },
     "execution_count": 18,
     "metadata": {},
     "output_type": "execute_result"
    }
   ],
   "source": [
    "df['education'].value_counts()"
   ]
  },
  {
   "cell_type": "markdown",
   "id": "949f62e0",
   "metadata": {},
   "source": [
    "**Вывод:**<br>\n",
    "В столбце содержаться неявные дубликаты из-за разного регистра значений"
   ]
  },
  {
   "cell_type": "markdown",
   "id": "e01d6405",
   "metadata": {},
   "source": [
    "#### `education_id`"
   ]
  },
  {
   "cell_type": "code",
   "execution_count": 19,
   "id": "50a6d249",
   "metadata": {},
   "outputs": [
    {
     "data": {
      "text/plain": [
       "1    15233\n",
       "0     5260\n",
       "2      744\n",
       "3      282\n",
       "4        6\n",
       "Name: education_id, dtype: int64"
      ]
     },
     "execution_count": 19,
     "metadata": {},
     "output_type": "execute_result"
    }
   ],
   "source": [
    "df['education_id'].value_counts()"
   ]
  },
  {
   "cell_type": "markdown",
   "id": "db9be527",
   "metadata": {},
   "source": [
    "**Вывод:** <br>\n",
    "Каких-то аномалий не выявлено"
   ]
  },
  {
   "cell_type": "markdown",
   "id": "070ac82b",
   "metadata": {},
   "source": [
    "#### `family_status`"
   ]
  },
  {
   "cell_type": "code",
   "execution_count": 20,
   "id": "21604d75",
   "metadata": {},
   "outputs": [
    {
     "data": {
      "text/plain": [
       "женат / замужем          12380\n",
       "гражданский брак          4177\n",
       "Не женат / не замужем     2813\n",
       "в разводе                 1195\n",
       "вдовец / вдова             960\n",
       "Name: family_status, dtype: int64"
      ]
     },
     "execution_count": 20,
     "metadata": {},
     "output_type": "execute_result"
    }
   ],
   "source": [
    "df['family_status'].value_counts()"
   ]
  },
  {
   "cell_type": "markdown",
   "id": "670ec2a8",
   "metadata": {},
   "source": [
    "**Вывод:** <br>\n",
    "Значения не в одном регистре но на качество данных это не влияет"
   ]
  },
  {
   "cell_type": "markdown",
   "id": "b02fb7e9",
   "metadata": {},
   "source": [
    "#### `family_status_id`"
   ]
  },
  {
   "cell_type": "code",
   "execution_count": 21,
   "id": "db4139e2",
   "metadata": {},
   "outputs": [
    {
     "data": {
      "text/plain": [
       "0    12380\n",
       "1     4177\n",
       "4     2813\n",
       "3     1195\n",
       "2      960\n",
       "Name: family_status_id, dtype: int64"
      ]
     },
     "execution_count": 21,
     "metadata": {},
     "output_type": "execute_result"
    }
   ],
   "source": [
    "df['family_status_id'].value_counts()"
   ]
  },
  {
   "cell_type": "markdown",
   "id": "e41af4c8",
   "metadata": {},
   "source": [
    "**Вывод:**<br>\n",
    "Аномалий нет"
   ]
  },
  {
   "cell_type": "markdown",
   "id": "77da7e14",
   "metadata": {},
   "source": [
    "#### `gender`"
   ]
  },
  {
   "cell_type": "code",
   "execution_count": 22,
   "id": "ca7f64ff",
   "metadata": {},
   "outputs": [
    {
     "data": {
      "text/plain": [
       "F      14236\n",
       "M       7288\n",
       "XNA        1\n",
       "Name: gender, dtype: int64"
      ]
     },
     "execution_count": 22,
     "metadata": {},
     "output_type": "execute_result"
    }
   ],
   "source": [
    "df['gender'].value_counts()"
   ]
  },
  {
   "cell_type": "markdown",
   "id": "e7d81288",
   "metadata": {},
   "source": [
    "**Вывод:**<br>\n",
    "В столбце содержится один не явный пропуск"
   ]
  },
  {
   "cell_type": "markdown",
   "id": "7877ec5a",
   "metadata": {},
   "source": [
    "#### `income_type`"
   ]
  },
  {
   "cell_type": "code",
   "execution_count": 23,
   "id": "d580aee2",
   "metadata": {},
   "outputs": [
    {
     "data": {
      "text/plain": [
       "сотрудник          11119\n",
       "компаньон           5085\n",
       "пенсионер           3856\n",
       "госслужащий         1459\n",
       "предприниматель        2\n",
       "безработный            2\n",
       "в декрете              1\n",
       "студент                1\n",
       "Name: income_type, dtype: int64"
      ]
     },
     "execution_count": 23,
     "metadata": {},
     "output_type": "execute_result"
    }
   ],
   "source": [
    "df['income_type'].value_counts()"
   ]
  },
  {
   "cell_type": "markdown",
   "id": "1d99e75b",
   "metadata": {},
   "source": [
    "**Вывод:**<br>\n",
    "Ошибок не выявлено"
   ]
  },
  {
   "cell_type": "markdown",
   "id": "d73dda0e",
   "metadata": {},
   "source": [
    "#### `debt`"
   ]
  },
  {
   "cell_type": "code",
   "execution_count": 24,
   "id": "6124e601",
   "metadata": {},
   "outputs": [
    {
     "data": {
      "text/plain": [
       "0    19784\n",
       "1     1741\n",
       "Name: debt, dtype: int64"
      ]
     },
     "execution_count": 24,
     "metadata": {},
     "output_type": "execute_result"
    }
   ],
   "source": [
    "df['debt'].value_counts()"
   ]
  },
  {
   "cell_type": "markdown",
   "id": "beb178a6",
   "metadata": {},
   "source": [
    "**Вывод:**<br>\n",
    "Ошибок не выявлено"
   ]
  },
  {
   "cell_type": "markdown",
   "id": "cfa031ba",
   "metadata": {},
   "source": [
    "#### `total_income`"
   ]
  },
  {
   "cell_type": "code",
   "execution_count": 25,
   "id": "4dfab9e6",
   "metadata": {},
   "outputs": [],
   "source": [
    "total_income_sorted = sorted(df['total_income'])"
   ]
  },
  {
   "cell_type": "code",
   "execution_count": 26,
   "id": "941e36b3",
   "metadata": {},
   "outputs": [
    {
     "data": {
      "text/plain": [
       "[34355.21078469274,\n",
       " 36649.0784390092,\n",
       " 40940.19996410648,\n",
       " 45452.471394878914,\n",
       " 47497.244727000965,\n",
       " 47766.39152492994,\n",
       " 48734.45879885573,\n",
       " 50759.500964816885,\n",
       " 52461.006385709385,\n",
       " 55112.757731719255]"
      ]
     },
     "execution_count": 26,
     "metadata": {},
     "output_type": "execute_result"
    }
   ],
   "source": [
    "total_income_sorted[:10]"
   ]
  },
  {
   "cell_type": "code",
   "execution_count": 27,
   "id": "a2205fcb",
   "metadata": {},
   "outputs": [
    {
     "data": {
      "text/plain": [
       "[153864.65032820884,\n",
       " 155999.80651240775,\n",
       " 178059.55349137326,\n",
       " 224791.86238177711,\n",
       " 236937.2212823449,\n",
       " 237328.34604625436,\n",
       " 244093.0505004255,\n",
       " 322807.77660314646,\n",
       " 355988.40718762303,\n",
       " 446870.82368040615]"
      ]
     },
     "execution_count": 27,
     "metadata": {},
     "output_type": "execute_result"
    }
   ],
   "source": [
    "total_income_sorted[-10:]"
   ]
  },
  {
   "cell_type": "markdown",
   "id": "363efcd2",
   "metadata": {},
   "source": [
    "**Вывод:**<br>\n",
    "Ошибок не выявлено"
   ]
  },
  {
   "cell_type": "markdown",
   "id": "c792ed16",
   "metadata": {},
   "source": [
    "#### `purpose`"
   ]
  },
  {
   "cell_type": "code",
   "execution_count": 28,
   "id": "703967d2",
   "metadata": {},
   "outputs": [
    {
     "data": {
      "text/plain": [
       "свадьба                                   797\n",
       "на проведение свадьбы                     777\n",
       "сыграть свадьбу                           774\n",
       "операции с недвижимостью                  676\n",
       "покупка коммерческой недвижимости         664\n",
       "операции с жильем                         653\n",
       "покупка жилья для сдачи                   653\n",
       "операции с коммерческой недвижимостью     651\n",
       "жилье                                     647\n",
       "покупка жилья                             647\n",
       "покупка жилья для семьи                   641\n",
       "строительство собственной недвижимости    635\n",
       "недвижимость                              634\n",
       "операции со своей недвижимостью           630\n",
       "строительство жилой недвижимости          626\n",
       "покупка недвижимости                      624\n",
       "покупка своего жилья                      620\n",
       "строительство недвижимости                620\n",
       "ремонт жилью                              612\n",
       "покупка жилой недвижимости                607\n",
       "на покупку своего автомобиля              505\n",
       "заняться высшим образованием              496\n",
       "автомобиль                                495\n",
       "сделка с подержанным автомобилем          489\n",
       "свой автомобиль                           480\n",
       "на покупку подержанного автомобиля        479\n",
       "автомобили                                478\n",
       "на покупку автомобиля                     472\n",
       "приобретение автомобиля                   462\n",
       "дополнительное образование                462\n",
       "сделка с автомобилем                      455\n",
       "высшее образование                        453\n",
       "получение дополнительного образования     447\n",
       "образование                               447\n",
       "получение образования                     443\n",
       "профильное образование                    436\n",
       "получение высшего образования             426\n",
       "заняться образованием                     412\n",
       "Name: purpose, dtype: int64"
      ]
     },
     "execution_count": 28,
     "metadata": {},
     "output_type": "execute_result"
    }
   ],
   "source": [
    "df['purpose'].value_counts()"
   ]
  },
  {
   "cell_type": "markdown",
   "id": "c0ad5e92",
   "metadata": {},
   "source": [
    "**Вывод:**<br>\n",
    "В столбце содержится больше количество неявных дубликатов, но т.к. это поле не понадобится для исследования, то значения в нем исправлять не будем"
   ]
  },
  {
   "cell_type": "markdown",
   "id": "46d65371",
   "metadata": {},
   "source": [
    " ### Вывод"
   ]
  },
  {
   "cell_type": "markdown",
   "id": "b41a0892",
   "metadata": {},
   "source": [
    "Входные данные содержат необходимую информацию для исследования, но в самих данных есть ошибки. <br>\n",
    "\n",
    "* В таблице задублированно 54 строки.<br>\n",
    "\n",
    "* `children` в столбце содержаться аномальные значения 20 и -1\n",
    "\n",
    "* `days_employed`<br>\n",
    "    ** в столбце содержаться отрицательные значения<br>\n",
    "    ** в столбце содержаться аномальные значения: 401755 дня это 1100 лет лет<br>\n",
    "    ** в столбце содержаться пропуски<br>\n",
    "    ** формат столбца необходимо привести к целочисленному<br>\n",
    "* `dob_years` в столбце содержится нулевое значение<br>\n",
    "* `education` в столбце содержаться неявные дубликаты из-за разного регистра значений<br>\n",
    "* `gender` в столбце содержится один не явный пропуск (`XNA`)\n",
    "* `total_income` в столбце содержаться пропущенные значения, формат необходимо привести к целочисленному\n"
   ]
  },
  {
   "cell_type": "markdown",
   "id": "9c837331",
   "metadata": {},
   "source": [
    "##  Предобработка данных"
   ]
  },
  {
   "cell_type": "markdown",
   "id": "f9567897",
   "metadata": {},
   "source": [
    "### Шаг 2.1 Заполнение пропусков"
   ]
  },
  {
   "cell_type": "markdown",
   "id": "f345af67",
   "metadata": {},
   "source": [
    "Заполним пропуски в столбце `total_income`. Доля пропусков составляет 10%, поэтому просто удалить строки нельзя. В отсортированных данных этого столбца мы видели, что есть небольшое количество значаний, которые значительно больше всех остальных (больше 200 000), поэтому среднее будет несовсем корректно применять, т.к. из-за экстримальных значений оно будет искажаться в большую сторону. Заполним пропуски медианными значениеми по каждому типу дохода, у которого есть пропуски по размеру дохода. Ниже обратим внимание, что доход не заполнен для тех строк, в которых не указан стаж работы."
   ]
  },
  {
   "cell_type": "code",
   "execution_count": 30,
   "id": "0822c159",
   "metadata": {},
   "outputs": [
    {
     "data": {
      "text/plain": [
       "2174"
      ]
     },
     "execution_count": 30,
     "metadata": {},
     "output_type": "execute_result"
    }
   ],
   "source": [
    "df['total_income'].isna().sum()"
   ]
  },
  {
   "cell_type": "code",
   "execution_count": 31,
   "id": "11b4b0c0",
   "metadata": {},
   "outputs": [],
   "source": [
    "# определим типы доходов, для которых встречаеются пропуски размера дохода\n",
    "# затем для каждой такой категории посчитаем медианное значение\n",
    "# и в конце для каждого типа дохода, для которого пропущен размер дохода, заменим соответсвующим\n",
    "# медианным значением для такого типа дохода\n",
    "for i in df.loc[df['total_income'].isna(),'income_type'].unique():\n",
    "    median_by_type = df.loc[df['income_type'] == i,'total_income'].median()\n",
    "    df.loc[df['income_type'] == i,'total_income'] = df.loc[df['income_type'] == i,'total_income'].fillna(median_by_type)\n",
    "    "
   ]
  },
  {
   "cell_type": "markdown",
   "id": "6241d6b0",
   "metadata": {},
   "source": [
    "Убедимся, что в поле `total_income` не осталось пропусков"
   ]
  },
  {
   "cell_type": "code",
   "execution_count": 32,
   "id": "e3e1e255",
   "metadata": {},
   "outputs": [
    {
     "data": {
      "text/html": [
       "<div>\n",
       "<style scoped>\n",
       "    .dataframe tbody tr th:only-of-type {\n",
       "        vertical-align: middle;\n",
       "    }\n",
       "\n",
       "    .dataframe tbody tr th {\n",
       "        vertical-align: top;\n",
       "    }\n",
       "\n",
       "    .dataframe thead th {\n",
       "        text-align: right;\n",
       "    }\n",
       "</style>\n",
       "<table border=\"1\" class=\"dataframe\">\n",
       "  <thead>\n",
       "    <tr style=\"text-align: right;\">\n",
       "      <th></th>\n",
       "      <th>children</th>\n",
       "      <th>days_employed</th>\n",
       "      <th>dob_years</th>\n",
       "      <th>education</th>\n",
       "      <th>education_id</th>\n",
       "      <th>family_status</th>\n",
       "      <th>family_status_id</th>\n",
       "      <th>gender</th>\n",
       "      <th>income_type</th>\n",
       "      <th>debt</th>\n",
       "      <th>total_income</th>\n",
       "      <th>purpose</th>\n",
       "    </tr>\n",
       "  </thead>\n",
       "  <tbody>\n",
       "  </tbody>\n",
       "</table>\n",
       "</div>"
      ],
      "text/plain": [
       "Empty DataFrame\n",
       "Columns: [children, days_employed, dob_years, education, education_id, family_status, family_status_id, gender, income_type, debt, total_income, purpose]\n",
       "Index: []"
      ]
     },
     "execution_count": 32,
     "metadata": {},
     "output_type": "execute_result"
    }
   ],
   "source": [
    "df.loc[df['total_income'].isna()]"
   ]
  },
  {
   "cell_type": "markdown",
   "id": "e5c7e94b",
   "metadata": {},
   "source": [
    "### Шаг 2.2 Проверка данных на аномалии и исправления."
   ]
  },
  {
   "cell_type": "markdown",
   "id": "67324317",
   "metadata": {},
   "source": [
    "#### `gender`"
   ]
  },
  {
   "cell_type": "markdown",
   "id": "9b4c4963",
   "metadata": {},
   "source": [
    "В выводах к Шагу 1 мы отметили, что в поле `gener` содержится значение `XNA`.\n",
    "Удалим эту строку."
   ]
  },
  {
   "cell_type": "code",
   "execution_count": 36,
   "id": "29cbbf6e",
   "metadata": {},
   "outputs": [],
   "source": [
    "df = df[df['gender'] != 'XNA']"
   ]
  },
  {
   "cell_type": "markdown",
   "id": "7a801c74",
   "metadata": {},
   "source": [
    "#### `education`"
   ]
  },
  {
   "cell_type": "markdown",
   "id": "a6f58da8",
   "metadata": {},
   "source": [
    "Приведем все значения в этом поле к одному регистру (нижнему)."
   ]
  },
  {
   "cell_type": "code",
   "execution_count": 37,
   "id": "5a2e41d5",
   "metadata": {},
   "outputs": [],
   "source": [
    "df['education'] = df['education'].str.lower()"
   ]
  },
  {
   "cell_type": "markdown",
   "id": "0c0241fd",
   "metadata": {},
   "source": [
    "Проверим результат исправления"
   ]
  },
  {
   "cell_type": "code",
   "execution_count": 38,
   "id": "0f1188e4",
   "metadata": {},
   "outputs": [
    {
     "data": {
      "text/plain": [
       "среднее                15233\n",
       "высшее                  5260\n",
       "неоконченное высшее      743\n",
       "начальное                282\n",
       "ученая степень             6\n",
       "Name: education, dtype: int64"
      ]
     },
     "execution_count": 38,
     "metadata": {},
     "output_type": "execute_result"
    }
   ],
   "source": [
    "df['education'].value_counts()"
   ]
  },
  {
   "cell_type": "markdown",
   "id": "166a7f35",
   "metadata": {},
   "source": [
    "#### `dob_years`"
   ]
  },
  {
   "cell_type": "markdown",
   "id": "55cb47e9",
   "metadata": {},
   "source": [
    "На Шаге 1 мы установили, что для 101 записи возраст заполнен 0. Это меньше 1% от общего размера данных. Можно было бы пренебречь этими записям, но чтобы не терять записи для анализа поставленной задачи, заменим 0 на среднее значение возвраста в разрезе типов дохода. "
   ]
  },
  {
   "cell_type": "code",
   "execution_count": 39,
   "id": "631dafd1",
   "metadata": {},
   "outputs": [],
   "source": [
    "for i in df.loc[df['dob_years'] == 0,'income_type'].unique():\n",
    "    mean_by_type = df.loc[df['income_type'] == i,'dob_years'].mean()\n",
    "    df.loc[(df['income_type'] == i) & (df['dob_years'] == 0),'dob_years'] = mean_by_type"
   ]
  },
  {
   "cell_type": "markdown",
   "id": "259c41ae",
   "metadata": {},
   "source": [
    "Проверим, что нулевых значений не осталось."
   ]
  },
  {
   "cell_type": "code",
   "execution_count": 40,
   "id": "8b4efdb0",
   "metadata": {
    "scrolled": true
   },
   "outputs": [
    {
     "data": {
      "text/plain": [
       "0"
      ]
     },
     "execution_count": 40,
     "metadata": {},
     "output_type": "execute_result"
    }
   ],
   "source": [
    "df.loc[df['dob_years'] == 0]['dob_years'].count()"
   ]
  },
  {
   "cell_type": "markdown",
   "id": "28d6ab3f",
   "metadata": {},
   "source": [
    "#### `children`"
   ]
  },
  {
   "cell_type": "markdown",
   "id": "bd8cfa0e",
   "metadata": {},
   "source": [
    "Заменим значение -1 на 1"
   ]
  },
  {
   "cell_type": "code",
   "execution_count": 41,
   "id": "8f487da3",
   "metadata": {},
   "outputs": [],
   "source": [
    "df.loc[df['children'] == -1, 'children'] = 1"
   ]
  },
  {
   "cell_type": "markdown",
   "id": "85e2843d",
   "metadata": {},
   "source": [
    "Заменим 20 на среднее значение для каждой категории `family_status`"
   ]
  },
  {
   "cell_type": "code",
   "execution_count": 42,
   "id": "80ab7b33",
   "metadata": {},
   "outputs": [],
   "source": [
    "for i in df.loc[df['children'] == 20,'family_status'].unique():\n",
    "    mean_by_status = df.loc[(df['family_status'] == i) & ~(df['children'] == 20),'children'].mean()\n",
    "    df.loc[(df['family_status'] == i) & (df['children'] == 20),'children'] = mean_by_status"
   ]
  },
  {
   "cell_type": "markdown",
   "id": "0471a1d4",
   "metadata": {},
   "source": [
    "Проверим результат"
   ]
  },
  {
   "cell_type": "code",
   "execution_count": 43,
   "id": "a76e6391",
   "metadata": {
    "scrolled": true
   },
   "outputs": [
    {
     "data": {
      "text/plain": [
       "0"
      ]
     },
     "execution_count": 43,
     "metadata": {},
     "output_type": "execute_result"
    }
   ],
   "source": [
    "df.loc[df['children'] == 20] ['children'].count()"
   ]
  },
  {
   "cell_type": "markdown",
   "id": "4eacd04f",
   "metadata": {},
   "source": [
    "#### `days_employed`"
   ]
  },
  {
   "cell_type": "markdown",
   "id": "c539696c",
   "metadata": {},
   "source": [
    "Заменим отрицательные значения на положительные"
   ]
  },
  {
   "cell_type": "code",
   "execution_count": 44,
   "id": "50ff6d08",
   "metadata": {},
   "outputs": [],
   "source": [
    "df['days_employed'] = df['days_employed'].abs()"
   ]
  },
  {
   "cell_type": "markdown",
   "id": "82c36d54",
   "metadata": {},
   "source": [
    "Стаж в 50 лет составляет 18250 дней. Отберем значения стажа выше 20000, отсортируем и посмотрим начальные значения."
   ]
  },
  {
   "cell_type": "code",
   "execution_count": 46,
   "id": "5261d747",
   "metadata": {},
   "outputs": [
    {
     "data": {
      "text/plain": [
       "20444    328728.720605\n",
       "9328     328734.923996\n",
       "17782    328771.341387\n",
       "14783    328795.726728\n",
       "7229     328827.345667\n",
       "5332     328834.274455\n",
       "5756     328842.364916\n",
       "13325    328862.571412\n",
       "3642     328874.270668\n",
       "3386     328895.862752\n",
       "Name: days_employed, dtype: float64"
      ]
     },
     "execution_count": 46,
     "metadata": {},
     "output_type": "execute_result"
    }
   ],
   "source": [
    "df.loc[df['days_employed'] > 20000,'days_employed'].sort_values()[:10]"
   ]
  },
  {
   "cell_type": "markdown",
   "id": "b976d42a",
   "metadata": {},
   "source": [
    "Можно предположить, что для записей со стажем свыше 20000 дней стаж указан не в днях а в часах. Разделим эти значения на 24."
   ]
  },
  {
   "cell_type": "code",
   "execution_count": 47,
   "id": "21bbc762",
   "metadata": {},
   "outputs": [],
   "source": [
    "df.loc[df['days_employed'] > 20000,'days_employed'] = df.loc[df['days_employed'] > 20000,'days_employed'] / 24"
   ]
  },
  {
   "cell_type": "code",
   "execution_count": 48,
   "id": "d495102c",
   "metadata": {},
   "outputs": [
    {
     "data": {
      "text/plain": [
       "17823    16733.936484\n",
       "13420    16734.151387\n",
       "4697     16734.793029\n",
       "7794     16735.993752\n",
       "2156     16736.436110\n",
       "7664     16736.462226\n",
       "10006    16738.158823\n",
       "6954     16739.808353\n",
       "4299     17615.563266\n",
       "16335    18388.949901\n",
       "Name: days_employed, dtype: float64"
      ]
     },
     "execution_count": 48,
     "metadata": {},
     "output_type": "execute_result"
    }
   ],
   "source": [
    "df.loc[df['days_employed'] > 0,'days_employed'].sort_values()[-10:]"
   ]
  },
  {
   "cell_type": "markdown",
   "id": "b43933c6",
   "metadata": {},
   "source": [
    "Заменим пропуски медианным значением"
   ]
  },
  {
   "cell_type": "code",
   "execution_count": 49,
   "id": "7cabba9f",
   "metadata": {},
   "outputs": [],
   "source": [
    "df['days_employed'] = df['days_employed'].fillna(df['days_employed'].median())"
   ]
  },
  {
   "cell_type": "markdown",
   "id": "de8ec5d5",
   "metadata": {},
   "source": [
    "Проверим, что пропусков не осталось"
   ]
  },
  {
   "cell_type": "code",
   "execution_count": 45,
   "id": "d6f34b35",
   "metadata": {},
   "outputs": [
    {
     "data": {
      "text/plain": [
       "0"
      ]
     },
     "execution_count": 45,
     "metadata": {},
     "output_type": "execute_result"
    }
   ],
   "source": [
    "df['days_employed'].isna().sum()"
   ]
  },
  {
   "cell_type": "markdown",
   "id": "0c88f0a2",
   "metadata": {},
   "source": [
    "### Шаг 2.3. Изменение типов данных."
   ]
  },
  {
   "cell_type": "markdown",
   "id": "47f3e9dd",
   "metadata": {},
   "source": [
    "Еще раз проверим тип данных"
   ]
  },
  {
   "cell_type": "code",
   "execution_count": 50,
   "id": "b7e2b2e6",
   "metadata": {},
   "outputs": [
    {
     "name": "stdout",
     "output_type": "stream",
     "text": [
      "<class 'pandas.core.frame.DataFrame'>\n",
      "Int64Index: 21524 entries, 0 to 21524\n",
      "Data columns (total 12 columns):\n",
      " #   Column            Non-Null Count  Dtype  \n",
      "---  ------            --------------  -----  \n",
      " 0   children          21524 non-null  float64\n",
      " 1   days_employed     21524 non-null  float64\n",
      " 2   dob_years         21524 non-null  float64\n",
      " 3   education         21524 non-null  object \n",
      " 4   education_id      21524 non-null  int64  \n",
      " 5   family_status     21524 non-null  object \n",
      " 6   family_status_id  21524 non-null  int64  \n",
      " 7   gender            21524 non-null  object \n",
      " 8   income_type       21524 non-null  object \n",
      " 9   debt              21524 non-null  int64  \n",
      " 10  total_income      21524 non-null  float64\n",
      " 11  purpose           21524 non-null  object \n",
      "dtypes: float64(4), int64(3), object(5)\n",
      "memory usage: 2.1+ MB\n"
     ]
    }
   ],
   "source": [
    "df.info()"
   ]
  },
  {
   "cell_type": "markdown",
   "id": "3c15d04f",
   "metadata": {},
   "source": [
    "Переведем в целочисленный формат значения в столбцах `days_employed`, `children`, `dob_years` и `total_income`"
   ]
  },
  {
   "cell_type": "code",
   "execution_count": 51,
   "id": "7747dc6e",
   "metadata": {},
   "outputs": [],
   "source": [
    "df['days_employed'] = df['days_employed'].astype('int')\n",
    "df['dob_years'] = df['dob_years'].astype('int')\n",
    "df['total_income'] =df['total_income'].astype('int')\n",
    "df['children'] = df['children'].astype('int')"
   ]
  },
  {
   "cell_type": "markdown",
   "id": "4da77cec",
   "metadata": {},
   "source": [
    "Проверим, что тип данных изменился"
   ]
  },
  {
   "cell_type": "code",
   "execution_count": 52,
   "id": "7ab04d06",
   "metadata": {},
   "outputs": [
    {
     "name": "stdout",
     "output_type": "stream",
     "text": [
      "<class 'pandas.core.frame.DataFrame'>\n",
      "Int64Index: 21524 entries, 0 to 21524\n",
      "Data columns (total 12 columns):\n",
      " #   Column            Non-Null Count  Dtype \n",
      "---  ------            --------------  ----- \n",
      " 0   children          21524 non-null  int32 \n",
      " 1   days_employed     21524 non-null  int32 \n",
      " 2   dob_years         21524 non-null  int32 \n",
      " 3   education         21524 non-null  object\n",
      " 4   education_id      21524 non-null  int64 \n",
      " 5   family_status     21524 non-null  object\n",
      " 6   family_status_id  21524 non-null  int64 \n",
      " 7   gender            21524 non-null  object\n",
      " 8   income_type       21524 non-null  object\n",
      " 9   debt              21524 non-null  int64 \n",
      " 10  total_income      21524 non-null  int32 \n",
      " 11  purpose           21524 non-null  object\n",
      "dtypes: int32(4), int64(3), object(5)\n",
      "memory usage: 1.8+ MB\n"
     ]
    }
   ],
   "source": [
    "df.info()"
   ]
  },
  {
   "cell_type": "markdown",
   "id": "8837ccfd",
   "metadata": {},
   "source": [
    "### Шаг 2.4. Удаление дубликатов."
   ]
  },
  {
   "cell_type": "markdown",
   "id": "4507754f",
   "metadata": {},
   "source": [
    "Удалим задублированные строки и обновим индексацию"
   ]
  },
  {
   "cell_type": "code",
   "execution_count": 53,
   "id": "75b2ac94",
   "metadata": {},
   "outputs": [],
   "source": [
    "df = df.drop_duplicates().reset_index(drop=True)"
   ]
  },
  {
   "cell_type": "markdown",
   "id": "b3c090a7",
   "metadata": {},
   "source": [
    "Проверим, что дубликатов не осталось"
   ]
  },
  {
   "cell_type": "code",
   "execution_count": 54,
   "id": "78865d8d",
   "metadata": {},
   "outputs": [
    {
     "data": {
      "text/plain": [
       "0"
      ]
     },
     "execution_count": 54,
     "metadata": {},
     "output_type": "execute_result"
    }
   ],
   "source": [
    "df.duplicated().sum()"
   ]
  },
  {
   "cell_type": "markdown",
   "id": "ca120a8d",
   "metadata": {},
   "source": [
    "### Шаг 2.5. Формирование дополнительных датафреймов словарей, декомпозиция исходного датафрейма."
   ]
  },
  {
   "cell_type": "markdown",
   "id": "ba7cb4b8",
   "metadata": {},
   "source": [
    "Создадим два новых датафрейма, в которых:\n",
    "каждому уникальному значению из `education` соответствует уникальное значение `education_id` — в первом;\n",
    "каждому уникальному значению из `family_status` соответствует уникальное значение `family_status_id` — во втором."
   ]
  },
  {
   "cell_type": "code",
   "execution_count": 55,
   "id": "c64d663c",
   "metadata": {},
   "outputs": [],
   "source": [
    "df_education = df[['education','education_id']]\n",
    "df_family_status = df[['family_status','family_status_id']]\n",
    "df_education = df_education.drop_duplicates().reset_index(drop=True)\n",
    "df_family_status = df_family_status.drop_duplicates().reset_index(drop=True)"
   ]
  },
  {
   "cell_type": "markdown",
   "id": "97d30ad2",
   "metadata": {},
   "source": [
    "Проверим результа"
   ]
  },
  {
   "cell_type": "code",
   "execution_count": 56,
   "id": "8c860814",
   "metadata": {},
   "outputs": [
    {
     "data": {
      "text/html": [
       "<div>\n",
       "<style scoped>\n",
       "    .dataframe tbody tr th:only-of-type {\n",
       "        vertical-align: middle;\n",
       "    }\n",
       "\n",
       "    .dataframe tbody tr th {\n",
       "        vertical-align: top;\n",
       "    }\n",
       "\n",
       "    .dataframe thead th {\n",
       "        text-align: right;\n",
       "    }\n",
       "</style>\n",
       "<table border=\"1\" class=\"dataframe\">\n",
       "  <thead>\n",
       "    <tr style=\"text-align: right;\">\n",
       "      <th></th>\n",
       "      <th>education</th>\n",
       "      <th>education_id</th>\n",
       "    </tr>\n",
       "  </thead>\n",
       "  <tbody>\n",
       "    <tr>\n",
       "      <th>0</th>\n",
       "      <td>высшее</td>\n",
       "      <td>0</td>\n",
       "    </tr>\n",
       "    <tr>\n",
       "      <th>1</th>\n",
       "      <td>среднее</td>\n",
       "      <td>1</td>\n",
       "    </tr>\n",
       "    <tr>\n",
       "      <th>2</th>\n",
       "      <td>неоконченное высшее</td>\n",
       "      <td>2</td>\n",
       "    </tr>\n",
       "    <tr>\n",
       "      <th>3</th>\n",
       "      <td>начальное</td>\n",
       "      <td>3</td>\n",
       "    </tr>\n",
       "    <tr>\n",
       "      <th>4</th>\n",
       "      <td>ученая степень</td>\n",
       "      <td>4</td>\n",
       "    </tr>\n",
       "  </tbody>\n",
       "</table>\n",
       "</div>"
      ],
      "text/plain": [
       "             education  education_id\n",
       "0               высшее             0\n",
       "1              среднее             1\n",
       "2  неоконченное высшее             2\n",
       "3            начальное             3\n",
       "4       ученая степень             4"
      ]
     },
     "execution_count": 56,
     "metadata": {},
     "output_type": "execute_result"
    }
   ],
   "source": [
    "df_education"
   ]
  },
  {
   "cell_type": "code",
   "execution_count": 57,
   "id": "7365d0c3",
   "metadata": {},
   "outputs": [
    {
     "data": {
      "text/html": [
       "<div>\n",
       "<style scoped>\n",
       "    .dataframe tbody tr th:only-of-type {\n",
       "        vertical-align: middle;\n",
       "    }\n",
       "\n",
       "    .dataframe tbody tr th {\n",
       "        vertical-align: top;\n",
       "    }\n",
       "\n",
       "    .dataframe thead th {\n",
       "        text-align: right;\n",
       "    }\n",
       "</style>\n",
       "<table border=\"1\" class=\"dataframe\">\n",
       "  <thead>\n",
       "    <tr style=\"text-align: right;\">\n",
       "      <th></th>\n",
       "      <th>family_status</th>\n",
       "      <th>family_status_id</th>\n",
       "    </tr>\n",
       "  </thead>\n",
       "  <tbody>\n",
       "    <tr>\n",
       "      <th>0</th>\n",
       "      <td>женат / замужем</td>\n",
       "      <td>0</td>\n",
       "    </tr>\n",
       "    <tr>\n",
       "      <th>1</th>\n",
       "      <td>гражданский брак</td>\n",
       "      <td>1</td>\n",
       "    </tr>\n",
       "    <tr>\n",
       "      <th>2</th>\n",
       "      <td>вдовец / вдова</td>\n",
       "      <td>2</td>\n",
       "    </tr>\n",
       "    <tr>\n",
       "      <th>3</th>\n",
       "      <td>в разводе</td>\n",
       "      <td>3</td>\n",
       "    </tr>\n",
       "    <tr>\n",
       "      <th>4</th>\n",
       "      <td>Не женат / не замужем</td>\n",
       "      <td>4</td>\n",
       "    </tr>\n",
       "  </tbody>\n",
       "</table>\n",
       "</div>"
      ],
      "text/plain": [
       "           family_status  family_status_id\n",
       "0        женат / замужем                 0\n",
       "1       гражданский брак                 1\n",
       "2         вдовец / вдова                 2\n",
       "3              в разводе                 3\n",
       "4  Не женат / не замужем                 4"
      ]
     },
     "execution_count": 57,
     "metadata": {},
     "output_type": "execute_result"
    }
   ],
   "source": [
    "df_family_status"
   ]
  },
  {
   "cell_type": "markdown",
   "id": "555693af",
   "metadata": {},
   "source": [
    "Удалим `education` и `family_status` из `df`"
   ]
  },
  {
   "cell_type": "code",
   "execution_count": 58,
   "id": "96603113",
   "metadata": {},
   "outputs": [
    {
     "data": {
      "text/html": [
       "<div>\n",
       "<style scoped>\n",
       "    .dataframe tbody tr th:only-of-type {\n",
       "        vertical-align: middle;\n",
       "    }\n",
       "\n",
       "    .dataframe tbody tr th {\n",
       "        vertical-align: top;\n",
       "    }\n",
       "\n",
       "    .dataframe thead th {\n",
       "        text-align: right;\n",
       "    }\n",
       "</style>\n",
       "<table border=\"1\" class=\"dataframe\">\n",
       "  <thead>\n",
       "    <tr style=\"text-align: right;\">\n",
       "      <th></th>\n",
       "      <th>children</th>\n",
       "      <th>days_employed</th>\n",
       "      <th>dob_years</th>\n",
       "      <th>education_id</th>\n",
       "      <th>family_status_id</th>\n",
       "      <th>gender</th>\n",
       "      <th>income_type</th>\n",
       "      <th>debt</th>\n",
       "      <th>total_income</th>\n",
       "      <th>purpose</th>\n",
       "    </tr>\n",
       "  </thead>\n",
       "  <tbody>\n",
       "    <tr>\n",
       "      <th>0</th>\n",
       "      <td>1</td>\n",
       "      <td>8437</td>\n",
       "      <td>42</td>\n",
       "      <td>0</td>\n",
       "      <td>0</td>\n",
       "      <td>F</td>\n",
       "      <td>сотрудник</td>\n",
       "      <td>0</td>\n",
       "      <td>253875</td>\n",
       "      <td>покупка жилья</td>\n",
       "    </tr>\n",
       "    <tr>\n",
       "      <th>1</th>\n",
       "      <td>1</td>\n",
       "      <td>4024</td>\n",
       "      <td>36</td>\n",
       "      <td>1</td>\n",
       "      <td>0</td>\n",
       "      <td>F</td>\n",
       "      <td>сотрудник</td>\n",
       "      <td>0</td>\n",
       "      <td>112080</td>\n",
       "      <td>приобретение автомобиля</td>\n",
       "    </tr>\n",
       "    <tr>\n",
       "      <th>2</th>\n",
       "      <td>0</td>\n",
       "      <td>5623</td>\n",
       "      <td>33</td>\n",
       "      <td>1</td>\n",
       "      <td>0</td>\n",
       "      <td>M</td>\n",
       "      <td>сотрудник</td>\n",
       "      <td>0</td>\n",
       "      <td>145885</td>\n",
       "      <td>покупка жилья</td>\n",
       "    </tr>\n",
       "    <tr>\n",
       "      <th>3</th>\n",
       "      <td>3</td>\n",
       "      <td>4124</td>\n",
       "      <td>32</td>\n",
       "      <td>1</td>\n",
       "      <td>0</td>\n",
       "      <td>M</td>\n",
       "      <td>сотрудник</td>\n",
       "      <td>0</td>\n",
       "      <td>267628</td>\n",
       "      <td>дополнительное образование</td>\n",
       "    </tr>\n",
       "    <tr>\n",
       "      <th>4</th>\n",
       "      <td>0</td>\n",
       "      <td>14177</td>\n",
       "      <td>53</td>\n",
       "      <td>1</td>\n",
       "      <td>1</td>\n",
       "      <td>F</td>\n",
       "      <td>пенсионер</td>\n",
       "      <td>0</td>\n",
       "      <td>158616</td>\n",
       "      <td>сыграть свадьбу</td>\n",
       "    </tr>\n",
       "    <tr>\n",
       "      <th>...</th>\n",
       "      <td>...</td>\n",
       "      <td>...</td>\n",
       "      <td>...</td>\n",
       "      <td>...</td>\n",
       "      <td>...</td>\n",
       "      <td>...</td>\n",
       "      <td>...</td>\n",
       "      <td>...</td>\n",
       "      <td>...</td>\n",
       "      <td>...</td>\n",
       "    </tr>\n",
       "    <tr>\n",
       "      <th>21448</th>\n",
       "      <td>1</td>\n",
       "      <td>4529</td>\n",
       "      <td>43</td>\n",
       "      <td>1</td>\n",
       "      <td>1</td>\n",
       "      <td>F</td>\n",
       "      <td>компаньон</td>\n",
       "      <td>0</td>\n",
       "      <td>224791</td>\n",
       "      <td>операции с жильем</td>\n",
       "    </tr>\n",
       "    <tr>\n",
       "      <th>21449</th>\n",
       "      <td>0</td>\n",
       "      <td>14330</td>\n",
       "      <td>67</td>\n",
       "      <td>1</td>\n",
       "      <td>0</td>\n",
       "      <td>F</td>\n",
       "      <td>пенсионер</td>\n",
       "      <td>0</td>\n",
       "      <td>155999</td>\n",
       "      <td>сделка с автомобилем</td>\n",
       "    </tr>\n",
       "    <tr>\n",
       "      <th>21450</th>\n",
       "      <td>1</td>\n",
       "      <td>2113</td>\n",
       "      <td>38</td>\n",
       "      <td>1</td>\n",
       "      <td>1</td>\n",
       "      <td>M</td>\n",
       "      <td>сотрудник</td>\n",
       "      <td>1</td>\n",
       "      <td>89672</td>\n",
       "      <td>недвижимость</td>\n",
       "    </tr>\n",
       "    <tr>\n",
       "      <th>21451</th>\n",
       "      <td>3</td>\n",
       "      <td>3112</td>\n",
       "      <td>38</td>\n",
       "      <td>1</td>\n",
       "      <td>0</td>\n",
       "      <td>M</td>\n",
       "      <td>сотрудник</td>\n",
       "      <td>1</td>\n",
       "      <td>244093</td>\n",
       "      <td>на покупку своего автомобиля</td>\n",
       "    </tr>\n",
       "    <tr>\n",
       "      <th>21452</th>\n",
       "      <td>2</td>\n",
       "      <td>1984</td>\n",
       "      <td>40</td>\n",
       "      <td>1</td>\n",
       "      <td>0</td>\n",
       "      <td>F</td>\n",
       "      <td>сотрудник</td>\n",
       "      <td>0</td>\n",
       "      <td>82047</td>\n",
       "      <td>на покупку автомобиля</td>\n",
       "    </tr>\n",
       "  </tbody>\n",
       "</table>\n",
       "<p>21453 rows × 10 columns</p>\n",
       "</div>"
      ],
      "text/plain": [
       "       children  days_employed  dob_years  education_id  family_status_id  \\\n",
       "0             1           8437         42             0                 0   \n",
       "1             1           4024         36             1                 0   \n",
       "2             0           5623         33             1                 0   \n",
       "3             3           4124         32             1                 0   \n",
       "4             0          14177         53             1                 1   \n",
       "...         ...            ...        ...           ...               ...   \n",
       "21448         1           4529         43             1                 1   \n",
       "21449         0          14330         67             1                 0   \n",
       "21450         1           2113         38             1                 1   \n",
       "21451         3           3112         38             1                 0   \n",
       "21452         2           1984         40             1                 0   \n",
       "\n",
       "      gender income_type  debt  total_income                       purpose  \n",
       "0          F   сотрудник     0        253875                 покупка жилья  \n",
       "1          F   сотрудник     0        112080       приобретение автомобиля  \n",
       "2          M   сотрудник     0        145885                 покупка жилья  \n",
       "3          M   сотрудник     0        267628    дополнительное образование  \n",
       "4          F   пенсионер     0        158616               сыграть свадьбу  \n",
       "...      ...         ...   ...           ...                           ...  \n",
       "21448      F   компаньон     0        224791             операции с жильем  \n",
       "21449      F   пенсионер     0        155999          сделка с автомобилем  \n",
       "21450      M   сотрудник     1         89672                  недвижимость  \n",
       "21451      M   сотрудник     1        244093  на покупку своего автомобиля  \n",
       "21452      F   сотрудник     0         82047         на покупку автомобиля  \n",
       "\n",
       "[21453 rows x 10 columns]"
      ]
     },
     "execution_count": 58,
     "metadata": {},
     "output_type": "execute_result"
    }
   ],
   "source": [
    "df.drop(columns=['education', 'family_status'])"
   ]
  },
  {
   "cell_type": "markdown",
   "id": "adca48e6",
   "metadata": {},
   "source": [
    "### Шаг 2.6. Категоризация дохода."
   ]
  },
  {
   "cell_type": "markdown",
   "id": "e53251be",
   "metadata": {},
   "source": [
    "На основании диапазонов, указанных ниже, создадим столбец total_income_category с категориями:<br>\n",
    "0–30000 — 'E';<br>\n",
    "30001–50000 — 'D';<br>\n",
    "50001–200000 — 'C';<br>\n",
    "200001–1000000 — 'B';<br>\n",
    "1000001 и выше — 'A'.<br>"
   ]
  },
  {
   "cell_type": "code",
   "execution_count": 59,
   "id": "41ce43e1",
   "metadata": {},
   "outputs": [],
   "source": [
    "def total_income_group(total_income):\n",
    "    if total_income <= 30000:\n",
    "        return 'E'\n",
    "    if total_income <= 50000:\n",
    "        return 'D'\n",
    "    if total_income <= 200000:\n",
    "        return 'C'\n",
    "    if total_income <= 1000000:\n",
    "        return 'B'\n",
    "    return 'A'\n",
    "\n",
    "df['total_income_category'] = df['total_income'].apply(total_income_group)"
   ]
  },
  {
   "cell_type": "code",
   "execution_count": 60,
   "id": "c2d45d6e",
   "metadata": {},
   "outputs": [
    {
     "data": {
      "text/html": [
       "<div>\n",
       "<style scoped>\n",
       "    .dataframe tbody tr th:only-of-type {\n",
       "        vertical-align: middle;\n",
       "    }\n",
       "\n",
       "    .dataframe tbody tr th {\n",
       "        vertical-align: top;\n",
       "    }\n",
       "\n",
       "    .dataframe thead th {\n",
       "        text-align: right;\n",
       "    }\n",
       "</style>\n",
       "<table border=\"1\" class=\"dataframe\">\n",
       "  <thead>\n",
       "    <tr style=\"text-align: right;\">\n",
       "      <th></th>\n",
       "      <th>children</th>\n",
       "      <th>days_employed</th>\n",
       "      <th>dob_years</th>\n",
       "      <th>education</th>\n",
       "      <th>education_id</th>\n",
       "      <th>family_status</th>\n",
       "      <th>family_status_id</th>\n",
       "      <th>gender</th>\n",
       "      <th>income_type</th>\n",
       "      <th>debt</th>\n",
       "      <th>total_income</th>\n",
       "      <th>purpose</th>\n",
       "      <th>total_income_category</th>\n",
       "    </tr>\n",
       "  </thead>\n",
       "  <tbody>\n",
       "    <tr>\n",
       "      <th>0</th>\n",
       "      <td>1</td>\n",
       "      <td>8437</td>\n",
       "      <td>42</td>\n",
       "      <td>высшее</td>\n",
       "      <td>0</td>\n",
       "      <td>женат / замужем</td>\n",
       "      <td>0</td>\n",
       "      <td>F</td>\n",
       "      <td>сотрудник</td>\n",
       "      <td>0</td>\n",
       "      <td>253875</td>\n",
       "      <td>покупка жилья</td>\n",
       "      <td>B</td>\n",
       "    </tr>\n",
       "    <tr>\n",
       "      <th>1</th>\n",
       "      <td>1</td>\n",
       "      <td>4024</td>\n",
       "      <td>36</td>\n",
       "      <td>среднее</td>\n",
       "      <td>1</td>\n",
       "      <td>женат / замужем</td>\n",
       "      <td>0</td>\n",
       "      <td>F</td>\n",
       "      <td>сотрудник</td>\n",
       "      <td>0</td>\n",
       "      <td>112080</td>\n",
       "      <td>приобретение автомобиля</td>\n",
       "      <td>C</td>\n",
       "    </tr>\n",
       "    <tr>\n",
       "      <th>2</th>\n",
       "      <td>0</td>\n",
       "      <td>5623</td>\n",
       "      <td>33</td>\n",
       "      <td>среднее</td>\n",
       "      <td>1</td>\n",
       "      <td>женат / замужем</td>\n",
       "      <td>0</td>\n",
       "      <td>M</td>\n",
       "      <td>сотрудник</td>\n",
       "      <td>0</td>\n",
       "      <td>145885</td>\n",
       "      <td>покупка жилья</td>\n",
       "      <td>C</td>\n",
       "    </tr>\n",
       "    <tr>\n",
       "      <th>3</th>\n",
       "      <td>3</td>\n",
       "      <td>4124</td>\n",
       "      <td>32</td>\n",
       "      <td>среднее</td>\n",
       "      <td>1</td>\n",
       "      <td>женат / замужем</td>\n",
       "      <td>0</td>\n",
       "      <td>M</td>\n",
       "      <td>сотрудник</td>\n",
       "      <td>0</td>\n",
       "      <td>267628</td>\n",
       "      <td>дополнительное образование</td>\n",
       "      <td>B</td>\n",
       "    </tr>\n",
       "    <tr>\n",
       "      <th>4</th>\n",
       "      <td>0</td>\n",
       "      <td>14177</td>\n",
       "      <td>53</td>\n",
       "      <td>среднее</td>\n",
       "      <td>1</td>\n",
       "      <td>гражданский брак</td>\n",
       "      <td>1</td>\n",
       "      <td>F</td>\n",
       "      <td>пенсионер</td>\n",
       "      <td>0</td>\n",
       "      <td>158616</td>\n",
       "      <td>сыграть свадьбу</td>\n",
       "      <td>C</td>\n",
       "    </tr>\n",
       "  </tbody>\n",
       "</table>\n",
       "</div>"
      ],
      "text/plain": [
       "   children  days_employed  dob_years education  education_id  \\\n",
       "0         1           8437         42    высшее             0   \n",
       "1         1           4024         36   среднее             1   \n",
       "2         0           5623         33   среднее             1   \n",
       "3         3           4124         32   среднее             1   \n",
       "4         0          14177         53   среднее             1   \n",
       "\n",
       "      family_status  family_status_id gender income_type  debt  total_income  \\\n",
       "0   женат / замужем                 0      F   сотрудник     0        253875   \n",
       "1   женат / замужем                 0      F   сотрудник     0        112080   \n",
       "2   женат / замужем                 0      M   сотрудник     0        145885   \n",
       "3   женат / замужем                 0      M   сотрудник     0        267628   \n",
       "4  гражданский брак                 1      F   пенсионер     0        158616   \n",
       "\n",
       "                      purpose total_income_category  \n",
       "0               покупка жилья                     B  \n",
       "1     приобретение автомобиля                     C  \n",
       "2               покупка жилья                     C  \n",
       "3  дополнительное образование                     B  \n",
       "4             сыграть свадьбу                     C  "
      ]
     },
     "execution_count": 60,
     "metadata": {},
     "output_type": "execute_result"
    }
   ],
   "source": [
    "df.head()"
   ]
  },
  {
   "cell_type": "markdown",
   "id": "0081a8ec",
   "metadata": {},
   "source": [
    "### Шаг 2.7. Категоризация целей кредита."
   ]
  },
  {
   "cell_type": "markdown",
   "id": "58cf6485",
   "metadata": {},
   "source": [
    "Создадим функцию, которая на основании данных из столбца purpose сформирует новый столбец purpose_category, в который войдут следующие категории: <br>\n",
    "'операции с автомобилем',<br>\n",
    "'операции с недвижимостью',<br>\n",
    "'проведение свадьбы',<br>\n",
    "'получение образования'.<br>"
   ]
  },
  {
   "cell_type": "code",
   "execution_count": 61,
   "id": "f3263cd4",
   "metadata": {},
   "outputs": [],
   "source": [
    "def purpose_group(purpose):\n",
    "    if purpose.find('автомобил') >= 0:\n",
    "        return 'операции с автомобилем'\n",
    "    if purpose.find('недвижим') >= 0 or purpose.find('жиль') >= 0:\n",
    "        return 'операции с недвижимостью'\n",
    "    if purpose.find('свадьб') >= 0:\n",
    "        return 'проведение свадьбы'\n",
    "    if purpose.find('образован') >= 0:\n",
    "        return 'получение образования'\n",
    "    \n",
    "df['purpose_category'] = df['purpose'].apply(purpose_group)   "
   ]
  },
  {
   "cell_type": "markdown",
   "id": "2d46002c",
   "metadata": {},
   "source": [
    "Проверим"
   ]
  },
  {
   "cell_type": "code",
   "execution_count": 62,
   "id": "522f1607",
   "metadata": {},
   "outputs": [
    {
     "data": {
      "text/html": [
       "<div>\n",
       "<style scoped>\n",
       "    .dataframe tbody tr th:only-of-type {\n",
       "        vertical-align: middle;\n",
       "    }\n",
       "\n",
       "    .dataframe tbody tr th {\n",
       "        vertical-align: top;\n",
       "    }\n",
       "\n",
       "    .dataframe thead th {\n",
       "        text-align: right;\n",
       "    }\n",
       "</style>\n",
       "<table border=\"1\" class=\"dataframe\">\n",
       "  <thead>\n",
       "    <tr style=\"text-align: right;\">\n",
       "      <th></th>\n",
       "      <th>purpose</th>\n",
       "      <th>purpose_category</th>\n",
       "    </tr>\n",
       "  </thead>\n",
       "  <tbody>\n",
       "    <tr>\n",
       "      <th>0</th>\n",
       "      <td>покупка жилья</td>\n",
       "      <td>операции с недвижимостью</td>\n",
       "    </tr>\n",
       "    <tr>\n",
       "      <th>1</th>\n",
       "      <td>приобретение автомобиля</td>\n",
       "      <td>операции с автомобилем</td>\n",
       "    </tr>\n",
       "    <tr>\n",
       "      <th>2</th>\n",
       "      <td>дополнительное образование</td>\n",
       "      <td>получение образования</td>\n",
       "    </tr>\n",
       "    <tr>\n",
       "      <th>3</th>\n",
       "      <td>сыграть свадьбу</td>\n",
       "      <td>проведение свадьбы</td>\n",
       "    </tr>\n",
       "    <tr>\n",
       "      <th>4</th>\n",
       "      <td>операции с жильем</td>\n",
       "      <td>операции с недвижимостью</td>\n",
       "    </tr>\n",
       "    <tr>\n",
       "      <th>5</th>\n",
       "      <td>образование</td>\n",
       "      <td>получение образования</td>\n",
       "    </tr>\n",
       "    <tr>\n",
       "      <th>6</th>\n",
       "      <td>на проведение свадьбы</td>\n",
       "      <td>проведение свадьбы</td>\n",
       "    </tr>\n",
       "    <tr>\n",
       "      <th>7</th>\n",
       "      <td>покупка жилья для семьи</td>\n",
       "      <td>операции с недвижимостью</td>\n",
       "    </tr>\n",
       "    <tr>\n",
       "      <th>8</th>\n",
       "      <td>покупка недвижимости</td>\n",
       "      <td>операции с недвижимостью</td>\n",
       "    </tr>\n",
       "    <tr>\n",
       "      <th>9</th>\n",
       "      <td>покупка коммерческой недвижимости</td>\n",
       "      <td>операции с недвижимостью</td>\n",
       "    </tr>\n",
       "    <tr>\n",
       "      <th>10</th>\n",
       "      <td>покупка жилой недвижимости</td>\n",
       "      <td>операции с недвижимостью</td>\n",
       "    </tr>\n",
       "    <tr>\n",
       "      <th>11</th>\n",
       "      <td>строительство собственной недвижимости</td>\n",
       "      <td>операции с недвижимостью</td>\n",
       "    </tr>\n",
       "    <tr>\n",
       "      <th>12</th>\n",
       "      <td>недвижимость</td>\n",
       "      <td>операции с недвижимостью</td>\n",
       "    </tr>\n",
       "    <tr>\n",
       "      <th>13</th>\n",
       "      <td>строительство недвижимости</td>\n",
       "      <td>операции с недвижимостью</td>\n",
       "    </tr>\n",
       "    <tr>\n",
       "      <th>14</th>\n",
       "      <td>на покупку подержанного автомобиля</td>\n",
       "      <td>операции с автомобилем</td>\n",
       "    </tr>\n",
       "    <tr>\n",
       "      <th>15</th>\n",
       "      <td>на покупку своего автомобиля</td>\n",
       "      <td>операции с автомобилем</td>\n",
       "    </tr>\n",
       "    <tr>\n",
       "      <th>16</th>\n",
       "      <td>операции с коммерческой недвижимостью</td>\n",
       "      <td>операции с недвижимостью</td>\n",
       "    </tr>\n",
       "    <tr>\n",
       "      <th>17</th>\n",
       "      <td>строительство жилой недвижимости</td>\n",
       "      <td>операции с недвижимостью</td>\n",
       "    </tr>\n",
       "    <tr>\n",
       "      <th>18</th>\n",
       "      <td>жилье</td>\n",
       "      <td>операции с недвижимостью</td>\n",
       "    </tr>\n",
       "    <tr>\n",
       "      <th>19</th>\n",
       "      <td>операции со своей недвижимостью</td>\n",
       "      <td>операции с недвижимостью</td>\n",
       "    </tr>\n",
       "    <tr>\n",
       "      <th>20</th>\n",
       "      <td>автомобили</td>\n",
       "      <td>операции с автомобилем</td>\n",
       "    </tr>\n",
       "    <tr>\n",
       "      <th>21</th>\n",
       "      <td>заняться образованием</td>\n",
       "      <td>получение образования</td>\n",
       "    </tr>\n",
       "    <tr>\n",
       "      <th>22</th>\n",
       "      <td>сделка с подержанным автомобилем</td>\n",
       "      <td>операции с автомобилем</td>\n",
       "    </tr>\n",
       "    <tr>\n",
       "      <th>23</th>\n",
       "      <td>получение образования</td>\n",
       "      <td>получение образования</td>\n",
       "    </tr>\n",
       "    <tr>\n",
       "      <th>24</th>\n",
       "      <td>автомобиль</td>\n",
       "      <td>операции с автомобилем</td>\n",
       "    </tr>\n",
       "    <tr>\n",
       "      <th>25</th>\n",
       "      <td>свадьба</td>\n",
       "      <td>проведение свадьбы</td>\n",
       "    </tr>\n",
       "    <tr>\n",
       "      <th>26</th>\n",
       "      <td>получение дополнительного образования</td>\n",
       "      <td>получение образования</td>\n",
       "    </tr>\n",
       "    <tr>\n",
       "      <th>27</th>\n",
       "      <td>покупка своего жилья</td>\n",
       "      <td>операции с недвижимостью</td>\n",
       "    </tr>\n",
       "    <tr>\n",
       "      <th>28</th>\n",
       "      <td>операции с недвижимостью</td>\n",
       "      <td>операции с недвижимостью</td>\n",
       "    </tr>\n",
       "    <tr>\n",
       "      <th>29</th>\n",
       "      <td>получение высшего образования</td>\n",
       "      <td>получение образования</td>\n",
       "    </tr>\n",
       "    <tr>\n",
       "      <th>30</th>\n",
       "      <td>свой автомобиль</td>\n",
       "      <td>операции с автомобилем</td>\n",
       "    </tr>\n",
       "    <tr>\n",
       "      <th>31</th>\n",
       "      <td>сделка с автомобилем</td>\n",
       "      <td>операции с автомобилем</td>\n",
       "    </tr>\n",
       "    <tr>\n",
       "      <th>32</th>\n",
       "      <td>профильное образование</td>\n",
       "      <td>получение образования</td>\n",
       "    </tr>\n",
       "    <tr>\n",
       "      <th>33</th>\n",
       "      <td>высшее образование</td>\n",
       "      <td>получение образования</td>\n",
       "    </tr>\n",
       "    <tr>\n",
       "      <th>34</th>\n",
       "      <td>покупка жилья для сдачи</td>\n",
       "      <td>операции с недвижимостью</td>\n",
       "    </tr>\n",
       "    <tr>\n",
       "      <th>35</th>\n",
       "      <td>на покупку автомобиля</td>\n",
       "      <td>операции с автомобилем</td>\n",
       "    </tr>\n",
       "    <tr>\n",
       "      <th>36</th>\n",
       "      <td>ремонт жилью</td>\n",
       "      <td>операции с недвижимостью</td>\n",
       "    </tr>\n",
       "    <tr>\n",
       "      <th>37</th>\n",
       "      <td>заняться высшим образованием</td>\n",
       "      <td>получение образования</td>\n",
       "    </tr>\n",
       "  </tbody>\n",
       "</table>\n",
       "</div>"
      ],
      "text/plain": [
       "                                   purpose          purpose_category\n",
       "0                            покупка жилья  операции с недвижимостью\n",
       "1                  приобретение автомобиля    операции с автомобилем\n",
       "2               дополнительное образование     получение образования\n",
       "3                          сыграть свадьбу        проведение свадьбы\n",
       "4                        операции с жильем  операции с недвижимостью\n",
       "5                              образование     получение образования\n",
       "6                    на проведение свадьбы        проведение свадьбы\n",
       "7                  покупка жилья для семьи  операции с недвижимостью\n",
       "8                     покупка недвижимости  операции с недвижимостью\n",
       "9        покупка коммерческой недвижимости  операции с недвижимостью\n",
       "10              покупка жилой недвижимости  операции с недвижимостью\n",
       "11  строительство собственной недвижимости  операции с недвижимостью\n",
       "12                            недвижимость  операции с недвижимостью\n",
       "13              строительство недвижимости  операции с недвижимостью\n",
       "14      на покупку подержанного автомобиля    операции с автомобилем\n",
       "15            на покупку своего автомобиля    операции с автомобилем\n",
       "16   операции с коммерческой недвижимостью  операции с недвижимостью\n",
       "17        строительство жилой недвижимости  операции с недвижимостью\n",
       "18                                   жилье  операции с недвижимостью\n",
       "19         операции со своей недвижимостью  операции с недвижимостью\n",
       "20                              автомобили    операции с автомобилем\n",
       "21                   заняться образованием     получение образования\n",
       "22        сделка с подержанным автомобилем    операции с автомобилем\n",
       "23                   получение образования     получение образования\n",
       "24                              автомобиль    операции с автомобилем\n",
       "25                                 свадьба        проведение свадьбы\n",
       "26   получение дополнительного образования     получение образования\n",
       "27                    покупка своего жилья  операции с недвижимостью\n",
       "28                операции с недвижимостью  операции с недвижимостью\n",
       "29           получение высшего образования     получение образования\n",
       "30                         свой автомобиль    операции с автомобилем\n",
       "31                    сделка с автомобилем    операции с автомобилем\n",
       "32                  профильное образование     получение образования\n",
       "33                      высшее образование     получение образования\n",
       "34                 покупка жилья для сдачи  операции с недвижимостью\n",
       "35                   на покупку автомобиля    операции с автомобилем\n",
       "36                            ремонт жилью  операции с недвижимостью\n",
       "37            заняться высшим образованием     получение образования"
      ]
     },
     "execution_count": 62,
     "metadata": {},
     "output_type": "execute_result"
    }
   ],
   "source": [
    "df_purpose_group = df[['purpose','purpose_category']]\n",
    "df_purpose_group = df_purpose_group.drop_duplicates().reset_index(drop=True)\n",
    "df_purpose_group"
   ]
  },
  {
   "cell_type": "markdown",
   "id": "cd8e2088",
   "metadata": {},
   "source": [
    "### Ответы на вопросы."
   ]
  },
  {
   "cell_type": "markdown",
   "id": "5fa7e71e",
   "metadata": {},
   "source": [
    "##### Вопрос 1:"
   ]
  },
  {
   "cell_type": "markdown",
   "id": "1cce67a5",
   "metadata": {},
   "source": [
    "Есть ли зависимость между количеством детей и возвратом кредита в срок?"
   ]
  },
  {
   "cell_type": "code",
   "execution_count": 63,
   "id": "7ad5d0f9",
   "metadata": {},
   "outputs": [
    {
     "data": {
      "text/html": [
       "<div>\n",
       "<style scoped>\n",
       "    .dataframe tbody tr th:only-of-type {\n",
       "        vertical-align: middle;\n",
       "    }\n",
       "\n",
       "    .dataframe tbody tr th {\n",
       "        vertical-align: top;\n",
       "    }\n",
       "\n",
       "    .dataframe thead tr th {\n",
       "        text-align: left;\n",
       "    }\n",
       "\n",
       "    .dataframe thead tr:last-of-type th {\n",
       "        text-align: right;\n",
       "    }\n",
       "</style>\n",
       "<table border=\"1\" class=\"dataframe\">\n",
       "  <thead>\n",
       "    <tr>\n",
       "      <th></th>\n",
       "      <th colspan=\"2\" halign=\"left\">debt</th>\n",
       "      <th>debt_rate</th>\n",
       "    </tr>\n",
       "    <tr>\n",
       "      <th></th>\n",
       "      <th>sum</th>\n",
       "      <th>count</th>\n",
       "      <th></th>\n",
       "    </tr>\n",
       "    <tr>\n",
       "      <th>children</th>\n",
       "      <th></th>\n",
       "      <th></th>\n",
       "      <th></th>\n",
       "    </tr>\n",
       "  </thead>\n",
       "  <tbody>\n",
       "    <tr>\n",
       "      <th>0</th>\n",
       "      <td>1071</td>\n",
       "      <td>14166</td>\n",
       "      <td>7.560356</td>\n",
       "    </tr>\n",
       "    <tr>\n",
       "      <th>1</th>\n",
       "      <td>445</td>\n",
       "      <td>4855</td>\n",
       "      <td>9.165808</td>\n",
       "    </tr>\n",
       "    <tr>\n",
       "      <th>2</th>\n",
       "      <td>194</td>\n",
       "      <td>2052</td>\n",
       "      <td>9.454191</td>\n",
       "    </tr>\n",
       "    <tr>\n",
       "      <th>3</th>\n",
       "      <td>27</td>\n",
       "      <td>330</td>\n",
       "      <td>8.181818</td>\n",
       "    </tr>\n",
       "    <tr>\n",
       "      <th>4</th>\n",
       "      <td>4</td>\n",
       "      <td>41</td>\n",
       "      <td>9.756098</td>\n",
       "    </tr>\n",
       "    <tr>\n",
       "      <th>5</th>\n",
       "      <td>0</td>\n",
       "      <td>9</td>\n",
       "      <td>0.000000</td>\n",
       "    </tr>\n",
       "  </tbody>\n",
       "</table>\n",
       "</div>"
      ],
      "text/plain": [
       "          debt        debt_rate\n",
       "           sum  count          \n",
       "children                       \n",
       "0         1071  14166  7.560356\n",
       "1          445   4855  9.165808\n",
       "2          194   2052  9.454191\n",
       "3           27    330  8.181818\n",
       "4            4     41  9.756098\n",
       "5            0      9  0.000000"
      ]
     },
     "execution_count": 63,
     "metadata": {},
     "output_type": "execute_result"
    }
   ],
   "source": [
    "data_grouped_children = df.groupby(['children']).agg({'debt':['sum','count']})\n",
    "data_grouped_children['debt_rate'] = 100 * data_grouped_children['debt']['sum'] / data_grouped_children['debt']['count']\n",
    "data_grouped_children"
   ]
  },
  {
   "cell_type": "markdown",
   "id": "8e1f9cbf",
   "metadata": {},
   "source": [
    "Из таблицы мы видим, что клиенты у которых есть 1,2, или 4 ребенка - реже остальных возращают кредиты.<br>\n",
    "Клиенты, у которых 3 ребенка - возвращают кредит реже, чем клиенты без детей.<br>\n",
    "Клиенты с 5 детьми кредиты возвращают чаще остальных."
   ]
  },
  {
   "cell_type": "markdown",
   "id": "e9db9729",
   "metadata": {},
   "source": [
    "##### Вывод 1:"
   ]
  },
  {
   "cell_type": "markdown",
   "id": "6c121591",
   "metadata": {},
   "source": [
    "Клиенты, у которых до 4х детей, возвращают кредиты реже, чем клиенты без детей."
   ]
  },
  {
   "cell_type": "markdown",
   "id": "419f34a4",
   "metadata": {},
   "source": [
    "##### Вопрос 2:"
   ]
  },
  {
   "cell_type": "markdown",
   "id": "03f7e76d",
   "metadata": {},
   "source": [
    "Есть ли зависимость между семейным положением и возвратом кредита в срок?"
   ]
  },
  {
   "cell_type": "code",
   "execution_count": 64,
   "id": "012e0039",
   "metadata": {},
   "outputs": [
    {
     "data": {
      "text/html": [
       "<div>\n",
       "<style scoped>\n",
       "    .dataframe tbody tr th:only-of-type {\n",
       "        vertical-align: middle;\n",
       "    }\n",
       "\n",
       "    .dataframe tbody tr th {\n",
       "        vertical-align: top;\n",
       "    }\n",
       "\n",
       "    .dataframe thead tr th {\n",
       "        text-align: left;\n",
       "    }\n",
       "\n",
       "    .dataframe thead tr:last-of-type th {\n",
       "        text-align: right;\n",
       "    }\n",
       "</style>\n",
       "<table border=\"1\" class=\"dataframe\">\n",
       "  <thead>\n",
       "    <tr>\n",
       "      <th></th>\n",
       "      <th colspan=\"2\" halign=\"left\">debt</th>\n",
       "      <th>debt_rate</th>\n",
       "    </tr>\n",
       "    <tr>\n",
       "      <th></th>\n",
       "      <th>sum</th>\n",
       "      <th>count</th>\n",
       "      <th></th>\n",
       "    </tr>\n",
       "    <tr>\n",
       "      <th>family_status</th>\n",
       "      <th></th>\n",
       "      <th></th>\n",
       "      <th></th>\n",
       "    </tr>\n",
       "  </thead>\n",
       "  <tbody>\n",
       "    <tr>\n",
       "      <th>Не женат / не замужем</th>\n",
       "      <td>274</td>\n",
       "      <td>2810</td>\n",
       "      <td>9.750890</td>\n",
       "    </tr>\n",
       "    <tr>\n",
       "      <th>в разводе</th>\n",
       "      <td>85</td>\n",
       "      <td>1195</td>\n",
       "      <td>7.112971</td>\n",
       "    </tr>\n",
       "    <tr>\n",
       "      <th>вдовец / вдова</th>\n",
       "      <td>63</td>\n",
       "      <td>959</td>\n",
       "      <td>6.569343</td>\n",
       "    </tr>\n",
       "    <tr>\n",
       "      <th>гражданский брак</th>\n",
       "      <td>388</td>\n",
       "      <td>4150</td>\n",
       "      <td>9.349398</td>\n",
       "    </tr>\n",
       "    <tr>\n",
       "      <th>женат / замужем</th>\n",
       "      <td>931</td>\n",
       "      <td>12339</td>\n",
       "      <td>7.545182</td>\n",
       "    </tr>\n",
       "  </tbody>\n",
       "</table>\n",
       "</div>"
      ],
      "text/plain": [
       "                      debt        debt_rate\n",
       "                       sum  count          \n",
       "family_status                              \n",
       "Не женат / не замужем  274   2810  9.750890\n",
       "в разводе               85   1195  7.112971\n",
       "вдовец / вдова          63    959  6.569343\n",
       "гражданский брак       388   4150  9.349398\n",
       "женат / замужем        931  12339  7.545182"
      ]
     },
     "execution_count": 64,
     "metadata": {},
     "output_type": "execute_result"
    }
   ],
   "source": [
    "data_grouped_fs = df.groupby(['family_status']).agg({'debt':['sum','count']})\n",
    "data_grouped_fs['debt_rate'] = 100 * data_grouped_fs['debt']['sum'] / data_grouped_fs['debt']['count']\n",
    "data_grouped_fs"
   ]
  },
  {
   "cell_type": "markdown",
   "id": "8010baa6",
   "metadata": {},
   "source": [
    "##### Вывод 2:"
   ]
  },
  {
   "cell_type": "markdown",
   "id": "e1d15030",
   "metadata": {},
   "source": [
    "Вдовы возвращают кредиты чаще других.\n",
    "А не женатые, не замужние или в гражданском браке - реже остальных"
   ]
  },
  {
   "cell_type": "markdown",
   "id": "56d16bb3",
   "metadata": {},
   "source": [
    "##### Вопрос 3:"
   ]
  },
  {
   "cell_type": "markdown",
   "id": "7e223e6b",
   "metadata": {},
   "source": [
    "Есть ли зависимость между уровнем дохода и возвратом кредита в срок?"
   ]
  },
  {
   "cell_type": "code",
   "execution_count": 65,
   "id": "bf694729",
   "metadata": {},
   "outputs": [
    {
     "data": {
      "text/html": [
       "<div>\n",
       "<style scoped>\n",
       "    .dataframe tbody tr th:only-of-type {\n",
       "        vertical-align: middle;\n",
       "    }\n",
       "\n",
       "    .dataframe tbody tr th {\n",
       "        vertical-align: top;\n",
       "    }\n",
       "\n",
       "    .dataframe thead tr th {\n",
       "        text-align: left;\n",
       "    }\n",
       "\n",
       "    .dataframe thead tr:last-of-type th {\n",
       "        text-align: right;\n",
       "    }\n",
       "</style>\n",
       "<table border=\"1\" class=\"dataframe\">\n",
       "  <thead>\n",
       "    <tr>\n",
       "      <th></th>\n",
       "      <th colspan=\"2\" halign=\"left\">debt</th>\n",
       "      <th>debt_rate</th>\n",
       "    </tr>\n",
       "    <tr>\n",
       "      <th></th>\n",
       "      <th>sum</th>\n",
       "      <th>count</th>\n",
       "      <th></th>\n",
       "    </tr>\n",
       "    <tr>\n",
       "      <th>total_income_category</th>\n",
       "      <th></th>\n",
       "      <th></th>\n",
       "      <th></th>\n",
       "    </tr>\n",
       "  </thead>\n",
       "  <tbody>\n",
       "    <tr>\n",
       "      <th>A</th>\n",
       "      <td>2</td>\n",
       "      <td>25</td>\n",
       "      <td>8.000000</td>\n",
       "    </tr>\n",
       "    <tr>\n",
       "      <th>B</th>\n",
       "      <td>356</td>\n",
       "      <td>5041</td>\n",
       "      <td>7.062091</td>\n",
       "    </tr>\n",
       "    <tr>\n",
       "      <th>C</th>\n",
       "      <td>1360</td>\n",
       "      <td>16015</td>\n",
       "      <td>8.492039</td>\n",
       "    </tr>\n",
       "    <tr>\n",
       "      <th>D</th>\n",
       "      <td>21</td>\n",
       "      <td>350</td>\n",
       "      <td>6.000000</td>\n",
       "    </tr>\n",
       "    <tr>\n",
       "      <th>E</th>\n",
       "      <td>2</td>\n",
       "      <td>22</td>\n",
       "      <td>9.090909</td>\n",
       "    </tr>\n",
       "  </tbody>\n",
       "</table>\n",
       "</div>"
      ],
      "text/plain": [
       "                       debt        debt_rate\n",
       "                        sum  count          \n",
       "total_income_category                       \n",
       "A                         2     25  8.000000\n",
       "B                       356   5041  7.062091\n",
       "C                      1360  16015  8.492039\n",
       "D                        21    350  6.000000\n",
       "E                         2     22  9.090909"
      ]
     },
     "execution_count": 65,
     "metadata": {},
     "output_type": "execute_result"
    }
   ],
   "source": [
    "data_grouped_income = df.groupby(['total_income_category']).agg({'debt':['sum','count']})\n",
    "data_grouped_income['debt_rate'] = 100 * data_grouped_income['debt']['sum'] / data_grouped_income['debt']['count']\n",
    "data_grouped_income"
   ]
  },
  {
   "cell_type": "markdown",
   "id": "042b0985",
   "metadata": {},
   "source": [
    "##### Вывод 3:"
   ]
  },
  {
   "cell_type": "markdown",
   "id": "8137afa1",
   "metadata": {},
   "source": [
    "Клиенты с минимальлным уровнем дохода возращают кредиты хуже устальных. Но при это с уровнем дохода выше минимального - возвращают кредиты чаще остальных. При это прямой зависимости между ростом дохода и платежной дисциплиной не наблюдается"
   ]
  },
  {
   "cell_type": "markdown",
   "id": "3019e13b",
   "metadata": {},
   "source": [
    "##### Вопрос 4:"
   ]
  },
  {
   "cell_type": "markdown",
   "id": "6f7d8702",
   "metadata": {},
   "source": [
    "Как разные цели кредита влияют на его возврат в срок?"
   ]
  },
  {
   "cell_type": "code",
   "execution_count": 66,
   "id": "dccf1cf3",
   "metadata": {},
   "outputs": [
    {
     "data": {
      "text/html": [
       "<div>\n",
       "<style scoped>\n",
       "    .dataframe tbody tr th:only-of-type {\n",
       "        vertical-align: middle;\n",
       "    }\n",
       "\n",
       "    .dataframe tbody tr th {\n",
       "        vertical-align: top;\n",
       "    }\n",
       "\n",
       "    .dataframe thead tr th {\n",
       "        text-align: left;\n",
       "    }\n",
       "\n",
       "    .dataframe thead tr:last-of-type th {\n",
       "        text-align: right;\n",
       "    }\n",
       "</style>\n",
       "<table border=\"1\" class=\"dataframe\">\n",
       "  <thead>\n",
       "    <tr>\n",
       "      <th></th>\n",
       "      <th colspan=\"2\" halign=\"left\">debt</th>\n",
       "      <th>debt_rate</th>\n",
       "    </tr>\n",
       "    <tr>\n",
       "      <th></th>\n",
       "      <th>sum</th>\n",
       "      <th>count</th>\n",
       "      <th></th>\n",
       "    </tr>\n",
       "    <tr>\n",
       "      <th>purpose_category</th>\n",
       "      <th></th>\n",
       "      <th></th>\n",
       "      <th></th>\n",
       "    </tr>\n",
       "  </thead>\n",
       "  <tbody>\n",
       "    <tr>\n",
       "      <th>операции с автомобилем</th>\n",
       "      <td>403</td>\n",
       "      <td>4306</td>\n",
       "      <td>9.359034</td>\n",
       "    </tr>\n",
       "    <tr>\n",
       "      <th>операции с недвижимостью</th>\n",
       "      <td>782</td>\n",
       "      <td>10810</td>\n",
       "      <td>7.234043</td>\n",
       "    </tr>\n",
       "    <tr>\n",
       "      <th>получение образования</th>\n",
       "      <td>370</td>\n",
       "      <td>4013</td>\n",
       "      <td>9.220035</td>\n",
       "    </tr>\n",
       "    <tr>\n",
       "      <th>проведение свадьбы</th>\n",
       "      <td>186</td>\n",
       "      <td>2324</td>\n",
       "      <td>8.003442</td>\n",
       "    </tr>\n",
       "  </tbody>\n",
       "</table>\n",
       "</div>"
      ],
      "text/plain": [
       "                         debt        debt_rate\n",
       "                          sum  count          \n",
       "purpose_category                              \n",
       "операции с автомобилем    403   4306  9.359034\n",
       "операции с недвижимостью  782  10810  7.234043\n",
       "получение образования     370   4013  9.220035\n",
       "проведение свадьбы        186   2324  8.003442"
      ]
     },
     "execution_count": 66,
     "metadata": {},
     "output_type": "execute_result"
    }
   ],
   "source": [
    "data_grouped_purpose = df.groupby(['purpose_category']).agg({'debt':['sum','count']})\n",
    "data_grouped_purpose['debt_rate'] = 100 * data_grouped_purpose['debt']['sum'] / data_grouped_purpose['debt']['count']\n",
    "data_grouped_purpose"
   ]
  },
  {
   "cell_type": "markdown",
   "id": "171e5d87",
   "metadata": {},
   "source": [
    "##### Вывод 4:"
   ]
  },
  {
   "cell_type": "markdown",
   "id": "2ddecbf9",
   "metadata": {},
   "source": [
    "Кредиты на проведение свадьбы и операций с недвижемостью чаще возвращаются в срок чем на кредиты на иные цели."
   ]
  },
  {
   "cell_type": "markdown",
   "id": "f7e42915",
   "metadata": {},
   "source": [
    "## Общий вывод:"
   ]
  },
  {
   "cell_type": "code",
   "execution_count": 67,
   "id": "7cc07eb6",
   "metadata": {},
   "outputs": [
    {
     "data": {
      "text/html": [
       "<div>\n",
       "<style scoped>\n",
       "    .dataframe tbody tr th:only-of-type {\n",
       "        vertical-align: middle;\n",
       "    }\n",
       "\n",
       "    .dataframe tbody tr th {\n",
       "        vertical-align: top;\n",
       "    }\n",
       "\n",
       "    .dataframe thead tr th {\n",
       "        text-align: left;\n",
       "    }\n",
       "\n",
       "    .dataframe thead tr:last-of-type th {\n",
       "        text-align: right;\n",
       "    }\n",
       "</style>\n",
       "<table border=\"1\" class=\"dataframe\">\n",
       "  <thead>\n",
       "    <tr>\n",
       "      <th></th>\n",
       "      <th colspan=\"6\" halign=\"left\"></th>\n",
       "    </tr>\n",
       "    <tr>\n",
       "      <th>children</th>\n",
       "      <th>0</th>\n",
       "      <th>1</th>\n",
       "      <th>2</th>\n",
       "      <th>3</th>\n",
       "      <th>4</th>\n",
       "      <th>5</th>\n",
       "    </tr>\n",
       "    <tr>\n",
       "      <th>family_status</th>\n",
       "      <th></th>\n",
       "      <th></th>\n",
       "      <th></th>\n",
       "      <th></th>\n",
       "      <th></th>\n",
       "      <th></th>\n",
       "    </tr>\n",
       "  </thead>\n",
       "  <tbody>\n",
       "    <tr>\n",
       "      <th>Не женат / не замужем</th>\n",
       "      <td>9.291061</td>\n",
       "      <td>11.453744</td>\n",
       "      <td>12.000000</td>\n",
       "      <td>12.500000</td>\n",
       "      <td>50.000000</td>\n",
       "      <td>NaN</td>\n",
       "    </tr>\n",
       "    <tr>\n",
       "      <th>в разводе</th>\n",
       "      <td>7.124682</td>\n",
       "      <td>6.645570</td>\n",
       "      <td>8.641975</td>\n",
       "      <td>9.090909</td>\n",
       "      <td>0.000000</td>\n",
       "      <td>NaN</td>\n",
       "    </tr>\n",
       "    <tr>\n",
       "      <th>вдовец / вдова</th>\n",
       "      <td>6.227967</td>\n",
       "      <td>8.641975</td>\n",
       "      <td>15.000000</td>\n",
       "      <td>0.000000</td>\n",
       "      <td>0.000000</td>\n",
       "      <td>NaN</td>\n",
       "    </tr>\n",
       "    <tr>\n",
       "      <th>гражданский брак</th>\n",
       "      <td>8.464064</td>\n",
       "      <td>11.800000</td>\n",
       "      <td>8.746356</td>\n",
       "      <td>14.285714</td>\n",
       "      <td>0.000000</td>\n",
       "      <td>0.0</td>\n",
       "    </tr>\n",
       "    <tr>\n",
       "      <th>женат / замужем</th>\n",
       "      <td>6.904350</td>\n",
       "      <td>8.222370</td>\n",
       "      <td>9.458578</td>\n",
       "      <td>6.827309</td>\n",
       "      <td>10.344828</td>\n",
       "      <td>0.0</td>\n",
       "    </tr>\n",
       "  </tbody>\n",
       "</table>\n",
       "</div>"
      ],
      "text/plain": [
       "                                                                             \\\n",
       "children                      0          1          2          3          4   \n",
       "family_status                                                                 \n",
       "Не женат / не замужем  9.291061  11.453744  12.000000  12.500000  50.000000   \n",
       "в разводе              7.124682   6.645570   8.641975   9.090909   0.000000   \n",
       "вдовец / вдова         6.227967   8.641975  15.000000   0.000000   0.000000   \n",
       "гражданский брак       8.464064  11.800000   8.746356  14.285714   0.000000   \n",
       "женат / замужем        6.904350   8.222370   9.458578   6.827309  10.344828   \n",
       "\n",
       "                            \n",
       "children                 5  \n",
       "family_status               \n",
       "Не женат / не замужем  NaN  \n",
       "в разводе              NaN  \n",
       "вдовец / вдова         NaN  \n",
       "гражданский брак       0.0  \n",
       "женат / замужем        0.0  "
      ]
     },
     "execution_count": 67,
     "metadata": {},
     "output_type": "execute_result"
    }
   ],
   "source": [
    "data_grouped_fs_chldr = df.groupby([ 'children','family_status']).agg({'debt':['sum','count']})\n",
    "data_grouped_fs_chldr['debt_rate'] = 100 * data_grouped_fs_chldr['debt']['sum'] / data_grouped_fs_chldr['debt']['count']\n",
    "data_pivot = data_grouped_fs_chldr.pivot_table(index=['family_status'], columns='children', values='debt_rate')\n",
    "data_pivot"
   ]
  },
  {
   "cell_type": "markdown",
   "id": "931766d8",
   "metadata": {},
   "source": [
    "В целом чем больше детей, тем больше вероятность невозврата. <br>\n",
    "\n",
    "Но для определенных групп возврат 100%:<br>\n",
    "* в разводе и 4 ребенка\n",
    "* овдовевшие и 3-4 ребенка\n",
    "* в гражданском браке 4-5 ребенка\n",
    "* в браке и 5 детей\n",
    "\n",
    "Самый большой процент невозврата у клиентов, не состощих в отношениях и 4 детьми.\n",
    "Люди состоящие в браке или ранее состоявшие чаще возвращают кредит своевременно, чем  те, кто не в отношениях или в гражданском браке."
   ]
  }
 ],
 "metadata": {
  "ExecuteTimeLog": [
   {
    "duration": 27,
    "start_time": "2022-05-21T07:49:42.017Z"
   },
   {
    "duration": 22,
    "start_time": "2022-05-21T07:51:45.997Z"
   },
   {
    "duration": 50,
    "start_time": "2022-05-21T08:06:44.220Z"
   },
   {
    "duration": 911,
    "start_time": "2022-05-21T08:07:20.483Z"
   },
   {
    "duration": 62,
    "start_time": "2022-05-21T08:07:35.559Z"
   },
   {
    "duration": 62,
    "start_time": "2022-05-21T08:09:18.619Z"
   },
   {
    "duration": 20,
    "start_time": "2022-05-21T08:09:27.373Z"
   },
   {
    "duration": 24,
    "start_time": "2022-05-21T08:11:15.795Z"
   },
   {
    "duration": 19,
    "start_time": "2022-05-21T08:23:15.276Z"
   },
   {
    "duration": 13,
    "start_time": "2022-05-21T08:23:35.697Z"
   },
   {
    "duration": 13,
    "start_time": "2022-05-21T08:24:02.180Z"
   },
   {
    "duration": 30,
    "start_time": "2022-05-21T08:25:10.860Z"
   },
   {
    "duration": 15,
    "start_time": "2022-05-21T08:25:33.671Z"
   },
   {
    "duration": 12,
    "start_time": "2022-05-21T08:26:50.783Z"
   },
   {
    "duration": 5,
    "start_time": "2022-05-21T08:28:55.081Z"
   },
   {
    "duration": 9,
    "start_time": "2022-05-21T08:29:53.481Z"
   },
   {
    "duration": 32,
    "start_time": "2022-05-21T08:36:39.630Z"
   },
   {
    "duration": 27,
    "start_time": "2022-05-21T08:40:00.890Z"
   },
   {
    "duration": 52,
    "start_time": "2022-05-21T08:46:56.314Z"
   },
   {
    "duration": 33,
    "start_time": "2022-05-21T08:52:57.880Z"
   },
   {
    "duration": 3,
    "start_time": "2022-05-21T08:55:48.880Z"
   },
   {
    "duration": 4,
    "start_time": "2022-05-21T08:59:26.178Z"
   },
   {
    "duration": 33,
    "start_time": "2022-05-21T09:00:35.213Z"
   },
   {
    "duration": 37,
    "start_time": "2022-05-21T09:03:02.218Z"
   },
   {
    "duration": 76,
    "start_time": "2022-05-21T09:04:24.768Z"
   },
   {
    "duration": 8,
    "start_time": "2022-05-21T09:05:21.385Z"
   },
   {
    "duration": 8,
    "start_time": "2022-05-21T09:05:35.925Z"
   },
   {
    "duration": 7,
    "start_time": "2022-05-21T09:05:40.862Z"
   },
   {
    "duration": 8,
    "start_time": "2022-05-21T09:06:03.385Z"
   },
   {
    "duration": 5,
    "start_time": "2022-05-21T09:06:36.787Z"
   },
   {
    "duration": 4,
    "start_time": "2022-05-21T09:06:49.285Z"
   },
   {
    "duration": 4,
    "start_time": "2022-05-21T09:06:56.124Z"
   },
   {
    "duration": 5,
    "start_time": "2022-05-21T09:07:25.864Z"
   },
   {
    "duration": 4,
    "start_time": "2022-05-21T09:08:09.021Z"
   },
   {
    "duration": 5,
    "start_time": "2022-05-21T09:12:32.194Z"
   },
   {
    "duration": 5,
    "start_time": "2022-05-21T09:13:05.786Z"
   },
   {
    "duration": 23,
    "start_time": "2022-05-21T09:13:17.357Z"
   },
   {
    "duration": 10,
    "start_time": "2022-05-21T09:13:24.416Z"
   },
   {
    "duration": 10,
    "start_time": "2022-05-21T09:14:28.809Z"
   },
   {
    "duration": 9,
    "start_time": "2022-05-21T09:15:04.266Z"
   },
   {
    "duration": 8,
    "start_time": "2022-05-21T09:15:13.688Z"
   },
   {
    "duration": 24,
    "start_time": "2022-05-21T09:16:03.805Z"
   },
   {
    "duration": 13,
    "start_time": "2022-05-21T09:16:14.568Z"
   },
   {
    "duration": 7,
    "start_time": "2022-05-21T09:16:27.764Z"
   },
   {
    "duration": 6,
    "start_time": "2022-05-21T09:16:47.900Z"
   },
   {
    "duration": 5,
    "start_time": "2022-05-21T09:17:05.659Z"
   },
   {
    "duration": 11,
    "start_time": "2022-05-21T09:17:15.322Z"
   },
   {
    "duration": 7,
    "start_time": "2022-05-21T09:17:35.608Z"
   },
   {
    "duration": 5,
    "start_time": "2022-05-21T09:17:53.575Z"
   },
   {
    "duration": 447,
    "start_time": "2022-05-21T09:18:00.034Z"
   },
   {
    "duration": 6,
    "start_time": "2022-05-21T09:18:05.391Z"
   },
   {
    "duration": 13,
    "start_time": "2022-05-21T09:20:26.012Z"
   },
   {
    "duration": 7,
    "start_time": "2022-05-21T09:22:52.627Z"
   },
   {
    "duration": 7,
    "start_time": "2022-05-21T09:27:25.489Z"
   },
   {
    "duration": 7,
    "start_time": "2022-05-21T09:30:26.995Z"
   },
   {
    "duration": 37,
    "start_time": "2022-05-21T09:31:08.237Z"
   },
   {
    "duration": 7,
    "start_time": "2022-05-21T09:32:24.078Z"
   },
   {
    "duration": 35,
    "start_time": "2022-05-21T09:33:58.074Z"
   },
   {
    "duration": 5,
    "start_time": "2022-05-21T09:35:00.309Z"
   },
   {
    "duration": 34,
    "start_time": "2022-05-21T09:35:25.973Z"
   },
   {
    "duration": 5,
    "start_time": "2022-05-21T09:36:20.385Z"
   },
   {
    "duration": 7,
    "start_time": "2022-05-21T09:36:28.270Z"
   },
   {
    "duration": 51,
    "start_time": "2022-05-21T09:37:00.523Z"
   },
   {
    "duration": 9,
    "start_time": "2022-05-21T09:38:15.893Z"
   },
   {
    "duration": 37,
    "start_time": "2022-05-21T09:38:43.915Z"
   },
   {
    "duration": 6,
    "start_time": "2022-05-21T09:39:46.529Z"
   },
   {
    "duration": 39,
    "start_time": "2022-05-21T09:40:17.577Z"
   },
   {
    "duration": 32,
    "start_time": "2022-05-21T09:41:38.001Z"
   },
   {
    "duration": 9,
    "start_time": "2022-05-21T09:41:44.388Z"
   },
   {
    "duration": 6,
    "start_time": "2022-05-21T09:42:25.596Z"
   },
   {
    "duration": 8,
    "start_time": "2022-05-21T09:42:31.425Z"
   },
   {
    "duration": 4,
    "start_time": "2022-05-21T09:42:45.987Z"
   },
   {
    "duration": 4,
    "start_time": "2022-05-21T09:43:12.223Z"
   },
   {
    "duration": 7,
    "start_time": "2022-05-21T09:44:53.412Z"
   },
   {
    "duration": 39,
    "start_time": "2022-05-21T09:46:21.097Z"
   },
   {
    "duration": 29,
    "start_time": "2022-05-21T09:50:36.456Z"
   },
   {
    "duration": 7,
    "start_time": "2022-05-21T10:37:46.505Z"
   },
   {
    "duration": 213,
    "start_time": "2022-05-21T10:38:19.587Z"
   },
   {
    "duration": 21,
    "start_time": "2022-05-21T10:41:00.368Z"
   },
   {
    "duration": 4,
    "start_time": "2022-05-21T10:41:49.398Z"
   },
   {
    "duration": 4,
    "start_time": "2022-05-21T10:42:33.929Z"
   },
   {
    "duration": 4,
    "start_time": "2022-05-21T10:45:05.688Z"
   },
   {
    "duration": 8,
    "start_time": "2022-05-21T10:49:19.208Z"
   },
   {
    "duration": 22,
    "start_time": "2022-05-21T10:49:28.505Z"
   },
   {
    "duration": 9,
    "start_time": "2022-05-21T10:49:35.670Z"
   },
   {
    "duration": 10,
    "start_time": "2022-05-21T10:49:44.208Z"
   },
   {
    "duration": 6,
    "start_time": "2022-05-21T10:50:09.790Z"
   },
   {
    "duration": 5,
    "start_time": "2022-05-21T10:50:54.821Z"
   },
   {
    "duration": 3,
    "start_time": "2022-05-21T10:51:25.870Z"
   },
   {
    "duration": 55,
    "start_time": "2022-05-24T15:56:15.046Z"
   },
   {
    "duration": 9,
    "start_time": "2022-05-24T15:56:26.543Z"
   },
   {
    "duration": 870,
    "start_time": "2022-05-24T15:56:34.319Z"
   },
   {
    "duration": 16,
    "start_time": "2022-05-24T15:56:35.191Z"
   },
   {
    "duration": 10,
    "start_time": "2022-05-24T15:56:35.209Z"
   },
   {
    "duration": 23,
    "start_time": "2022-05-24T15:56:35.221Z"
   },
   {
    "duration": 11,
    "start_time": "2022-05-24T15:56:35.258Z"
   },
   {
    "duration": 22,
    "start_time": "2022-05-24T15:56:35.270Z"
   },
   {
    "duration": 5,
    "start_time": "2022-05-24T15:56:35.294Z"
   },
   {
    "duration": 10,
    "start_time": "2022-05-24T15:56:35.300Z"
   },
   {
    "duration": 8,
    "start_time": "2022-05-24T15:56:35.312Z"
   },
   {
    "duration": 4,
    "start_time": "2022-05-24T15:56:35.337Z"
   },
   {
    "duration": 9,
    "start_time": "2022-05-24T15:56:35.344Z"
   },
   {
    "duration": 12,
    "start_time": "2022-05-24T15:56:35.355Z"
   },
   {
    "duration": 12,
    "start_time": "2022-05-24T15:56:35.368Z"
   },
   {
    "duration": 10,
    "start_time": "2022-05-24T15:56:35.381Z"
   },
   {
    "duration": 10,
    "start_time": "2022-05-24T15:56:35.392Z"
   },
   {
    "duration": 8,
    "start_time": "2022-05-24T15:56:35.403Z"
   },
   {
    "duration": 9,
    "start_time": "2022-05-24T15:56:35.413Z"
   },
   {
    "duration": 19,
    "start_time": "2022-05-24T15:56:35.423Z"
   },
   {
    "duration": 13,
    "start_time": "2022-05-24T15:56:35.444Z"
   },
   {
    "duration": 6,
    "start_time": "2022-05-24T15:56:35.459Z"
   },
   {
    "duration": 6,
    "start_time": "2022-05-24T15:56:35.467Z"
   },
   {
    "duration": 10,
    "start_time": "2022-05-24T15:56:35.475Z"
   },
   {
    "duration": 26,
    "start_time": "2022-05-24T15:56:35.487Z"
   },
   {
    "duration": 27,
    "start_time": "2022-05-24T15:56:35.515Z"
   },
   {
    "duration": 4,
    "start_time": "2022-05-24T15:58:14.539Z"
   },
   {
    "duration": 25,
    "start_time": "2022-05-24T15:59:25.261Z"
   },
   {
    "duration": 32,
    "start_time": "2022-05-24T15:59:46.541Z"
   },
   {
    "duration": 26,
    "start_time": "2022-05-24T15:59:54.419Z"
   },
   {
    "duration": 15,
    "start_time": "2022-05-24T16:01:43.239Z"
   },
   {
    "duration": 13,
    "start_time": "2022-05-24T16:02:21.841Z"
   },
   {
    "duration": 15,
    "start_time": "2022-05-24T16:03:27.288Z"
   },
   {
    "duration": 11,
    "start_time": "2022-05-24T16:09:35.551Z"
   },
   {
    "duration": 214,
    "start_time": "2022-05-24T16:09:59.004Z"
   },
   {
    "duration": 12,
    "start_time": "2022-05-24T16:10:25.887Z"
   },
   {
    "duration": 12,
    "start_time": "2022-05-24T16:10:37.100Z"
   },
   {
    "duration": 15,
    "start_time": "2022-05-24T16:11:38.605Z"
   },
   {
    "duration": 15,
    "start_time": "2022-05-24T16:11:52.940Z"
   },
   {
    "duration": 13,
    "start_time": "2022-05-24T16:13:26.518Z"
   },
   {
    "duration": 11,
    "start_time": "2022-05-24T16:13:37.103Z"
   },
   {
    "duration": 13,
    "start_time": "2022-05-24T16:16:04.994Z"
   },
   {
    "duration": 11,
    "start_time": "2022-05-24T16:16:33.164Z"
   },
   {
    "duration": 25,
    "start_time": "2022-05-24T16:18:11.403Z"
   },
   {
    "duration": 23,
    "start_time": "2022-05-24T16:19:23.844Z"
   },
   {
    "duration": 27,
    "start_time": "2022-05-24T16:19:56.168Z"
   },
   {
    "duration": 22,
    "start_time": "2022-05-24T16:20:26.345Z"
   },
   {
    "duration": 14,
    "start_time": "2022-05-24T16:23:14.869Z"
   },
   {
    "duration": 71,
    "start_time": "2022-05-24T16:23:38.550Z"
   },
   {
    "duration": 13,
    "start_time": "2022-05-24T16:23:38.623Z"
   },
   {
    "duration": 20,
    "start_time": "2022-05-24T16:23:38.638Z"
   },
   {
    "duration": 25,
    "start_time": "2022-05-24T16:23:38.659Z"
   },
   {
    "duration": 9,
    "start_time": "2022-05-24T16:23:38.687Z"
   },
   {
    "duration": 35,
    "start_time": "2022-05-24T16:23:38.698Z"
   },
   {
    "duration": 6,
    "start_time": "2022-05-24T16:23:38.735Z"
   },
   {
    "duration": 12,
    "start_time": "2022-05-24T16:23:38.742Z"
   },
   {
    "duration": 8,
    "start_time": "2022-05-24T16:23:38.755Z"
   },
   {
    "duration": 11,
    "start_time": "2022-05-24T16:23:38.765Z"
   },
   {
    "duration": 11,
    "start_time": "2022-05-24T16:23:38.778Z"
   },
   {
    "duration": 13,
    "start_time": "2022-05-24T16:23:38.790Z"
   },
   {
    "duration": 9,
    "start_time": "2022-05-24T16:23:38.805Z"
   },
   {
    "duration": 14,
    "start_time": "2022-05-24T16:23:38.816Z"
   },
   {
    "duration": 9,
    "start_time": "2022-05-24T16:23:38.832Z"
   },
   {
    "duration": 10,
    "start_time": "2022-05-24T16:23:38.842Z"
   },
   {
    "duration": 8,
    "start_time": "2022-05-24T16:23:38.854Z"
   },
   {
    "duration": 10,
    "start_time": "2022-05-24T16:23:38.863Z"
   },
   {
    "duration": 7,
    "start_time": "2022-05-24T16:23:38.875Z"
   },
   {
    "duration": 8,
    "start_time": "2022-05-24T16:23:38.883Z"
   },
   {
    "duration": 5,
    "start_time": "2022-05-24T16:23:38.893Z"
   },
   {
    "duration": 31,
    "start_time": "2022-05-24T16:23:38.899Z"
   },
   {
    "duration": 20,
    "start_time": "2022-05-24T16:23:41.689Z"
   },
   {
    "duration": 3,
    "start_time": "2022-05-24T16:24:04.093Z"
   },
   {
    "duration": 5,
    "start_time": "2022-05-24T16:24:58.449Z"
   },
   {
    "duration": 29,
    "start_time": "2022-05-24T16:31:41.940Z"
   },
   {
    "duration": 8,
    "start_time": "2022-05-24T16:32:02.871Z"
   },
   {
    "duration": 69,
    "start_time": "2022-05-24T16:37:05.104Z"
   },
   {
    "duration": 12,
    "start_time": "2022-05-24T16:37:05.175Z"
   },
   {
    "duration": 18,
    "start_time": "2022-05-24T16:37:05.188Z"
   },
   {
    "duration": 30,
    "start_time": "2022-05-24T16:37:05.209Z"
   },
   {
    "duration": 10,
    "start_time": "2022-05-24T16:37:05.241Z"
   },
   {
    "duration": 18,
    "start_time": "2022-05-24T16:37:05.253Z"
   },
   {
    "duration": 8,
    "start_time": "2022-05-24T16:37:05.273Z"
   },
   {
    "duration": 17,
    "start_time": "2022-05-24T16:37:05.283Z"
   },
   {
    "duration": 12,
    "start_time": "2022-05-24T16:37:05.302Z"
   },
   {
    "duration": 8,
    "start_time": "2022-05-24T16:37:05.329Z"
   },
   {
    "duration": 10,
    "start_time": "2022-05-24T16:37:05.339Z"
   },
   {
    "duration": 12,
    "start_time": "2022-05-24T16:37:05.351Z"
   },
   {
    "duration": 11,
    "start_time": "2022-05-24T16:37:05.364Z"
   },
   {
    "duration": 9,
    "start_time": "2022-05-24T16:37:05.377Z"
   },
   {
    "duration": 8,
    "start_time": "2022-05-24T16:37:05.387Z"
   },
   {
    "duration": 32,
    "start_time": "2022-05-24T16:37:05.397Z"
   },
   {
    "duration": 29,
    "start_time": "2022-05-24T16:37:05.431Z"
   },
   {
    "duration": 7,
    "start_time": "2022-05-24T16:37:05.462Z"
   },
   {
    "duration": 7,
    "start_time": "2022-05-24T16:37:05.471Z"
   },
   {
    "duration": 11,
    "start_time": "2022-05-24T16:37:05.480Z"
   },
   {
    "duration": 8,
    "start_time": "2022-05-24T16:37:05.493Z"
   },
   {
    "duration": 14,
    "start_time": "2022-05-24T16:37:05.503Z"
   },
   {
    "duration": 9,
    "start_time": "2022-05-24T16:37:05.528Z"
   },
   {
    "duration": 21,
    "start_time": "2022-05-24T16:37:05.538Z"
   },
   {
    "duration": 7,
    "start_time": "2022-05-24T16:37:20.595Z"
   },
   {
    "duration": 67,
    "start_time": "2022-05-24T16:37:36.112Z"
   },
   {
    "duration": 14,
    "start_time": "2022-05-24T16:37:36.182Z"
   },
   {
    "duration": 33,
    "start_time": "2022-05-24T16:37:36.199Z"
   },
   {
    "duration": 56,
    "start_time": "2022-05-24T16:37:36.234Z"
   },
   {
    "duration": 56,
    "start_time": "2022-05-24T16:37:36.292Z"
   },
   {
    "duration": 52,
    "start_time": "2022-05-24T16:37:36.351Z"
   },
   {
    "duration": 8,
    "start_time": "2022-05-24T16:37:36.405Z"
   },
   {
    "duration": 21,
    "start_time": "2022-05-24T16:37:36.414Z"
   },
   {
    "duration": 17,
    "start_time": "2022-05-24T16:37:36.437Z"
   },
   {
    "duration": 8,
    "start_time": "2022-05-24T16:37:36.458Z"
   },
   {
    "duration": 24,
    "start_time": "2022-05-24T16:37:36.468Z"
   },
   {
    "duration": 16,
    "start_time": "2022-05-24T16:37:36.494Z"
   },
   {
    "duration": 11,
    "start_time": "2022-05-24T16:37:36.512Z"
   },
   {
    "duration": 10,
    "start_time": "2022-05-24T16:37:36.525Z"
   },
   {
    "duration": 9,
    "start_time": "2022-05-24T16:37:36.537Z"
   },
   {
    "duration": 8,
    "start_time": "2022-05-24T16:37:36.547Z"
   },
   {
    "duration": 10,
    "start_time": "2022-05-24T16:37:36.556Z"
   },
   {
    "duration": 8,
    "start_time": "2022-05-24T16:37:36.568Z"
   },
   {
    "duration": 8,
    "start_time": "2022-05-24T16:37:36.578Z"
   },
   {
    "duration": 8,
    "start_time": "2022-05-24T16:37:36.587Z"
   },
   {
    "duration": 6,
    "start_time": "2022-05-24T16:37:36.596Z"
   },
   {
    "duration": 10,
    "start_time": "2022-05-24T16:37:36.604Z"
   },
   {
    "duration": 3,
    "start_time": "2022-05-24T16:37:36.629Z"
   },
   {
    "duration": 7,
    "start_time": "2022-05-24T16:37:45.095Z"
   },
   {
    "duration": 69,
    "start_time": "2022-05-24T16:38:08.338Z"
   },
   {
    "duration": 12,
    "start_time": "2022-05-24T16:38:08.409Z"
   },
   {
    "duration": 22,
    "start_time": "2022-05-24T16:38:08.422Z"
   },
   {
    "duration": 16,
    "start_time": "2022-05-24T16:38:08.446Z"
   },
   {
    "duration": 10,
    "start_time": "2022-05-24T16:38:08.464Z"
   },
   {
    "duration": 16,
    "start_time": "2022-05-24T16:38:08.476Z"
   },
   {
    "duration": 6,
    "start_time": "2022-05-24T16:38:08.493Z"
   },
   {
    "duration": 30,
    "start_time": "2022-05-24T16:38:08.501Z"
   },
   {
    "duration": 7,
    "start_time": "2022-05-24T16:38:08.533Z"
   },
   {
    "duration": 9,
    "start_time": "2022-05-24T16:38:08.542Z"
   },
   {
    "duration": 12,
    "start_time": "2022-05-24T16:38:08.552Z"
   },
   {
    "duration": 11,
    "start_time": "2022-05-24T16:38:08.566Z"
   },
   {
    "duration": 9,
    "start_time": "2022-05-24T16:38:08.579Z"
   },
   {
    "duration": 9,
    "start_time": "2022-05-24T16:38:08.592Z"
   },
   {
    "duration": 7,
    "start_time": "2022-05-24T16:38:08.628Z"
   },
   {
    "duration": 12,
    "start_time": "2022-05-24T16:38:08.637Z"
   },
   {
    "duration": 10,
    "start_time": "2022-05-24T16:38:08.650Z"
   },
   {
    "duration": 17,
    "start_time": "2022-05-24T16:38:08.662Z"
   },
   {
    "duration": 19,
    "start_time": "2022-05-24T16:38:08.681Z"
   },
   {
    "duration": 7,
    "start_time": "2022-05-24T16:38:08.702Z"
   },
   {
    "duration": 10,
    "start_time": "2022-05-24T16:38:08.710Z"
   },
   {
    "duration": 10,
    "start_time": "2022-05-24T16:38:08.727Z"
   },
   {
    "duration": 5,
    "start_time": "2022-05-24T16:38:08.740Z"
   },
   {
    "duration": 7,
    "start_time": "2022-05-24T16:38:10.959Z"
   },
   {
    "duration": 79,
    "start_time": "2022-05-24T16:38:26.442Z"
   },
   {
    "duration": 12,
    "start_time": "2022-05-24T16:38:26.523Z"
   },
   {
    "duration": 18,
    "start_time": "2022-05-24T16:38:26.537Z"
   },
   {
    "duration": 16,
    "start_time": "2022-05-24T16:38:26.557Z"
   },
   {
    "duration": 9,
    "start_time": "2022-05-24T16:38:26.575Z"
   },
   {
    "duration": 15,
    "start_time": "2022-05-24T16:38:26.585Z"
   },
   {
    "duration": 6,
    "start_time": "2022-05-24T16:38:26.627Z"
   },
   {
    "duration": 12,
    "start_time": "2022-05-24T16:38:26.635Z"
   },
   {
    "duration": 13,
    "start_time": "2022-05-24T16:38:26.648Z"
   },
   {
    "duration": 10,
    "start_time": "2022-05-24T16:38:26.663Z"
   },
   {
    "duration": 7,
    "start_time": "2022-05-24T16:38:26.675Z"
   },
   {
    "duration": 13,
    "start_time": "2022-05-24T16:38:26.684Z"
   },
   {
    "duration": 9,
    "start_time": "2022-05-24T16:38:26.699Z"
   },
   {
    "duration": 20,
    "start_time": "2022-05-24T16:38:26.710Z"
   },
   {
    "duration": 9,
    "start_time": "2022-05-24T16:38:26.732Z"
   },
   {
    "duration": 13,
    "start_time": "2022-05-24T16:38:26.743Z"
   },
   {
    "duration": 11,
    "start_time": "2022-05-24T16:38:26.757Z"
   },
   {
    "duration": 9,
    "start_time": "2022-05-24T16:38:26.769Z"
   },
   {
    "duration": 10,
    "start_time": "2022-05-24T16:38:26.780Z"
   },
   {
    "duration": 12,
    "start_time": "2022-05-24T16:38:26.792Z"
   },
   {
    "duration": 23,
    "start_time": "2022-05-24T16:38:26.806Z"
   },
   {
    "duration": 14,
    "start_time": "2022-05-24T16:38:26.831Z"
   },
   {
    "duration": 6,
    "start_time": "2022-05-24T16:38:26.847Z"
   },
   {
    "duration": 7,
    "start_time": "2022-05-24T16:38:29.006Z"
   },
   {
    "duration": 33,
    "start_time": "2022-05-24T16:39:06.088Z"
   },
   {
    "duration": 5,
    "start_time": "2022-05-24T16:39:29.775Z"
   },
   {
    "duration": 68,
    "start_time": "2022-05-24T16:39:37.948Z"
   },
   {
    "duration": 13,
    "start_time": "2022-05-24T16:39:38.018Z"
   },
   {
    "duration": 14,
    "start_time": "2022-05-24T16:39:38.033Z"
   },
   {
    "duration": 17,
    "start_time": "2022-05-24T16:39:38.049Z"
   },
   {
    "duration": 9,
    "start_time": "2022-05-24T16:39:38.068Z"
   },
   {
    "duration": 17,
    "start_time": "2022-05-24T16:39:38.079Z"
   },
   {
    "duration": 33,
    "start_time": "2022-05-24T16:39:38.098Z"
   },
   {
    "duration": 8,
    "start_time": "2022-05-24T16:39:38.133Z"
   },
   {
    "duration": 6,
    "start_time": "2022-05-24T16:39:38.143Z"
   },
   {
    "duration": 10,
    "start_time": "2022-05-24T16:39:38.154Z"
   },
   {
    "duration": 14,
    "start_time": "2022-05-24T16:39:38.166Z"
   },
   {
    "duration": 10,
    "start_time": "2022-05-24T16:39:38.182Z"
   },
   {
    "duration": 33,
    "start_time": "2022-05-24T16:39:38.194Z"
   },
   {
    "duration": 8,
    "start_time": "2022-05-24T16:39:38.229Z"
   },
   {
    "duration": 9,
    "start_time": "2022-05-24T16:39:38.240Z"
   },
   {
    "duration": 9,
    "start_time": "2022-05-24T16:39:38.251Z"
   },
   {
    "duration": 11,
    "start_time": "2022-05-24T16:39:38.262Z"
   },
   {
    "duration": 8,
    "start_time": "2022-05-24T16:39:38.274Z"
   },
   {
    "duration": 10,
    "start_time": "2022-05-24T16:39:38.283Z"
   },
   {
    "duration": 37,
    "start_time": "2022-05-24T16:39:38.295Z"
   },
   {
    "duration": 9,
    "start_time": "2022-05-24T16:39:38.334Z"
   },
   {
    "duration": 12,
    "start_time": "2022-05-24T16:39:38.344Z"
   },
   {
    "duration": 7,
    "start_time": "2022-05-24T16:39:38.358Z"
   },
   {
    "duration": 44,
    "start_time": "2022-05-24T16:39:38.367Z"
   },
   {
    "duration": 69,
    "start_time": "2022-05-24T16:52:10.836Z"
   },
   {
    "duration": 12,
    "start_time": "2022-05-24T16:52:10.907Z"
   },
   {
    "duration": 13,
    "start_time": "2022-05-24T16:52:10.920Z"
   },
   {
    "duration": 15,
    "start_time": "2022-05-24T16:52:10.935Z"
   },
   {
    "duration": 9,
    "start_time": "2022-05-24T16:52:10.952Z"
   },
   {
    "duration": 15,
    "start_time": "2022-05-24T16:52:10.963Z"
   },
   {
    "duration": 5,
    "start_time": "2022-05-24T16:52:10.979Z"
   },
   {
    "duration": 14,
    "start_time": "2022-05-24T16:52:10.986Z"
   },
   {
    "duration": 28,
    "start_time": "2022-05-24T16:52:11.002Z"
   },
   {
    "duration": 7,
    "start_time": "2022-05-24T16:52:11.031Z"
   },
   {
    "duration": 7,
    "start_time": "2022-05-24T16:52:11.040Z"
   },
   {
    "duration": 12,
    "start_time": "2022-05-24T16:52:11.049Z"
   },
   {
    "duration": 6,
    "start_time": "2022-05-24T16:52:11.063Z"
   },
   {
    "duration": 10,
    "start_time": "2022-05-24T16:52:11.071Z"
   },
   {
    "duration": 7,
    "start_time": "2022-05-24T16:52:11.083Z"
   },
   {
    "duration": 8,
    "start_time": "2022-05-24T16:52:11.092Z"
   },
   {
    "duration": 26,
    "start_time": "2022-05-24T16:52:11.102Z"
   },
   {
    "duration": 11,
    "start_time": "2022-05-24T16:52:11.129Z"
   },
   {
    "duration": 5,
    "start_time": "2022-05-24T16:52:11.142Z"
   },
   {
    "duration": 6,
    "start_time": "2022-05-24T16:52:11.149Z"
   },
   {
    "duration": 6,
    "start_time": "2022-05-24T16:52:11.156Z"
   },
   {
    "duration": 7,
    "start_time": "2022-05-24T16:52:11.164Z"
   },
   {
    "duration": 6,
    "start_time": "2022-05-24T16:52:13.779Z"
   },
   {
    "duration": 20,
    "start_time": "2022-05-24T16:52:39.387Z"
   },
   {
    "duration": 10,
    "start_time": "2022-05-24T16:54:30.032Z"
   },
   {
    "duration": 8,
    "start_time": "2022-05-24T16:54:38.411Z"
   },
   {
    "duration": 8,
    "start_time": "2022-05-24T16:54:50.971Z"
   },
   {
    "duration": 22,
    "start_time": "2022-05-24T16:56:56.020Z"
   },
   {
    "duration": 32,
    "start_time": "2022-05-24T16:58:10.109Z"
   },
   {
    "duration": 71,
    "start_time": "2022-05-24T17:01:13.394Z"
   },
   {
    "duration": 13,
    "start_time": "2022-05-24T17:01:13.468Z"
   },
   {
    "duration": 15,
    "start_time": "2022-05-24T17:01:13.483Z"
   },
   {
    "duration": 38,
    "start_time": "2022-05-24T17:01:13.500Z"
   },
   {
    "duration": 10,
    "start_time": "2022-05-24T17:01:13.540Z"
   },
   {
    "duration": 22,
    "start_time": "2022-05-24T17:01:13.551Z"
   },
   {
    "duration": 7,
    "start_time": "2022-05-24T17:01:13.578Z"
   },
   {
    "duration": 10,
    "start_time": "2022-05-24T17:01:13.587Z"
   },
   {
    "duration": 37,
    "start_time": "2022-05-24T17:01:13.599Z"
   },
   {
    "duration": 6,
    "start_time": "2022-05-24T17:01:13.639Z"
   },
   {
    "duration": 10,
    "start_time": "2022-05-24T17:01:13.647Z"
   },
   {
    "duration": 9,
    "start_time": "2022-05-24T17:01:13.659Z"
   },
   {
    "duration": 13,
    "start_time": "2022-05-24T17:01:13.670Z"
   },
   {
    "duration": 22,
    "start_time": "2022-05-24T17:01:13.685Z"
   },
   {
    "duration": 16,
    "start_time": "2022-05-24T17:01:13.709Z"
   },
   {
    "duration": 10,
    "start_time": "2022-05-24T17:01:13.728Z"
   },
   {
    "duration": 13,
    "start_time": "2022-05-24T17:01:13.740Z"
   },
   {
    "duration": 8,
    "start_time": "2022-05-24T17:01:13.755Z"
   },
   {
    "duration": 13,
    "start_time": "2022-05-24T17:01:13.764Z"
   },
   {
    "duration": 9,
    "start_time": "2022-05-24T17:01:13.779Z"
   },
   {
    "duration": 8,
    "start_time": "2022-05-24T17:01:13.789Z"
   },
   {
    "duration": 32,
    "start_time": "2022-05-24T17:01:13.799Z"
   },
   {
    "duration": 12,
    "start_time": "2022-05-24T17:01:13.833Z"
   },
   {
    "duration": 33,
    "start_time": "2022-05-24T17:01:17.149Z"
   },
   {
    "duration": 8,
    "start_time": "2022-05-24T17:02:27.081Z"
   },
   {
    "duration": 19,
    "start_time": "2022-05-24T17:04:51.501Z"
   },
   {
    "duration": 19,
    "start_time": "2022-05-24T17:04:56.313Z"
   },
   {
    "duration": 13,
    "start_time": "2022-05-24T17:06:00.244Z"
   },
   {
    "duration": 441,
    "start_time": "2022-05-24T17:06:09.340Z"
   },
   {
    "duration": 11,
    "start_time": "2022-05-24T17:06:37.959Z"
   },
   {
    "duration": 8,
    "start_time": "2022-05-24T17:06:45.049Z"
   },
   {
    "duration": 11,
    "start_time": "2022-05-24T17:07:00.519Z"
   },
   {
    "duration": 7,
    "start_time": "2022-05-24T17:12:13.124Z"
   },
   {
    "duration": 9,
    "start_time": "2022-05-24T17:12:15.946Z"
   },
   {
    "duration": 31,
    "start_time": "2022-05-24T17:13:30.141Z"
   },
   {
    "duration": 23,
    "start_time": "2022-05-24T17:14:26.112Z"
   },
   {
    "duration": 5,
    "start_time": "2022-05-24T17:15:21.822Z"
   },
   {
    "duration": 5,
    "start_time": "2022-05-24T17:15:36.698Z"
   },
   {
    "duration": 4,
    "start_time": "2022-05-24T17:15:52.614Z"
   },
   {
    "duration": 6,
    "start_time": "2022-05-24T17:16:16.516Z"
   },
   {
    "duration": 8,
    "start_time": "2022-05-24T17:16:39.571Z"
   },
   {
    "duration": 22,
    "start_time": "2022-05-24T17:28:45.957Z"
   },
   {
    "duration": 10,
    "start_time": "2022-05-24T17:28:55.909Z"
   },
   {
    "duration": 15,
    "start_time": "2022-05-24T17:31:25.980Z"
   },
   {
    "duration": 8,
    "start_time": "2022-05-24T17:32:51.981Z"
   },
   {
    "duration": 408,
    "start_time": "2022-05-24T17:34:43.669Z"
   },
   {
    "duration": 464,
    "start_time": "2022-05-24T17:34:50.748Z"
   },
   {
    "duration": 20,
    "start_time": "2022-05-24T17:35:00.503Z"
   },
   {
    "duration": 9,
    "start_time": "2022-05-24T17:37:06.703Z"
   },
   {
    "duration": 6,
    "start_time": "2022-05-24T17:37:34.485Z"
   },
   {
    "duration": 1368,
    "start_time": "2022-05-24T18:00:28.859Z"
   },
   {
    "duration": 6,
    "start_time": "2022-05-24T18:00:30.563Z"
   },
   {
    "duration": 25,
    "start_time": "2022-05-24T18:00:56.719Z"
   },
   {
    "duration": 7,
    "start_time": "2022-05-24T18:00:58.781Z"
   },
   {
    "duration": 5,
    "start_time": "2022-05-24T18:05:44.447Z"
   },
   {
    "duration": 29,
    "start_time": "2022-05-24T18:06:32.218Z"
   },
   {
    "duration": 72,
    "start_time": "2022-05-24T18:08:12.823Z"
   },
   {
    "duration": 16,
    "start_time": "2022-05-24T18:08:12.897Z"
   },
   {
    "duration": 18,
    "start_time": "2022-05-24T18:08:12.915Z"
   },
   {
    "duration": 17,
    "start_time": "2022-05-24T18:08:12.935Z"
   },
   {
    "duration": 9,
    "start_time": "2022-05-24T18:08:12.954Z"
   },
   {
    "duration": 19,
    "start_time": "2022-05-24T18:08:12.965Z"
   },
   {
    "duration": 5,
    "start_time": "2022-05-24T18:08:12.986Z"
   },
   {
    "duration": 11,
    "start_time": "2022-05-24T18:08:12.992Z"
   },
   {
    "duration": 3,
    "start_time": "2022-05-24T18:08:13.027Z"
   },
   {
    "duration": 4,
    "start_time": "2022-05-24T18:08:13.033Z"
   },
   {
    "duration": 10,
    "start_time": "2022-05-24T18:08:13.038Z"
   },
   {
    "duration": 12,
    "start_time": "2022-05-24T18:08:13.049Z"
   },
   {
    "duration": 15,
    "start_time": "2022-05-24T18:08:13.063Z"
   },
   {
    "duration": 11,
    "start_time": "2022-05-24T18:08:13.079Z"
   },
   {
    "duration": 7,
    "start_time": "2022-05-24T18:08:13.091Z"
   },
   {
    "duration": 29,
    "start_time": "2022-05-24T18:08:13.099Z"
   },
   {
    "duration": 10,
    "start_time": "2022-05-24T18:08:13.130Z"
   },
   {
    "duration": 10,
    "start_time": "2022-05-24T18:08:13.141Z"
   },
   {
    "duration": 10,
    "start_time": "2022-05-24T18:08:13.153Z"
   },
   {
    "duration": 8,
    "start_time": "2022-05-24T18:08:13.164Z"
   },
   {
    "duration": 9,
    "start_time": "2022-05-24T18:08:13.173Z"
   },
   {
    "duration": 10,
    "start_time": "2022-05-24T18:08:13.184Z"
   },
   {
    "duration": 10,
    "start_time": "2022-05-24T18:08:13.195Z"
   },
   {
    "duration": 53,
    "start_time": "2022-05-24T18:08:13.207Z"
   },
   {
    "duration": 9,
    "start_time": "2022-05-24T18:08:13.262Z"
   },
   {
    "duration": 17,
    "start_time": "2022-05-24T18:08:13.273Z"
   },
   {
    "duration": 16,
    "start_time": "2022-05-24T18:08:13.292Z"
   },
   {
    "duration": 16,
    "start_time": "2022-05-24T18:08:13.312Z"
   },
   {
    "duration": 9,
    "start_time": "2022-05-24T18:08:13.329Z"
   },
   {
    "duration": 41,
    "start_time": "2022-05-24T18:08:13.339Z"
   },
   {
    "duration": 29,
    "start_time": "2022-05-24T18:08:13.382Z"
   },
   {
    "duration": 22,
    "start_time": "2022-05-24T18:08:16.279Z"
   },
   {
    "duration": 6,
    "start_time": "2022-05-24T18:08:19.655Z"
   },
   {
    "duration": 4,
    "start_time": "2022-05-24T18:08:24.520Z"
   },
   {
    "duration": 29,
    "start_time": "2022-05-24T18:08:27.813Z"
   },
   {
    "duration": 79,
    "start_time": "2022-05-24T18:13:49.898Z"
   },
   {
    "duration": 11,
    "start_time": "2022-05-24T18:13:49.979Z"
   },
   {
    "duration": 15,
    "start_time": "2022-05-24T18:13:49.991Z"
   },
   {
    "duration": 37,
    "start_time": "2022-05-24T18:13:50.008Z"
   },
   {
    "duration": 9,
    "start_time": "2022-05-24T18:13:50.047Z"
   },
   {
    "duration": 15,
    "start_time": "2022-05-24T18:13:50.058Z"
   },
   {
    "duration": 5,
    "start_time": "2022-05-24T18:13:50.075Z"
   },
   {
    "duration": 18,
    "start_time": "2022-05-24T18:13:50.081Z"
   },
   {
    "duration": 27,
    "start_time": "2022-05-24T18:13:50.101Z"
   },
   {
    "duration": 22,
    "start_time": "2022-05-24T18:13:50.131Z"
   },
   {
    "duration": 10,
    "start_time": "2022-05-24T18:13:50.154Z"
   },
   {
    "duration": 8,
    "start_time": "2022-05-24T18:13:50.166Z"
   },
   {
    "duration": 10,
    "start_time": "2022-05-24T18:13:50.176Z"
   },
   {
    "duration": 9,
    "start_time": "2022-05-24T18:13:50.187Z"
   },
   {
    "duration": 9,
    "start_time": "2022-05-24T18:13:50.198Z"
   },
   {
    "duration": 9,
    "start_time": "2022-05-24T18:13:50.209Z"
   },
   {
    "duration": 9,
    "start_time": "2022-05-24T18:13:50.226Z"
   },
   {
    "duration": 21,
    "start_time": "2022-05-24T18:13:50.237Z"
   },
   {
    "duration": 9,
    "start_time": "2022-05-24T18:13:50.260Z"
   },
   {
    "duration": 9,
    "start_time": "2022-05-24T18:13:50.271Z"
   },
   {
    "duration": 7,
    "start_time": "2022-05-24T18:13:50.282Z"
   },
   {
    "duration": 10,
    "start_time": "2022-05-24T18:13:50.291Z"
   },
   {
    "duration": 9,
    "start_time": "2022-05-24T18:13:50.302Z"
   },
   {
    "duration": 37,
    "start_time": "2022-05-24T18:13:50.326Z"
   },
   {
    "duration": 8,
    "start_time": "2022-05-24T18:13:50.365Z"
   },
   {
    "duration": 16,
    "start_time": "2022-05-24T18:13:50.374Z"
   },
   {
    "duration": 6,
    "start_time": "2022-05-24T18:13:50.392Z"
   },
   {
    "duration": 4,
    "start_time": "2022-05-24T18:13:50.400Z"
   },
   {
    "duration": 25,
    "start_time": "2022-05-24T18:13:50.406Z"
   },
   {
    "duration": 21,
    "start_time": "2022-05-24T18:13:50.435Z"
   },
   {
    "duration": 11,
    "start_time": "2022-05-24T18:13:50.457Z"
   },
   {
    "duration": 15,
    "start_time": "2022-05-24T18:13:50.469Z"
   },
   {
    "duration": 0,
    "start_time": "2022-05-24T18:13:50.485Z"
   },
   {
    "duration": 0,
    "start_time": "2022-05-24T18:13:50.487Z"
   },
   {
    "duration": 0,
    "start_time": "2022-05-24T18:13:50.488Z"
   },
   {
    "duration": 0,
    "start_time": "2022-05-24T18:13:50.489Z"
   },
   {
    "duration": 0,
    "start_time": "2022-05-24T18:13:50.492Z"
   },
   {
    "duration": 19,
    "start_time": "2022-05-24T18:19:40.171Z"
   },
   {
    "duration": 9,
    "start_time": "2022-05-24T18:20:02.274Z"
   },
   {
    "duration": 22,
    "start_time": "2022-05-24T18:20:14.879Z"
   },
   {
    "duration": 21,
    "start_time": "2022-05-24T18:22:12.282Z"
   },
   {
    "duration": 31,
    "start_time": "2022-05-24T18:23:16.248Z"
   },
   {
    "duration": 31,
    "start_time": "2022-05-24T18:23:18.024Z"
   },
   {
    "duration": 25,
    "start_time": "2022-05-24T18:24:01.984Z"
   },
   {
    "duration": 37,
    "start_time": "2022-05-24T18:24:05.125Z"
   },
   {
    "duration": 32,
    "start_time": "2022-05-24T18:25:31.490Z"
   },
   {
    "duration": 21,
    "start_time": "2022-05-24T18:25:34.107Z"
   },
   {
    "duration": 32,
    "start_time": "2022-05-24T18:27:55.818Z"
   },
   {
    "duration": 34,
    "start_time": "2022-05-24T18:28:03.125Z"
   },
   {
    "duration": 24,
    "start_time": "2022-05-24T18:28:04.626Z"
   },
   {
    "duration": 19,
    "start_time": "2022-05-24T18:28:37.098Z"
   },
   {
    "duration": 27,
    "start_time": "2022-05-24T18:28:46.104Z"
   },
   {
    "duration": 19,
    "start_time": "2022-05-24T18:29:22.161Z"
   },
   {
    "duration": 20,
    "start_time": "2022-05-24T18:29:57.486Z"
   },
   {
    "duration": 25,
    "start_time": "2022-05-24T18:30:47.179Z"
   },
   {
    "duration": 20,
    "start_time": "2022-05-24T18:30:49.643Z"
   },
   {
    "duration": 25,
    "start_time": "2022-05-24T18:31:10.077Z"
   },
   {
    "duration": 9,
    "start_time": "2022-05-24T18:31:12.211Z"
   },
   {
    "duration": 5,
    "start_time": "2022-05-24T18:31:27.295Z"
   },
   {
    "duration": 7,
    "start_time": "2022-05-24T18:32:25.894Z"
   },
   {
    "duration": 5,
    "start_time": "2022-05-24T18:32:42.490Z"
   },
   {
    "duration": 8,
    "start_time": "2022-05-24T18:40:16.259Z"
   },
   {
    "duration": 7,
    "start_time": "2022-05-24T18:40:48.131Z"
   },
   {
    "duration": 4,
    "start_time": "2022-05-24T18:42:33.267Z"
   },
   {
    "duration": 4,
    "start_time": "2022-05-24T18:42:50.403Z"
   },
   {
    "duration": 7,
    "start_time": "2022-05-24T18:45:53.426Z"
   },
   {
    "duration": 8,
    "start_time": "2022-05-24T18:45:55.448Z"
   },
   {
    "duration": 5,
    "start_time": "2022-05-24T18:45:56.159Z"
   },
   {
    "duration": 13,
    "start_time": "2022-05-24T18:46:34.254Z"
   },
   {
    "duration": 4,
    "start_time": "2022-05-24T18:46:44.287Z"
   },
   {
    "duration": 23,
    "start_time": "2022-05-24T18:47:52.336Z"
   },
   {
    "duration": 8,
    "start_time": "2022-05-24T18:49:09.913Z"
   },
   {
    "duration": 4,
    "start_time": "2022-05-24T18:49:12.709Z"
   },
   {
    "duration": 5,
    "start_time": "2022-05-24T18:49:29.003Z"
   },
   {
    "duration": 6,
    "start_time": "2022-05-24T18:51:44.305Z"
   },
   {
    "duration": 4,
    "start_time": "2022-05-24T18:52:16.474Z"
   },
   {
    "duration": 4,
    "start_time": "2022-05-24T18:52:27.831Z"
   },
   {
    "duration": 5,
    "start_time": "2022-05-24T18:52:40.155Z"
   },
   {
    "duration": 5,
    "start_time": "2022-05-24T18:52:50.731Z"
   },
   {
    "duration": 6,
    "start_time": "2022-05-24T18:53:08.977Z"
   },
   {
    "duration": 7,
    "start_time": "2022-05-24T18:54:53.585Z"
   },
   {
    "duration": 5,
    "start_time": "2022-05-24T18:56:25.789Z"
   },
   {
    "duration": 4,
    "start_time": "2022-05-24T18:56:30.513Z"
   },
   {
    "duration": 6,
    "start_time": "2022-05-24T18:57:52.517Z"
   },
   {
    "duration": 4,
    "start_time": "2022-05-24T18:58:37.538Z"
   },
   {
    "duration": 5,
    "start_time": "2022-05-24T18:58:44.043Z"
   },
   {
    "duration": 2,
    "start_time": "2022-05-24T19:00:50.332Z"
   },
   {
    "duration": 9,
    "start_time": "2022-05-24T19:01:05.613Z"
   },
   {
    "duration": 7,
    "start_time": "2022-05-24T19:04:05.812Z"
   },
   {
    "duration": 8,
    "start_time": "2022-05-24T19:05:17.941Z"
   },
   {
    "duration": 8,
    "start_time": "2022-05-24T19:06:54.630Z"
   },
   {
    "duration": 11,
    "start_time": "2022-05-24T19:07:30.019Z"
   },
   {
    "duration": 11,
    "start_time": "2022-05-24T19:07:36.086Z"
   },
   {
    "duration": 562,
    "start_time": "2022-05-24T19:08:02.322Z"
   },
   {
    "duration": 543,
    "start_time": "2022-05-24T19:08:06.927Z"
   },
   {
    "duration": 8,
    "start_time": "2022-05-24T19:08:13.538Z"
   },
   {
    "duration": 7,
    "start_time": "2022-05-24T19:09:26.899Z"
   },
   {
    "duration": 6,
    "start_time": "2022-05-24T19:09:40.818Z"
   },
   {
    "duration": 8,
    "start_time": "2022-05-24T19:09:53.856Z"
   },
   {
    "duration": 7,
    "start_time": "2022-05-24T19:10:20.778Z"
   },
   {
    "duration": 22,
    "start_time": "2022-05-24T19:13:21.299Z"
   },
   {
    "duration": 6,
    "start_time": "2022-05-24T19:17:50.547Z"
   },
   {
    "duration": 35,
    "start_time": "2022-05-24T19:18:37.698Z"
   },
   {
    "duration": 7,
    "start_time": "2022-05-24T19:18:54.436Z"
   },
   {
    "duration": 7,
    "start_time": "2022-05-24T19:19:08.931Z"
   },
   {
    "duration": 42,
    "start_time": "2022-05-24T19:19:37.303Z"
   },
   {
    "duration": 5,
    "start_time": "2022-05-24T19:19:57.403Z"
   },
   {
    "duration": 8,
    "start_time": "2022-05-24T19:20:21.298Z"
   },
   {
    "duration": 8,
    "start_time": "2022-05-24T19:21:32.992Z"
   },
   {
    "duration": 92,
    "start_time": "2022-05-27T10:30:36.916Z"
   },
   {
    "duration": 1060,
    "start_time": "2022-05-27T10:30:54.975Z"
   },
   {
    "duration": 25,
    "start_time": "2022-05-27T10:30:56.037Z"
   },
   {
    "duration": 25,
    "start_time": "2022-05-27T10:30:56.064Z"
   },
   {
    "duration": 35,
    "start_time": "2022-05-27T10:30:56.092Z"
   },
   {
    "duration": 16,
    "start_time": "2022-05-27T10:30:56.129Z"
   },
   {
    "duration": 40,
    "start_time": "2022-05-27T10:30:56.147Z"
   },
   {
    "duration": 7,
    "start_time": "2022-05-27T10:30:56.189Z"
   },
   {
    "duration": 21,
    "start_time": "2022-05-27T10:30:56.198Z"
   },
   {
    "duration": 11,
    "start_time": "2022-05-27T10:30:56.220Z"
   },
   {
    "duration": 20,
    "start_time": "2022-05-27T10:30:56.234Z"
   },
   {
    "duration": 20,
    "start_time": "2022-05-27T10:30:56.264Z"
   },
   {
    "duration": 23,
    "start_time": "2022-05-27T10:30:56.286Z"
   },
   {
    "duration": 16,
    "start_time": "2022-05-27T10:30:56.311Z"
   },
   {
    "duration": 19,
    "start_time": "2022-05-27T10:30:56.330Z"
   },
   {
    "duration": 22,
    "start_time": "2022-05-27T10:30:56.351Z"
   },
   {
    "duration": 23,
    "start_time": "2022-05-27T10:30:56.375Z"
   },
   {
    "duration": 18,
    "start_time": "2022-05-27T10:30:56.400Z"
   },
   {
    "duration": 11,
    "start_time": "2022-05-27T10:30:56.420Z"
   },
   {
    "duration": 24,
    "start_time": "2022-05-27T10:30:56.433Z"
   },
   {
    "duration": 16,
    "start_time": "2022-05-27T10:30:56.459Z"
   },
   {
    "duration": 26,
    "start_time": "2022-05-27T10:30:56.478Z"
   },
   {
    "duration": 19,
    "start_time": "2022-05-27T10:30:56.506Z"
   },
   {
    "duration": 58,
    "start_time": "2022-05-27T10:30:56.527Z"
   },
   {
    "duration": 26,
    "start_time": "2022-05-27T10:30:56.587Z"
   },
   {
    "duration": 11,
    "start_time": "2022-05-27T10:30:56.615Z"
   },
   {
    "duration": 12,
    "start_time": "2022-05-27T10:30:56.628Z"
   },
   {
    "duration": 5,
    "start_time": "2022-05-27T10:30:56.642Z"
   },
   {
    "duration": 15,
    "start_time": "2022-05-27T10:30:56.650Z"
   },
   {
    "duration": 13,
    "start_time": "2022-05-27T10:30:56.667Z"
   },
   {
    "duration": 11,
    "start_time": "2022-05-27T10:30:56.682Z"
   },
   {
    "duration": 26,
    "start_time": "2022-05-27T10:30:56.694Z"
   },
   {
    "duration": 6,
    "start_time": "2022-05-27T10:30:56.722Z"
   },
   {
    "duration": 5,
    "start_time": "2022-05-27T10:30:56.730Z"
   },
   {
    "duration": 29,
    "start_time": "2022-05-27T10:30:56.764Z"
   },
   {
    "duration": 8,
    "start_time": "2022-05-27T10:30:56.795Z"
   },
   {
    "duration": 7,
    "start_time": "2022-05-27T10:30:56.805Z"
   },
   {
    "duration": 8,
    "start_time": "2022-05-27T10:30:56.814Z"
   },
   {
    "duration": 43,
    "start_time": "2022-05-27T10:30:56.824Z"
   },
   {
    "duration": 12,
    "start_time": "2022-05-27T10:30:56.870Z"
   },
   {
    "duration": 4,
    "start_time": "2022-05-27T10:30:56.884Z"
   },
   {
    "duration": 4,
    "start_time": "2022-05-27T10:31:57.558Z"
   },
   {
    "duration": 5,
    "start_time": "2022-05-27T10:32:08.182Z"
   },
   {
    "duration": 16,
    "start_time": "2022-05-27T10:34:28.601Z"
   },
   {
    "duration": 7,
    "start_time": "2022-05-27T10:38:31.883Z"
   },
   {
    "duration": 8,
    "start_time": "2022-05-27T10:39:15.748Z"
   },
   {
    "duration": 28,
    "start_time": "2022-05-27T10:39:36.549Z"
   },
   {
    "duration": 8,
    "start_time": "2022-05-27T10:40:09.241Z"
   },
   {
    "duration": 20,
    "start_time": "2022-05-27T10:40:11.749Z"
   },
   {
    "duration": 51,
    "start_time": "2022-05-27T10:41:31.306Z"
   },
   {
    "duration": 28,
    "start_time": "2022-05-27T10:41:52.684Z"
   },
   {
    "duration": 43,
    "start_time": "2022-05-27T10:53:16.158Z"
   },
   {
    "duration": 246,
    "start_time": "2022-05-27T10:53:47.494Z"
   },
   {
    "duration": 14,
    "start_time": "2022-05-27T10:54:26.671Z"
   },
   {
    "duration": 40,
    "start_time": "2022-05-27T10:55:03.217Z"
   },
   {
    "duration": 28,
    "start_time": "2022-05-27T10:55:14.408Z"
   },
   {
    "duration": 14,
    "start_time": "2022-05-27T10:56:46.249Z"
   },
   {
    "duration": 6,
    "start_time": "2022-05-27T10:56:55.918Z"
   },
   {
    "duration": 8,
    "start_time": "2022-05-27T10:57:35.054Z"
   },
   {
    "duration": 20,
    "start_time": "2022-05-27T11:50:02.415Z"
   },
   {
    "duration": 78,
    "start_time": "2022-05-27T12:08:56.048Z"
   },
   {
    "duration": 12,
    "start_time": "2022-05-27T12:08:56.128Z"
   },
   {
    "duration": 27,
    "start_time": "2022-05-27T12:08:56.142Z"
   },
   {
    "duration": 18,
    "start_time": "2022-05-27T12:08:56.171Z"
   },
   {
    "duration": 10,
    "start_time": "2022-05-27T12:08:56.191Z"
   },
   {
    "duration": 18,
    "start_time": "2022-05-27T12:08:56.202Z"
   },
   {
    "duration": 5,
    "start_time": "2022-05-27T12:08:56.222Z"
   },
   {
    "duration": 41,
    "start_time": "2022-05-27T12:08:56.228Z"
   },
   {
    "duration": 7,
    "start_time": "2022-05-27T12:08:56.270Z"
   },
   {
    "duration": 6,
    "start_time": "2022-05-27T12:08:56.278Z"
   },
   {
    "duration": 9,
    "start_time": "2022-05-27T12:08:56.286Z"
   },
   {
    "duration": 8,
    "start_time": "2022-05-27T12:08:56.297Z"
   },
   {
    "duration": 14,
    "start_time": "2022-05-27T12:08:56.306Z"
   },
   {
    "duration": 7,
    "start_time": "2022-05-27T12:08:56.324Z"
   },
   {
    "duration": 7,
    "start_time": "2022-05-27T12:08:56.365Z"
   },
   {
    "duration": 8,
    "start_time": "2022-05-27T12:08:56.374Z"
   },
   {
    "duration": 7,
    "start_time": "2022-05-27T12:08:56.384Z"
   },
   {
    "duration": 6,
    "start_time": "2022-05-27T12:08:56.393Z"
   },
   {
    "duration": 7,
    "start_time": "2022-05-27T12:08:56.401Z"
   },
   {
    "duration": 7,
    "start_time": "2022-05-27T12:08:56.409Z"
   },
   {
    "duration": 9,
    "start_time": "2022-05-27T12:08:56.417Z"
   },
   {
    "duration": 41,
    "start_time": "2022-05-27T12:08:56.428Z"
   },
   {
    "duration": 33,
    "start_time": "2022-05-27T12:08:56.471Z"
   },
   {
    "duration": 8,
    "start_time": "2022-05-27T12:08:56.506Z"
   },
   {
    "duration": 13,
    "start_time": "2022-05-27T12:08:56.515Z"
   },
   {
    "duration": 36,
    "start_time": "2022-05-27T12:08:56.530Z"
   },
   {
    "duration": 7,
    "start_time": "2022-05-27T12:08:56.568Z"
   },
   {
    "duration": 30,
    "start_time": "2022-05-27T12:08:56.576Z"
   },
   {
    "duration": 25,
    "start_time": "2022-05-27T12:08:56.608Z"
   },
   {
    "duration": 14,
    "start_time": "2022-05-27T12:08:56.636Z"
   },
   {
    "duration": 41,
    "start_time": "2022-05-27T12:08:56.652Z"
   },
   {
    "duration": 7,
    "start_time": "2022-05-27T12:08:56.695Z"
   },
   {
    "duration": 26,
    "start_time": "2022-05-27T12:08:56.703Z"
   },
   {
    "duration": 48,
    "start_time": "2022-05-27T12:08:56.731Z"
   },
   {
    "duration": 6,
    "start_time": "2022-05-27T12:08:56.781Z"
   },
   {
    "duration": 8,
    "start_time": "2022-05-27T12:08:56.788Z"
   },
   {
    "duration": 21,
    "start_time": "2022-05-27T12:08:56.797Z"
   },
   {
    "duration": 5,
    "start_time": "2022-05-27T12:08:56.820Z"
   },
   {
    "duration": 16,
    "start_time": "2022-05-27T12:08:56.827Z"
   },
   {
    "duration": 6,
    "start_time": "2022-05-27T12:08:56.845Z"
   },
   {
    "duration": 5,
    "start_time": "2022-05-27T12:08:56.867Z"
   },
   {
    "duration": 23,
    "start_time": "2022-05-27T12:08:56.873Z"
   },
   {
    "duration": 5,
    "start_time": "2022-05-27T12:08:56.898Z"
   },
   {
    "duration": 16,
    "start_time": "2022-05-27T12:08:56.905Z"
   },
   {
    "duration": 54,
    "start_time": "2022-05-27T12:08:56.923Z"
   },
   {
    "duration": 19,
    "start_time": "2022-05-27T12:08:56.980Z"
   },
   {
    "duration": 11,
    "start_time": "2022-05-27T12:08:57.001Z"
   },
   {
    "duration": 7,
    "start_time": "2022-05-27T12:08:57.014Z"
   },
   {
    "duration": 8,
    "start_time": "2022-05-27T12:08:57.022Z"
   },
   {
    "duration": 45,
    "start_time": "2022-05-27T12:08:57.032Z"
   },
   {
    "duration": 9,
    "start_time": "2022-05-27T12:08:57.078Z"
   },
   {
    "duration": 15,
    "start_time": "2022-05-27T12:08:57.089Z"
   },
   {
    "duration": 4,
    "start_time": "2022-05-27T12:19:58.011Z"
   },
   {
    "duration": 130,
    "start_time": "2022-05-27T12:21:20.319Z"
   },
   {
    "duration": 17,
    "start_time": "2022-05-27T12:24:29.892Z"
   },
   {
    "duration": 14,
    "start_time": "2022-05-27T12:24:48.680Z"
   },
   {
    "duration": 10,
    "start_time": "2022-05-27T12:26:44.792Z"
   },
   {
    "duration": 23,
    "start_time": "2022-05-27T12:26:59.048Z"
   },
   {
    "duration": 15,
    "start_time": "2022-05-27T12:28:15.381Z"
   },
   {
    "duration": 16,
    "start_time": "2022-05-27T12:28:20.674Z"
   },
   {
    "duration": 15,
    "start_time": "2022-05-27T12:28:57.911Z"
   },
   {
    "duration": 16,
    "start_time": "2022-05-27T12:28:59.880Z"
   },
   {
    "duration": 19,
    "start_time": "2022-05-27T12:30:13.622Z"
   },
   {
    "duration": 16,
    "start_time": "2022-05-27T12:30:16.524Z"
   },
   {
    "duration": 15,
    "start_time": "2022-05-27T12:30:53.202Z"
   },
   {
    "duration": 16,
    "start_time": "2022-05-27T12:30:56.252Z"
   },
   {
    "duration": 6,
    "start_time": "2022-05-27T12:39:09.199Z"
   },
   {
    "duration": 17,
    "start_time": "2022-05-27T12:39:14.780Z"
   },
   {
    "duration": 18,
    "start_time": "2022-05-27T12:39:59.419Z"
   },
   {
    "duration": 16,
    "start_time": "2022-05-27T12:40:09.995Z"
   },
   {
    "duration": 4,
    "start_time": "2022-05-27T12:43:03.359Z"
   },
   {
    "duration": 7,
    "start_time": "2022-05-27T12:43:23.082Z"
   },
   {
    "duration": 13,
    "start_time": "2022-05-27T13:10:04.180Z"
   },
   {
    "duration": 7,
    "start_time": "2022-05-27T13:10:28.265Z"
   },
   {
    "duration": 14,
    "start_time": "2022-05-27T13:10:35.622Z"
   },
   {
    "duration": 75,
    "start_time": "2022-05-27T13:11:06.868Z"
   },
   {
    "duration": 13,
    "start_time": "2022-05-27T13:11:06.945Z"
   },
   {
    "duration": 32,
    "start_time": "2022-05-27T13:11:06.960Z"
   },
   {
    "duration": 31,
    "start_time": "2022-05-27T13:11:06.995Z"
   },
   {
    "duration": 16,
    "start_time": "2022-05-27T13:11:07.028Z"
   },
   {
    "duration": 29,
    "start_time": "2022-05-27T13:11:07.046Z"
   },
   {
    "duration": 6,
    "start_time": "2022-05-27T13:11:17.093Z"
   },
   {
    "duration": 15,
    "start_time": "2022-05-27T13:12:32.216Z"
   },
   {
    "duration": 81,
    "start_time": "2022-05-27T13:12:46.103Z"
   },
   {
    "duration": 14,
    "start_time": "2022-05-27T13:12:46.186Z"
   },
   {
    "duration": 15,
    "start_time": "2022-05-27T13:12:46.202Z"
   },
   {
    "duration": 19,
    "start_time": "2022-05-27T13:12:46.219Z"
   },
   {
    "duration": 11,
    "start_time": "2022-05-27T13:12:46.264Z"
   },
   {
    "duration": 31,
    "start_time": "2022-05-27T13:12:46.276Z"
   },
   {
    "duration": 6,
    "start_time": "2022-05-27T13:12:46.309Z"
   },
   {
    "duration": 23,
    "start_time": "2022-05-27T13:12:46.316Z"
   },
   {
    "duration": 7,
    "start_time": "2022-05-27T13:12:46.341Z"
   },
   {
    "duration": 6,
    "start_time": "2022-05-27T13:12:46.364Z"
   },
   {
    "duration": 16,
    "start_time": "2022-05-27T13:12:46.372Z"
   },
   {
    "duration": 12,
    "start_time": "2022-05-27T13:12:46.389Z"
   },
   {
    "duration": 10,
    "start_time": "2022-05-27T13:12:46.403Z"
   },
   {
    "duration": 11,
    "start_time": "2022-05-27T13:12:46.415Z"
   },
   {
    "duration": 11,
    "start_time": "2022-05-27T13:12:46.428Z"
   },
   {
    "duration": 26,
    "start_time": "2022-05-27T13:12:46.441Z"
   },
   {
    "duration": 23,
    "start_time": "2022-05-27T13:12:46.468Z"
   },
   {
    "duration": 23,
    "start_time": "2022-05-27T13:12:46.493Z"
   },
   {
    "duration": 18,
    "start_time": "2022-05-27T13:12:46.518Z"
   },
   {
    "duration": 5,
    "start_time": "2022-05-27T13:12:46.538Z"
   },
   {
    "duration": 10,
    "start_time": "2022-05-27T13:12:46.545Z"
   },
   {
    "duration": 10,
    "start_time": "2022-05-27T13:12:46.557Z"
   },
   {
    "duration": 41,
    "start_time": "2022-05-27T13:12:46.568Z"
   },
   {
    "duration": 9,
    "start_time": "2022-05-27T13:12:46.611Z"
   },
   {
    "duration": 16,
    "start_time": "2022-05-27T13:12:46.622Z"
   },
   {
    "duration": 26,
    "start_time": "2022-05-27T13:12:46.640Z"
   },
   {
    "duration": 10,
    "start_time": "2022-05-27T13:12:46.669Z"
   },
   {
    "duration": 14,
    "start_time": "2022-05-27T13:12:46.683Z"
   },
   {
    "duration": 12,
    "start_time": "2022-05-27T13:12:46.699Z"
   },
   {
    "duration": 12,
    "start_time": "2022-05-27T13:12:46.713Z"
   },
   {
    "duration": 47,
    "start_time": "2022-05-27T13:12:46.727Z"
   },
   {
    "duration": 6,
    "start_time": "2022-05-27T13:12:46.776Z"
   },
   {
    "duration": 11,
    "start_time": "2022-05-27T13:12:46.784Z"
   },
   {
    "duration": 28,
    "start_time": "2022-05-27T13:12:46.797Z"
   },
   {
    "duration": 7,
    "start_time": "2022-05-27T13:12:46.827Z"
   },
   {
    "duration": 32,
    "start_time": "2022-05-27T13:12:46.835Z"
   },
   {
    "duration": 7,
    "start_time": "2022-05-27T13:12:46.869Z"
   },
   {
    "duration": 17,
    "start_time": "2022-05-27T13:12:46.877Z"
   },
   {
    "duration": 13,
    "start_time": "2022-05-27T13:12:46.895Z"
   },
   {
    "duration": 7,
    "start_time": "2022-05-27T13:12:46.909Z"
   },
   {
    "duration": 8,
    "start_time": "2022-05-27T13:12:46.917Z"
   },
   {
    "duration": 18,
    "start_time": "2022-05-27T13:12:46.927Z"
   },
   {
    "duration": 9,
    "start_time": "2022-05-27T13:12:49.143Z"
   },
   {
    "duration": 83,
    "start_time": "2022-05-27T13:13:01.170Z"
   },
   {
    "duration": 14,
    "start_time": "2022-05-27T13:13:01.256Z"
   },
   {
    "duration": 29,
    "start_time": "2022-05-27T13:13:01.272Z"
   },
   {
    "duration": 32,
    "start_time": "2022-05-27T13:13:01.303Z"
   },
   {
    "duration": 15,
    "start_time": "2022-05-27T13:13:01.338Z"
   },
   {
    "duration": 33,
    "start_time": "2022-05-27T13:13:01.354Z"
   },
   {
    "duration": 7,
    "start_time": "2022-05-27T13:13:01.389Z"
   },
   {
    "duration": 17,
    "start_time": "2022-05-27T13:13:01.397Z"
   },
   {
    "duration": 10,
    "start_time": "2022-05-27T13:13:01.416Z"
   },
   {
    "duration": 18,
    "start_time": "2022-05-27T13:13:01.427Z"
   },
   {
    "duration": 11,
    "start_time": "2022-05-27T13:13:01.466Z"
   },
   {
    "duration": 25,
    "start_time": "2022-05-27T13:13:01.479Z"
   },
   {
    "duration": 14,
    "start_time": "2022-05-27T13:13:01.506Z"
   },
   {
    "duration": 14,
    "start_time": "2022-05-27T13:13:01.524Z"
   },
   {
    "duration": 12,
    "start_time": "2022-05-27T13:13:01.540Z"
   },
   {
    "duration": 15,
    "start_time": "2022-05-27T13:13:01.554Z"
   },
   {
    "duration": 10,
    "start_time": "2022-05-27T13:13:01.572Z"
   },
   {
    "duration": 8,
    "start_time": "2022-05-27T13:13:01.584Z"
   },
   {
    "duration": 11,
    "start_time": "2022-05-27T13:13:01.594Z"
   },
   {
    "duration": 11,
    "start_time": "2022-05-27T13:13:01.607Z"
   },
   {
    "duration": 11,
    "start_time": "2022-05-27T13:13:01.620Z"
   },
   {
    "duration": 35,
    "start_time": "2022-05-27T13:13:01.633Z"
   },
   {
    "duration": 47,
    "start_time": "2022-05-27T13:13:01.670Z"
   },
   {
    "duration": 11,
    "start_time": "2022-05-27T13:13:01.719Z"
   },
   {
    "duration": 11,
    "start_time": "2022-05-27T13:13:01.732Z"
   },
   {
    "duration": 29,
    "start_time": "2022-05-27T13:13:01.745Z"
   },
   {
    "duration": 10,
    "start_time": "2022-05-27T13:13:01.776Z"
   },
   {
    "duration": 24,
    "start_time": "2022-05-27T13:13:01.788Z"
   },
   {
    "duration": 31,
    "start_time": "2022-05-27T13:13:01.815Z"
   },
   {
    "duration": 27,
    "start_time": "2022-05-27T13:13:01.848Z"
   },
   {
    "duration": 38,
    "start_time": "2022-05-27T13:13:01.877Z"
   },
   {
    "duration": 7,
    "start_time": "2022-05-27T13:13:01.917Z"
   },
   {
    "duration": 12,
    "start_time": "2022-05-27T13:13:01.926Z"
   },
   {
    "duration": 45,
    "start_time": "2022-05-27T13:13:01.941Z"
   },
   {
    "duration": 9,
    "start_time": "2022-05-27T13:13:01.988Z"
   },
   {
    "duration": 16,
    "start_time": "2022-05-27T13:13:01.999Z"
   },
   {
    "duration": 33,
    "start_time": "2022-05-27T13:13:02.017Z"
   },
   {
    "duration": 9,
    "start_time": "2022-05-27T13:13:02.053Z"
   },
   {
    "duration": 13,
    "start_time": "2022-05-27T13:13:02.064Z"
   },
   {
    "duration": 5,
    "start_time": "2022-05-27T13:13:02.079Z"
   },
   {
    "duration": 7,
    "start_time": "2022-05-27T13:13:02.088Z"
   },
   {
    "duration": 22,
    "start_time": "2022-05-27T13:13:02.096Z"
   },
   {
    "duration": 21,
    "start_time": "2022-05-27T13:13:02.120Z"
   },
   {
    "duration": 37,
    "start_time": "2022-05-27T13:13:02.142Z"
   },
   {
    "duration": 24,
    "start_time": "2022-05-27T13:13:02.181Z"
   },
   {
    "duration": 20,
    "start_time": "2022-05-27T13:13:02.207Z"
   },
   {
    "duration": 40,
    "start_time": "2022-05-27T13:13:02.229Z"
   },
   {
    "duration": 7,
    "start_time": "2022-05-27T13:13:02.271Z"
   },
   {
    "duration": 10,
    "start_time": "2022-05-27T13:13:02.280Z"
   },
   {
    "duration": 20,
    "start_time": "2022-05-27T13:13:02.293Z"
   },
   {
    "duration": 16,
    "start_time": "2022-05-27T13:13:02.315Z"
   },
   {
    "duration": 40,
    "start_time": "2022-05-27T13:13:02.333Z"
   },
   {
    "duration": 20,
    "start_time": "2022-05-27T13:13:02.385Z"
   },
   {
    "duration": 12,
    "start_time": "2022-05-27T13:13:02.407Z"
   },
   {
    "duration": 0,
    "start_time": "2022-05-27T13:13:02.421Z"
   },
   {
    "duration": 0,
    "start_time": "2022-05-27T13:13:02.422Z"
   },
   {
    "duration": 0,
    "start_time": "2022-05-27T13:13:02.423Z"
   },
   {
    "duration": 7,
    "start_time": "2022-05-27T13:13:07.293Z"
   },
   {
    "duration": 11,
    "start_time": "2022-05-27T13:13:11.049Z"
   },
   {
    "duration": 10,
    "start_time": "2022-05-27T13:15:21.894Z"
   },
   {
    "duration": 10,
    "start_time": "2022-05-27T13:15:28.049Z"
   },
   {
    "duration": 10,
    "start_time": "2022-05-27T13:15:50.378Z"
   },
   {
    "duration": 4,
    "start_time": "2022-05-27T13:21:38.152Z"
   },
   {
    "duration": 11,
    "start_time": "2022-05-27T13:21:44.247Z"
   },
   {
    "duration": 411,
    "start_time": "2022-05-27T13:23:11.627Z"
   },
   {
    "duration": 16,
    "start_time": "2022-05-27T13:23:38.089Z"
   },
   {
    "duration": 44,
    "start_time": "2022-05-27T13:27:45.644Z"
   },
   {
    "duration": 18,
    "start_time": "2022-05-27T13:35:51.081Z"
   },
   {
    "duration": 18,
    "start_time": "2022-05-27T13:36:24.198Z"
   },
   {
    "duration": 17,
    "start_time": "2022-05-27T13:36:31.145Z"
   },
   {
    "duration": 16,
    "start_time": "2022-05-27T13:42:52.869Z"
   },
   {
    "duration": 20,
    "start_time": "2022-05-27T13:55:26.010Z"
   },
   {
    "duration": 17,
    "start_time": "2022-05-27T13:56:02.815Z"
   },
   {
    "duration": 20,
    "start_time": "2022-05-27T13:56:05.809Z"
   },
   {
    "duration": 17,
    "start_time": "2022-05-27T13:56:13.410Z"
   },
   {
    "duration": 17,
    "start_time": "2022-05-27T13:56:25.908Z"
   },
   {
    "duration": 21,
    "start_time": "2022-05-27T14:00:37.268Z"
   },
   {
    "duration": 20,
    "start_time": "2022-05-27T14:00:39.299Z"
   },
   {
    "duration": 21,
    "start_time": "2022-05-27T14:00:42.950Z"
   },
   {
    "duration": 20,
    "start_time": "2022-05-27T14:04:02.770Z"
   },
   {
    "duration": 28,
    "start_time": "2022-05-27T14:05:55.854Z"
   },
   {
    "duration": 21,
    "start_time": "2022-05-27T14:06:53.151Z"
   },
   {
    "duration": 24,
    "start_time": "2022-05-27T14:07:23.795Z"
   },
   {
    "duration": 20,
    "start_time": "2022-05-27T14:11:53.406Z"
   },
   {
    "duration": 23,
    "start_time": "2022-05-27T14:16:27.840Z"
   },
   {
    "duration": 28,
    "start_time": "2022-05-27T14:16:39.050Z"
   },
   {
    "duration": 32,
    "start_time": "2022-05-27T14:16:42.465Z"
   },
   {
    "duration": 36,
    "start_time": "2022-05-27T14:25:04.352Z"
   },
   {
    "duration": 440,
    "start_time": "2022-05-27T20:09:38.282Z"
   },
   {
    "duration": 17,
    "start_time": "2022-05-27T20:09:38.724Z"
   },
   {
    "duration": 15,
    "start_time": "2022-05-27T20:09:38.743Z"
   },
   {
    "duration": 32,
    "start_time": "2022-05-27T20:09:38.760Z"
   },
   {
    "duration": 14,
    "start_time": "2022-05-27T20:09:38.794Z"
   },
   {
    "duration": 17,
    "start_time": "2022-05-27T20:09:38.809Z"
   },
   {
    "duration": 6,
    "start_time": "2022-05-27T20:09:38.827Z"
   },
   {
    "duration": 9,
    "start_time": "2022-05-27T20:09:38.834Z"
   },
   {
    "duration": 7,
    "start_time": "2022-05-27T20:09:38.844Z"
   },
   {
    "duration": 5,
    "start_time": "2022-05-27T20:09:38.852Z"
   },
   {
    "duration": 9,
    "start_time": "2022-05-27T20:09:38.859Z"
   },
   {
    "duration": 7,
    "start_time": "2022-05-27T20:09:38.869Z"
   },
   {
    "duration": 8,
    "start_time": "2022-05-27T20:09:38.877Z"
   },
   {
    "duration": 6,
    "start_time": "2022-05-27T20:09:38.888Z"
   },
   {
    "duration": 7,
    "start_time": "2022-05-27T20:09:38.927Z"
   },
   {
    "duration": 19,
    "start_time": "2022-05-27T20:09:38.936Z"
   },
   {
    "duration": 10,
    "start_time": "2022-05-27T20:09:38.957Z"
   },
   {
    "duration": 11,
    "start_time": "2022-05-27T20:09:38.969Z"
   },
   {
    "duration": 10,
    "start_time": "2022-05-27T20:09:38.981Z"
   },
   {
    "duration": 8,
    "start_time": "2022-05-27T20:09:38.993Z"
   },
   {
    "duration": 16,
    "start_time": "2022-05-27T20:09:39.002Z"
   },
   {
    "duration": 10,
    "start_time": "2022-05-27T20:09:39.019Z"
   },
   {
    "duration": 31,
    "start_time": "2022-05-27T20:09:39.031Z"
   },
   {
    "duration": 8,
    "start_time": "2022-05-27T20:09:39.064Z"
   },
   {
    "duration": 13,
    "start_time": "2022-05-27T20:09:39.073Z"
   },
   {
    "duration": 12,
    "start_time": "2022-05-27T20:09:39.087Z"
   },
   {
    "duration": 10,
    "start_time": "2022-05-27T20:09:39.100Z"
   },
   {
    "duration": 8,
    "start_time": "2022-05-27T20:09:39.127Z"
   },
   {
    "duration": 20,
    "start_time": "2022-05-27T20:09:39.137Z"
   },
   {
    "duration": 14,
    "start_time": "2022-05-27T20:09:39.159Z"
   },
   {
    "duration": 21,
    "start_time": "2022-05-27T20:09:39.175Z"
   },
   {
    "duration": 6,
    "start_time": "2022-05-27T20:09:39.198Z"
   },
   {
    "duration": 23,
    "start_time": "2022-05-27T20:09:39.206Z"
   },
   {
    "duration": 39,
    "start_time": "2022-05-27T20:09:39.231Z"
   },
   {
    "duration": 6,
    "start_time": "2022-05-27T20:09:39.272Z"
   },
   {
    "duration": 11,
    "start_time": "2022-05-27T20:09:39.280Z"
   },
   {
    "duration": 8,
    "start_time": "2022-05-27T20:09:39.292Z"
   },
   {
    "duration": 4,
    "start_time": "2022-05-27T20:09:39.302Z"
   },
   {
    "duration": 20,
    "start_time": "2022-05-27T20:09:39.308Z"
   },
   {
    "duration": 4,
    "start_time": "2022-05-27T20:09:39.330Z"
   },
   {
    "duration": 5,
    "start_time": "2022-05-27T20:09:39.339Z"
   },
   {
    "duration": 21,
    "start_time": "2022-05-27T20:09:39.346Z"
   },
   {
    "duration": 7,
    "start_time": "2022-05-27T20:09:39.368Z"
   },
   {
    "duration": 20,
    "start_time": "2022-05-27T20:09:39.376Z"
   },
   {
    "duration": 38,
    "start_time": "2022-05-27T20:09:39.397Z"
   },
   {
    "duration": 18,
    "start_time": "2022-05-27T20:09:39.436Z"
   },
   {
    "duration": 11,
    "start_time": "2022-05-27T20:09:39.455Z"
   },
   {
    "duration": 6,
    "start_time": "2022-05-27T20:09:39.467Z"
   },
   {
    "duration": 12,
    "start_time": "2022-05-27T20:09:39.475Z"
   },
   {
    "duration": 45,
    "start_time": "2022-05-27T20:09:39.488Z"
   },
   {
    "duration": 17,
    "start_time": "2022-05-27T20:09:39.535Z"
   },
   {
    "duration": 21,
    "start_time": "2022-05-27T20:09:39.553Z"
   },
   {
    "duration": 40,
    "start_time": "2022-05-27T20:09:39.576Z"
   },
   {
    "duration": 52,
    "start_time": "2022-05-27T20:09:39.617Z"
   },
   {
    "duration": 26,
    "start_time": "2022-05-27T20:09:39.671Z"
   },
   {
    "duration": 37,
    "start_time": "2022-05-27T20:09:39.699Z"
   },
   {
    "duration": 21,
    "start_time": "2022-05-27T20:09:39.738Z"
   },
   {
    "duration": 15,
    "start_time": "2022-05-27T20:09:39.760Z"
   },
   {
    "duration": 37,
    "start_time": "2022-05-27T20:09:39.777Z"
   },
   {
    "duration": 18,
    "start_time": "2022-05-27T20:12:53.806Z"
   },
   {
    "duration": 36,
    "start_time": "2022-05-27T20:15:49.132Z"
   },
   {
    "duration": 32,
    "start_time": "2022-05-27T20:17:20.159Z"
   },
   {
    "duration": 10,
    "start_time": "2022-05-27T20:17:56.839Z"
   },
   {
    "duration": 87,
    "start_time": "2022-05-28T07:33:43.548Z"
   },
   {
    "duration": 530,
    "start_time": "2022-05-28T07:33:48.331Z"
   },
   {
    "duration": 660,
    "start_time": "2022-05-28T07:33:51.085Z"
   },
   {
    "duration": 68,
    "start_time": "2022-05-28T07:34:57.917Z"
   },
   {
    "duration": 3,
    "start_time": "2022-05-28T07:35:23.412Z"
   },
   {
    "duration": 33,
    "start_time": "2022-05-29T06:25:53.171Z"
   },
   {
    "duration": 2,
    "start_time": "2022-05-29T06:32:02.454Z"
   },
   {
    "duration": 27,
    "start_time": "2022-05-29T06:40:19.092Z"
   },
   {
    "duration": 926,
    "start_time": "2022-05-29T06:55:37.031Z"
   },
   {
    "duration": 280,
    "start_time": "2022-05-29T06:55:37.959Z"
   },
   {
    "duration": 28,
    "start_time": "2022-05-29T06:55:38.241Z"
   },
   {
    "duration": 16,
    "start_time": "2022-05-29T06:55:38.271Z"
   },
   {
    "duration": 23,
    "start_time": "2022-05-29T06:55:38.290Z"
   },
   {
    "duration": 12,
    "start_time": "2022-05-29T06:55:38.315Z"
   },
   {
    "duration": 44,
    "start_time": "2022-05-29T06:55:38.329Z"
   },
   {
    "duration": 5,
    "start_time": "2022-05-29T06:55:38.375Z"
   },
   {
    "duration": 12,
    "start_time": "2022-05-29T06:55:38.382Z"
   },
   {
    "duration": 7,
    "start_time": "2022-05-29T06:55:38.395Z"
   },
   {
    "duration": 19,
    "start_time": "2022-05-29T06:55:38.404Z"
   },
   {
    "duration": 10,
    "start_time": "2022-05-29T06:55:38.424Z"
   },
   {
    "duration": 17,
    "start_time": "2022-05-29T06:55:38.436Z"
   },
   {
    "duration": 12,
    "start_time": "2022-05-29T06:55:38.456Z"
   },
   {
    "duration": 11,
    "start_time": "2022-05-29T06:55:38.469Z"
   },
   {
    "duration": 14,
    "start_time": "2022-05-29T06:55:38.481Z"
   },
   {
    "duration": 9,
    "start_time": "2022-05-29T06:55:38.496Z"
   },
   {
    "duration": 8,
    "start_time": "2022-05-29T06:55:38.507Z"
   },
   {
    "duration": 13,
    "start_time": "2022-05-29T06:55:38.516Z"
   },
   {
    "duration": 22,
    "start_time": "2022-05-29T06:55:38.531Z"
   },
   {
    "duration": 7,
    "start_time": "2022-05-29T06:55:38.555Z"
   },
   {
    "duration": 11,
    "start_time": "2022-05-29T06:55:38.563Z"
   },
   {
    "duration": 8,
    "start_time": "2022-05-29T06:55:38.576Z"
   },
   {
    "duration": 32,
    "start_time": "2022-05-29T06:55:38.585Z"
   },
   {
    "duration": 9,
    "start_time": "2022-05-29T06:55:38.619Z"
   },
   {
    "duration": 29,
    "start_time": "2022-05-29T06:55:38.630Z"
   },
   {
    "duration": 8,
    "start_time": "2022-05-29T06:55:38.660Z"
   },
   {
    "duration": 2,
    "start_time": "2022-05-29T06:55:38.670Z"
   },
   {
    "duration": 5,
    "start_time": "2022-05-29T06:55:38.674Z"
   },
   {
    "duration": 15,
    "start_time": "2022-05-29T06:55:38.680Z"
   },
   {
    "duration": 10,
    "start_time": "2022-05-29T06:55:38.696Z"
   },
   {
    "duration": 52,
    "start_time": "2022-05-29T06:55:38.707Z"
   },
   {
    "duration": 7,
    "start_time": "2022-05-29T06:55:38.760Z"
   },
   {
    "duration": 8,
    "start_time": "2022-05-29T06:55:38.768Z"
   },
   {
    "duration": 26,
    "start_time": "2022-05-29T06:55:38.778Z"
   },
   {
    "duration": 5,
    "start_time": "2022-05-29T06:55:38.806Z"
   },
   {
    "duration": 8,
    "start_time": "2022-05-29T06:55:38.812Z"
   },
   {
    "duration": 32,
    "start_time": "2022-05-29T06:55:38.821Z"
   },
   {
    "duration": 10,
    "start_time": "2022-05-29T06:55:38.855Z"
   },
   {
    "duration": 8,
    "start_time": "2022-05-29T06:55:38.867Z"
   },
   {
    "duration": 4,
    "start_time": "2022-05-29T06:55:38.879Z"
   },
   {
    "duration": 7,
    "start_time": "2022-05-29T06:55:38.884Z"
   },
   {
    "duration": 19,
    "start_time": "2022-05-29T06:55:38.892Z"
   },
   {
    "duration": 7,
    "start_time": "2022-05-29T06:55:38.912Z"
   },
   {
    "duration": 43,
    "start_time": "2022-05-29T06:55:38.920Z"
   },
   {
    "duration": 20,
    "start_time": "2022-05-29T06:55:38.965Z"
   },
   {
    "duration": 17,
    "start_time": "2022-05-29T06:55:38.987Z"
   },
   {
    "duration": 11,
    "start_time": "2022-05-29T06:55:39.005Z"
   },
   {
    "duration": 8,
    "start_time": "2022-05-29T06:55:39.017Z"
   },
   {
    "duration": 34,
    "start_time": "2022-05-29T06:55:39.027Z"
   },
   {
    "duration": 20,
    "start_time": "2022-05-29T06:55:39.063Z"
   },
   {
    "duration": 11,
    "start_time": "2022-05-29T06:55:39.084Z"
   },
   {
    "duration": 11,
    "start_time": "2022-05-29T06:55:39.096Z"
   },
   {
    "duration": 20,
    "start_time": "2022-05-29T06:55:39.108Z"
   },
   {
    "duration": 33,
    "start_time": "2022-05-29T06:55:39.130Z"
   },
   {
    "duration": 13,
    "start_time": "2022-05-29T06:55:39.164Z"
   },
   {
    "duration": 16,
    "start_time": "2022-05-29T06:55:39.179Z"
   },
   {
    "duration": 15,
    "start_time": "2022-05-29T06:55:39.196Z"
   },
   {
    "duration": 45,
    "start_time": "2022-05-29T06:55:39.213Z"
   },
   {
    "duration": 34,
    "start_time": "2022-05-29T06:55:39.261Z"
   }
  ],
  "kernelspec": {
   "display_name": "Python 3 (ipykernel)",
   "language": "python",
   "name": "python3"
  },
  "language_info": {
   "codemirror_mode": {
    "name": "ipython",
    "version": 3
   },
   "file_extension": ".py",
   "mimetype": "text/x-python",
   "name": "python",
   "nbconvert_exporter": "python",
   "pygments_lexer": "ipython3",
   "version": "3.9.16"
  },
  "toc": {
   "base_numbering": 1,
   "nav_menu": {},
   "number_sections": true,
   "sideBar": true,
   "skip_h1_title": true,
   "title_cell": "Содержание",
   "title_sidebar": "Contents",
   "toc_cell": true,
   "toc_position": {
    "height": "calc(100% - 180px)",
    "left": "10px",
    "top": "150px",
    "width": "234.396px"
   },
   "toc_section_display": true,
   "toc_window_display": true
  }
 },
 "nbformat": 4,
 "nbformat_minor": 5
}
